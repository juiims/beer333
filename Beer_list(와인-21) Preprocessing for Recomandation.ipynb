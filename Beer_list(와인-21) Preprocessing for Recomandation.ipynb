{
 "cells": [
  {
   "cell_type": "markdown",
   "metadata": {},
   "source": [
    "# 데이터 불러오기"
   ]
  },
  {
   "cell_type": "code",
   "execution_count": 1081,
   "metadata": {},
   "outputs": [],
   "source": [
    "import pandas as pd"
   ]
  },
  {
   "cell_type": "code",
   "execution_count": 1082,
   "metadata": {},
   "outputs": [],
   "source": [
    "data = pd.read_csv(\"../data/beer4EDA.csv\",encoding='utf-8')"
   ]
  },
  {
   "cell_type": "markdown",
   "metadata": {},
   "source": [
    "# 불러온 데이터 확인"
   ]
  },
  {
   "cell_type": "code",
   "execution_count": 1083,
   "metadata": {},
   "outputs": [
    {
     "data": {
      "text/html": [
       "<div>\n",
       "<style scoped>\n",
       "    .dataframe tbody tr th:only-of-type {\n",
       "        vertical-align: middle;\n",
       "    }\n",
       "\n",
       "    .dataframe tbody tr th {\n",
       "        vertical-align: top;\n",
       "    }\n",
       "\n",
       "    .dataframe thead th {\n",
       "        text-align: right;\n",
       "    }\n",
       "</style>\n",
       "<table border=\"1\" class=\"dataframe\">\n",
       "  <thead>\n",
       "    <tr style=\"text-align: right;\">\n",
       "      <th></th>\n",
       "      <th>num</th>\n",
       "      <th>상품명_kor</th>\n",
       "      <th>상품명_eng</th>\n",
       "      <th>도수</th>\n",
       "      <th>원재료</th>\n",
       "      <th>홉종류</th>\n",
       "      <th>IBU</th>\n",
       "      <th>SRM</th>\n",
       "      <th>정보</th>\n",
       "      <th>생산자_kor</th>\n",
       "      <th>생산자_eng</th>\n",
       "      <th>생산지역_kor</th>\n",
       "      <th>생산지역_eng</th>\n",
       "      <th>맥주타입</th>\n",
       "      <th>가격</th>\n",
       "    </tr>\n",
       "  </thead>\n",
       "  <tbody>\n",
       "    <tr>\n",
       "      <th>1142</th>\n",
       "      <td>1136</td>\n",
       "      <td>가펠 쾰쉬</td>\n",
       "      <td>Gaffel Kolsch</td>\n",
       "      <td>4.8</td>\n",
       "      <td>정제수, 맥아, 홉, 효모</td>\n",
       "      <td>-</td>\n",
       "      <td>25</td>\n",
       "      <td>-</td>\n",
       "      <td>에일 효모를 이용한 맥주. 에일 맥주의 고유의 청사과, 꽃, 허니 등의 고급스러운 ...</td>\n",
       "      <td>프라이빗 브루어리 가펠 베커 앤 컴퍼니</td>\n",
       "      <td>Brivatbrauerei Gaffel Becker &amp; Company</td>\n",
       "      <td>쾰른</td>\n",
       "      <td>Koln</td>\n",
       "      <td>쾰쉬</td>\n",
       "      <td>3500</td>\n",
       "    </tr>\n",
       "  </tbody>\n",
       "</table>\n",
       "</div>"
      ],
      "text/plain": [
       "       num 상품명_kor        상품명_eng   도수             원재료 홉종류 IBU SRM  \\\n",
       "1142  1136   가펠 쾰쉬  Gaffel Kolsch  4.8  정제수, 맥아, 홉, 효모   -  25   -   \n",
       "\n",
       "                                                     정보  \\\n",
       "1142  에일 효모를 이용한 맥주. 에일 맥주의 고유의 청사과, 꽃, 허니 등의 고급스러운 ...   \n",
       "\n",
       "                    생산자_kor                                 생산자_eng 생산지역_kor  \\\n",
       "1142  프라이빗 브루어리 가펠 베커 앤 컴퍼니  Brivatbrauerei Gaffel Becker & Company       쾰른   \n",
       "\n",
       "     생산지역_eng 맥주타입    가격  \n",
       "1142     Koln  쾰쉬   3500  "
      ]
     },
     "execution_count": 1083,
     "metadata": {},
     "output_type": "execute_result"
    }
   ],
   "source": [
    "data.tail(1)"
   ]
  },
  {
   "cell_type": "markdown",
   "metadata": {},
   "source": [
    "### 전처리 리스트\n",
    "1. 컬럼삭제 (num, 상품명_eng, 홉종류, IBU, SRM, 정보, 생산자_eng, 생산지역_eng\n",
    "2. 컬럼이름 변경({상품명_kor:상품명}, {생산자_kor:생산자},{생산지역_kor:생산지역})\n",
    "3. 도수 : (상/중/하)로 나눈 후 one-hot encoding\n",
    "4. 원재료 : [정제수,맥아,홉,효모]를 각각 컬럼으로 나눈 뒤 one-hot encoding\n",
    "5. 생산지역 : one-hot encoding\n",
    "6. 생산자 : one-hot encoding\n",
    "7. 맥주타입 : one-hot encoding + 가중치\n",
    "8. 가격 : (상/중/하)로 나눈 후 one-hot encoding"
   ]
  },
  {
   "cell_type": "markdown",
   "metadata": {},
   "source": [
    "\n",
    "#### 1. 컬럼삭제 (num, 상품명_eng, 홉종류, IBU, SRM, 정보, 생산자_eng, 생산지역_eng)"
   ]
  },
  {
   "cell_type": "code",
   "execution_count": 1084,
   "metadata": {},
   "outputs": [],
   "source": [
    "data.drop(['num', '상품명_eng', '홉종류', 'IBU', 'SRM', '정보', '생산자_eng', '생산지역_eng'], axis=1, inplace=True)"
   ]
  },
  {
   "cell_type": "code",
   "execution_count": 1085,
   "metadata": {},
   "outputs": [
    {
     "data": {
      "text/html": [
       "<div>\n",
       "<style scoped>\n",
       "    .dataframe tbody tr th:only-of-type {\n",
       "        vertical-align: middle;\n",
       "    }\n",
       "\n",
       "    .dataframe tbody tr th {\n",
       "        vertical-align: top;\n",
       "    }\n",
       "\n",
       "    .dataframe thead th {\n",
       "        text-align: right;\n",
       "    }\n",
       "</style>\n",
       "<table border=\"1\" class=\"dataframe\">\n",
       "  <thead>\n",
       "    <tr style=\"text-align: right;\">\n",
       "      <th></th>\n",
       "      <th>상품명_kor</th>\n",
       "      <th>도수</th>\n",
       "      <th>원재료</th>\n",
       "      <th>생산자_kor</th>\n",
       "      <th>생산지역_kor</th>\n",
       "      <th>맥주타입</th>\n",
       "      <th>가격</th>\n",
       "    </tr>\n",
       "  </thead>\n",
       "  <tbody>\n",
       "    <tr>\n",
       "      <th>0</th>\n",
       "      <td>마튼즈, 라이거 필스너</td>\n",
       "      <td>8.0</td>\n",
       "      <td>-</td>\n",
       "      <td>마튼즈</td>\n",
       "      <td>벨기에</td>\n",
       "      <td>필스너</td>\n",
       "      <td>5850</td>\n",
       "    </tr>\n",
       "  </tbody>\n",
       "</table>\n",
       "</div>"
      ],
      "text/plain": [
       "        상품명_kor   도수 원재료 생산자_kor 생산지역_kor 맥주타입    가격\n",
       "0  마튼즈, 라이거 필스너  8.0   -     마튼즈      벨기에  필스너  5850"
      ]
     },
     "execution_count": 1085,
     "metadata": {},
     "output_type": "execute_result"
    }
   ],
   "source": [
    "data.head(1)"
   ]
  },
  {
   "cell_type": "markdown",
   "metadata": {},
   "source": [
    "#### 2. 컬럼이름 변경({상품명_kor:상품명}, {생산자_kor:생산자},{생산지역_kor:생산지역})"
   ]
  },
  {
   "cell_type": "code",
   "execution_count": 1086,
   "metadata": {},
   "outputs": [],
   "source": [
    "data.rename(columns={'상품명_kor':'상품명','생산자_kor':'생산자','생산지역_kor':'생산지역'},inplace=True)"
   ]
  },
  {
   "cell_type": "code",
   "execution_count": 1087,
   "metadata": {},
   "outputs": [
    {
     "data": {
      "text/html": [
       "<div>\n",
       "<style scoped>\n",
       "    .dataframe tbody tr th:only-of-type {\n",
       "        vertical-align: middle;\n",
       "    }\n",
       "\n",
       "    .dataframe tbody tr th {\n",
       "        vertical-align: top;\n",
       "    }\n",
       "\n",
       "    .dataframe thead th {\n",
       "        text-align: right;\n",
       "    }\n",
       "</style>\n",
       "<table border=\"1\" class=\"dataframe\">\n",
       "  <thead>\n",
       "    <tr style=\"text-align: right;\">\n",
       "      <th></th>\n",
       "      <th>상품명</th>\n",
       "      <th>도수</th>\n",
       "      <th>원재료</th>\n",
       "      <th>생산자</th>\n",
       "      <th>생산지역</th>\n",
       "      <th>맥주타입</th>\n",
       "      <th>가격</th>\n",
       "    </tr>\n",
       "  </thead>\n",
       "  <tbody>\n",
       "    <tr>\n",
       "      <th>0</th>\n",
       "      <td>마튼즈, 라이거 필스너</td>\n",
       "      <td>8.0</td>\n",
       "      <td>-</td>\n",
       "      <td>마튼즈</td>\n",
       "      <td>벨기에</td>\n",
       "      <td>필스너</td>\n",
       "      <td>5850</td>\n",
       "    </tr>\n",
       "  </tbody>\n",
       "</table>\n",
       "</div>"
      ],
      "text/plain": [
       "            상품명   도수 원재료  생산자 생산지역 맥주타입    가격\n",
       "0  마튼즈, 라이거 필스너  8.0   -  마튼즈  벨기에  필스너  5850"
      ]
     },
     "execution_count": 1087,
     "metadata": {},
     "output_type": "execute_result"
    }
   ],
   "source": [
    "data.head(1)"
   ]
  },
  {
   "cell_type": "markdown",
   "metadata": {},
   "source": [
    "#### 3. 도수 : (상/중/하)로 나눈 후 one-hot encoding"
   ]
  },
  {
   "cell_type": "code",
   "execution_count": 1088,
   "metadata": {},
   "outputs": [],
   "source": [
    "import matplotlib.pyplot as plt\n",
    "\n",
    "import seaborn as sns\n",
    "\n",
    "from matplotlib import font_manager, rc\n",
    "plt.rcParams['axes.unicode_minus'] = False\n",
    "\n",
    "path = 'c://Windows/Fonts/malgun.ttf'\n",
    "\n",
    "font_name = font_manager.FontProperties(fname=path).get_name()\n",
    "rc('font', family=font_name)"
   ]
  },
  {
   "cell_type": "markdown",
   "metadata": {},
   "source": [
    "##### 3-1. 도수의 현재 형타입인 str에서 float으로 변환\n",
    "- 입력값 중에 '-'은 0으로 변환"
   ]
  },
  {
   "cell_type": "code",
   "execution_count": 1089,
   "metadata": {},
   "outputs": [],
   "source": [
    "for i in range(len(data)):\n",
    "    try: data['도수'][i] = float(data['도수'][i])\n",
    "    except ValueError:\n",
    "        data['도수'][i] = 0.0"
   ]
  },
  {
   "cell_type": "markdown",
   "metadata": {},
   "source": [
    "##### 상/중/하를 나누기 위해 3-2 데이터분포 살펴보기"
   ]
  },
  {
   "cell_type": "code",
   "execution_count": 1090,
   "metadata": {},
   "outputs": [],
   "source": [
    "from scipy.stats import describe"
   ]
  },
  {
   "cell_type": "code",
   "execution_count": 1091,
   "metadata": {},
   "outputs": [
    {
     "data": {
      "text/plain": [
       "<matplotlib.axes._subplots.AxesSubplot at 0x23fe3134438>"
      ]
     },
     "execution_count": 1091,
     "metadata": {},
     "output_type": "execute_result"
    },
    {
     "data": {
      "image/png": "[encoded data removed]",
      "text/plain": [
       "<Figure size 432x288 with 1 Axes>"
      ]
     },
     "metadata": {
      "needs_background": "light"
     },
     "output_type": "display_data"
    }
   ],
   "source": [
    "sns.boxplot(data['도수'])"
   ]
  },
  {
   "cell_type": "code",
   "execution_count": 1092,
   "metadata": {},
   "outputs": [
    {
     "name": "stdout",
     "output_type": "stream",
     "text": [
      "DescribeResult(nobs=1143, minmax=(0.0, 14.2), mean=6.312882764654411, variance=4.428056502881309, skewness=0.6764487684533427, kurtosis=1.1795961894712503)\n",
      "1분위 수:  5.0\n"
     ]
    }
   ],
   "source": [
    "print(describe(data['도수']))\n",
    "print('1분위 수: ',np.percentile(data['도수'], 25))"
   ]
  },
  {
   "cell_type": "markdown",
   "metadata": {},
   "source": [
    "2분위수 데이터의 밀도가 높으므로 2분위수를 기준으로 상/중/하를 나눈다\n",
    "1. 6.31 초과 : 상\n",
    "2. 5~6.31 : 중\n",
    "3. 5 미만 : 하"
   ]
  },
  {
   "cell_type": "markdown",
   "metadata": {},
   "source": [
    "##### 3-3 상/중/하로 치환"
   ]
  },
  {
   "cell_type": "code",
   "execution_count": 1093,
   "metadata": {},
   "outputs": [],
   "source": [
    "for i in range(len(data)):\n",
    "    if data['도수'][i] > 6.31 : data['도수'][i] = '도수(상)'\n",
    "    elif data['도수'][i] < 3.5 : data['도수'][i] = '도수(하)'\n",
    "    else : data['도수'][i] = '도수(중)' "
   ]
  },
  {
   "cell_type": "code",
   "execution_count": 1094,
   "metadata": {},
   "outputs": [
    {
     "data": {
      "text/plain": [
       "0    도수(상)\n",
       "1    도수(상)\n",
       "2    도수(중)\n",
       "Name: 도수, dtype: object"
      ]
     },
     "execution_count": 1094,
     "metadata": {},
     "output_type": "execute_result"
    }
   ],
   "source": [
    "data['도수'].head(3)"
   ]
  },
  {
   "cell_type": "code",
   "execution_count": 1095,
   "metadata": {},
   "outputs": [
    {
     "data": {
      "text/plain": [
       "(array([473.,   0.,   0.,   0.,   0., 640.,   0.,   0.,   0.,  30.]),\n",
       " array([0. , 0.2, 0.4, 0.6, 0.8, 1. , 1.2, 1.4, 1.6, 1.8, 2. ]),\n",
       " <a list of 10 Patch objects>)"
      ]
     },
     "execution_count": 1095,
     "metadata": {},
     "output_type": "execute_result"
    },
    {
     "data": {
      "image/png": "[encoded data removed]",
      "text/plain": [
       "<Figure size 432x288 with 1 Axes>"
      ]
     },
     "metadata": {
      "needs_background": "light"
     },
     "output_type": "display_data"
    }
   ],
   "source": [
    "plt.hist(data['도수'])"
   ]
  },
  {
   "cell_type": "markdown",
   "metadata": {},
   "source": [
    "도수(상)이 다소 많음 : (1) 외국맥주 특성이 반영된 것? (2) 분리기준 잘못 세운거?<br>\n",
    "인터넷 검색결과, 한국맥주는 4.2~5.3으로 해외 맥주에 비하여 도수가 낮다.<br> 따라서 도수(중 : 5~6.3)의 기준도 한국인의 기준에서 높게 반영됐다고 할 수 있다. "
   ]
  },
  {
   "cell_type": "markdown",
   "metadata": {},
   "source": [
    "##### 3-4 원-핫 인코딩"
   ]
  },
  {
   "cell_type": "code",
   "execution_count": 1096,
   "metadata": {},
   "outputs": [
    {
     "data": {
      "text/html": [
       "<div>\n",
       "<style scoped>\n",
       "    .dataframe tbody tr th:only-of-type {\n",
       "        vertical-align: middle;\n",
       "    }\n",
       "\n",
       "    .dataframe tbody tr th {\n",
       "        vertical-align: top;\n",
       "    }\n",
       "\n",
       "    .dataframe thead th {\n",
       "        text-align: right;\n",
       "    }\n",
       "</style>\n",
       "<table border=\"1\" class=\"dataframe\">\n",
       "  <thead>\n",
       "    <tr style=\"text-align: right;\">\n",
       "      <th></th>\n",
       "      <th>도수(상)</th>\n",
       "      <th>도수(중)</th>\n",
       "      <th>도수(하)</th>\n",
       "    </tr>\n",
       "  </thead>\n",
       "  <tbody>\n",
       "    <tr>\n",
       "      <th>0</th>\n",
       "      <td>1</td>\n",
       "      <td>0</td>\n",
       "      <td>0</td>\n",
       "    </tr>\n",
       "    <tr>\n",
       "      <th>1</th>\n",
       "      <td>1</td>\n",
       "      <td>0</td>\n",
       "      <td>0</td>\n",
       "    </tr>\n",
       "    <tr>\n",
       "      <th>2</th>\n",
       "      <td>0</td>\n",
       "      <td>1</td>\n",
       "      <td>0</td>\n",
       "    </tr>\n",
       "    <tr>\n",
       "      <th>3</th>\n",
       "      <td>0</td>\n",
       "      <td>1</td>\n",
       "      <td>0</td>\n",
       "    </tr>\n",
       "    <tr>\n",
       "      <th>4</th>\n",
       "      <td>0</td>\n",
       "      <td>1</td>\n",
       "      <td>0</td>\n",
       "    </tr>\n",
       "    <tr>\n",
       "      <th>...</th>\n",
       "      <td>...</td>\n",
       "      <td>...</td>\n",
       "      <td>...</td>\n",
       "    </tr>\n",
       "    <tr>\n",
       "      <th>1138</th>\n",
       "      <td>0</td>\n",
       "      <td>1</td>\n",
       "      <td>0</td>\n",
       "    </tr>\n",
       "    <tr>\n",
       "      <th>1139</th>\n",
       "      <td>0</td>\n",
       "      <td>1</td>\n",
       "      <td>0</td>\n",
       "    </tr>\n",
       "    <tr>\n",
       "      <th>1140</th>\n",
       "      <td>0</td>\n",
       "      <td>1</td>\n",
       "      <td>0</td>\n",
       "    </tr>\n",
       "    <tr>\n",
       "      <th>1141</th>\n",
       "      <td>0</td>\n",
       "      <td>1</td>\n",
       "      <td>0</td>\n",
       "    </tr>\n",
       "    <tr>\n",
       "      <th>1142</th>\n",
       "      <td>0</td>\n",
       "      <td>1</td>\n",
       "      <td>0</td>\n",
       "    </tr>\n",
       "  </tbody>\n",
       "</table>\n",
       "<p>1143 rows × 3 columns</p>\n",
       "</div>"
      ],
      "text/plain": [
       "      도수(상)  도수(중)  도수(하)\n",
       "0         1      0      0\n",
       "1         1      0      0\n",
       "2         0      1      0\n",
       "3         0      1      0\n",
       "4         0      1      0\n",
       "...     ...    ...    ...\n",
       "1138      0      1      0\n",
       "1139      0      1      0\n",
       "1140      0      1      0\n",
       "1141      0      1      0\n",
       "1142      0      1      0\n",
       "\n",
       "[1143 rows x 3 columns]"
      ]
     },
     "execution_count": 1096,
     "metadata": {},
     "output_type": "execute_result"
    }
   ],
   "source": [
    "도수_one_hot = pd.get_dummies(data['도수'])\n",
    "도수_one_hot"
   ]
  },
  {
   "cell_type": "markdown",
   "metadata": {},
   "source": [
    "##### 3-4 도수컬럼 삭제"
   ]
  },
  {
   "cell_type": "code",
   "execution_count": 1097,
   "metadata": {},
   "outputs": [],
   "source": [
    "data.drop(['도수'], axis=1, inplace=True)"
   ]
  },
  {
   "cell_type": "code",
   "execution_count": 1098,
   "metadata": {},
   "outputs": [
    {
     "data": {
      "text/html": [
       "<div>\n",
       "<style scoped>\n",
       "    .dataframe tbody tr th:only-of-type {\n",
       "        vertical-align: middle;\n",
       "    }\n",
       "\n",
       "    .dataframe tbody tr th {\n",
       "        vertical-align: top;\n",
       "    }\n",
       "\n",
       "    .dataframe thead th {\n",
       "        text-align: right;\n",
       "    }\n",
       "</style>\n",
       "<table border=\"1\" class=\"dataframe\">\n",
       "  <thead>\n",
       "    <tr style=\"text-align: right;\">\n",
       "      <th></th>\n",
       "      <th>상품명</th>\n",
       "      <th>원재료</th>\n",
       "      <th>생산자</th>\n",
       "      <th>생산지역</th>\n",
       "      <th>맥주타입</th>\n",
       "      <th>가격</th>\n",
       "    </tr>\n",
       "  </thead>\n",
       "  <tbody>\n",
       "    <tr>\n",
       "      <th>0</th>\n",
       "      <td>마튼즈, 라이거 필스너</td>\n",
       "      <td>-</td>\n",
       "      <td>마튼즈</td>\n",
       "      <td>벨기에</td>\n",
       "      <td>필스너</td>\n",
       "      <td>5850</td>\n",
       "    </tr>\n",
       "  </tbody>\n",
       "</table>\n",
       "</div>"
      ],
      "text/plain": [
       "            상품명 원재료  생산자 생산지역 맥주타입    가격\n",
       "0  마튼즈, 라이거 필스너   -  마튼즈  벨기에  필스너  5850"
      ]
     },
     "execution_count": 1098,
     "metadata": {},
     "output_type": "execute_result"
    }
   ],
   "source": [
    "data.head(1)"
   ]
  },
  {
   "cell_type": "markdown",
   "metadata": {},
   "source": [
    "#### 4. 원재료 : [정제수,맥아,홉,효모]를 각각 컬럼으로 나눈 뒤 one-hot encoding"
   ]
  },
  {
   "cell_type": "markdown",
   "metadata": {},
   "source": [
    "#### 4-1 한 데이터셀 내에 값을 분리\n",
    "(ex) '정제수, 보리맥아, 귀리맥아' => '정제수','보리맥아','귀리맥아'"
   ]
  },
  {
   "cell_type": "code",
   "execution_count": 1099,
   "metadata": {},
   "outputs": [],
   "source": [
    "import re"
   ]
  },
  {
   "cell_type": "code",
   "execution_count": 1100,
   "metadata": {},
   "outputs": [],
   "source": [
    "pattern = re.compile(',')"
   ]
  },
  {
   "cell_type": "code",
   "execution_count": 1101,
   "metadata": {},
   "outputs": [
    {
     "data": {
      "text/plain": [
       "[['-'],\n",
       " ['-'],\n",
       " ['-'],\n",
       " ['-'],\n",
       " ['-'],\n",
       " ['-'],\n",
       " ['-'],\n",
       " ['-'],\n",
       " ['-'],\n",
       " ['-'],\n",
       " ['-'],\n",
       " ['-'],\n",
       " ['정제수', ' 보리맥아', ' 귀리맥아', ' 설탕', ' 스페인 감초 분말', ' 호프', ' 효모'],\n",
       " ['정제수', ' 보리맥아', ' 호프', ' 효모']]"
      ]
     },
     "execution_count": 1101,
     "metadata": {},
     "output_type": "execute_result"
    }
   ],
   "source": [
    "spilted =[]\n",
    "for i in range(len(data)):\n",
    "    spilted.append(pattern.split(data['원재료'][i]))\n",
    "spilted[:14]"
   ]
  },
  {
   "cell_type": "markdown",
   "metadata": {},
   "source": [
    "##### 4-2 위에서 만든 spilted의 리스트 차원을 제거하여 1차원배열로 만든다"
   ]
  },
  {
   "cell_type": "code",
   "execution_count": 1102,
   "metadata": {},
   "outputs": [],
   "source": [
    "원재료=[]\n",
    "for i in range(len(spilted)):\n",
    "    for j in splited[i]:\n",
    "        원재료.append(j)"
   ]
  },
  {
   "cell_type": "code",
   "execution_count": 1103,
   "metadata": {},
   "outputs": [
    {
     "data": {
      "text/plain": [
       "['',\n",
       " '',\n",
       " '',\n",
       " '',\n",
       " '',\n",
       " '',\n",
       " '',\n",
       " '',\n",
       " '',\n",
       " '',\n",
       " '',\n",
       " '',\n",
       " '정제수',\n",
       " ' 보리맥아',\n",
       " ' 귀리맥아',\n",
       " ' 설탕',\n",
       " ' 스페인 감초 분말',\n",
       " ' 호프',\n",
       " ' 효모',\n",
       " '정제수']"
      ]
     },
     "execution_count": 1103,
     "metadata": {},
     "output_type": "execute_result"
    }
   ],
   "source": [
    "원재료[:20]"
   ]
  },
  {
   "cell_type": "markdown",
   "metadata": {},
   "source": [
    "#### 4-3 글자 내 공백제거\n",
    "'              정제수' => '정제수'"
   ]
  },
  {
   "cell_type": "code",
   "execution_count": 1104,
   "metadata": {},
   "outputs": [
    {
     "data": {
      "text/plain": [
       "' 설탕'"
      ]
     },
     "execution_count": 1104,
     "metadata": {},
     "output_type": "execute_result"
    }
   ],
   "source": [
    "원재료[15]"
   ]
  },
  {
   "cell_type": "code",
   "execution_count": 1105,
   "metadata": {},
   "outputs": [
    {
     "data": {
      "text/plain": [
       "['', '', '', '', '', '', '', '', '', '', '', '', '정제수', '보리맥아', '귀리맥아']"
      ]
     },
     "execution_count": 1105,
     "metadata": {},
     "output_type": "execute_result"
    }
   ],
   "source": [
    "for i in range(len(원재료)):\n",
    "    원재료[i]= re.sub('[ ]','',원재료[i])\n",
    "원재료[:15]"
   ]
  },
  {
   "cell_type": "markdown",
   "metadata": {},
   "source": [
    "#### 4-3 각 성분을 unique한다."
   ]
  },
  {
   "cell_type": "code",
   "execution_count": 1106,
   "metadata": {},
   "outputs": [],
   "source": [
    "원재료 = list(pd.unique(원재료))"
   ]
  },
  {
   "cell_type": "code",
   "execution_count": 1107,
   "metadata": {},
   "outputs": [
    {
     "data": {
      "text/plain": [
       "['', '정제수', '보리맥아', '귀리맥아', '설탕', '스페인감초분말', '호프', '효모', '옥수수', '호프추출물']"
      ]
     },
     "execution_count": 1107,
     "metadata": {},
     "output_type": "execute_result"
    }
   ],
   "source": [
    "원재료[0:10]"
   ]
  },
  {
   "cell_type": "markdown",
   "metadata": {},
   "source": [
    "#### 4-4 공백 삭제"
   ]
  },
  {
   "cell_type": "code",
   "execution_count": 1108,
   "metadata": {},
   "outputs": [],
   "source": [
    "원재료.remove('')"
   ]
  },
  {
   "cell_type": "markdown",
   "metadata": {},
   "source": [
    "#### 4-5 원재료와 원본데이터 성분을 비교하기 위해 data['원재료'] 값의 공백제거"
   ]
  },
  {
   "cell_type": "code",
   "execution_count": 1109,
   "metadata": {},
   "outputs": [
    {
     "data": {
      "text/plain": [
       "pandas.core.series.Series"
      ]
     },
     "execution_count": 1109,
     "metadata": {},
     "output_type": "execute_result"
    }
   ],
   "source": [
    "type(data['원재료'])"
   ]
  },
  {
   "cell_type": "code",
   "execution_count": 1110,
   "metadata": {},
   "outputs": [],
   "source": [
    "for i in range(len(data)):\n",
    "    data['원재료'][0]=re.sub('[ ]','',data['원재료'][i])"
   ]
  },
  {
   "cell_type": "markdown",
   "metadata": {},
   "source": [
    "#### 4-5 원재료와 원본데이터 성분을 비교하기 위해 2중리스트 spilted 값의 공백제거\n",
    "Series형태의 list에서 사용할 수 있는 isin을 쓰기 위함임"
   ]
  },
  {
   "cell_type": "code",
   "execution_count": 1160,
   "metadata": {},
   "outputs": [],
   "source": [
    "list_a = [ [] for _ in range(len(data)) ]"
   ]
  },
  {
   "cell_type": "code",
   "execution_count": 1161,
   "metadata": {},
   "outputs": [],
   "source": [
    "for i in range(len(spilted)):\n",
    "    for j in spilted[i]:\n",
    "        list_a[i].append(re.sub('[ ]','',j))"
   ]
  },
  {
   "cell_type": "markdown",
   "metadata": {},
   "source": [
    "#### 4-6 각 원재료 성분이 있으면 1 없으면 0으로 표현"
   ]
  },
  {
   "cell_type": "code",
   "execution_count": 1230,
   "metadata": {},
   "outputs": [
    {
     "ename": "SyntaxError",
     "evalue": "invalid syntax (<ipython-input-1230-5d9df5184939>, line 2)",
     "output_type": "error",
     "traceback": [
      "\u001b[1;36m  File \u001b[1;32m\"<ipython-input-1230-5d9df5184939>\"\u001b[1;36m, line \u001b[1;32m2\u001b[0m\n\u001b[1;33m    작성중...\u001b[0m\n\u001b[1;37m         ^\u001b[0m\n\u001b[1;31mSyntaxError\u001b[0m\u001b[1;31m:\u001b[0m invalid syntax\n"
     ]
    }
   ],
   "source": [
    "list_b = [ [] for _ in range(len(원재료)) ]\n",
    "작성중..."
   ]
  },
  {
   "cell_type": "markdown",
   "metadata": {},
   "source": [
    "#### 5. 생산지역 : one-hot encoding"
   ]
  },
  {
   "cell_type": "code",
   "execution_count": null,
   "metadata": {},
   "outputs": [],
   "source": []
  },
  {
   "cell_type": "markdown",
   "metadata": {},
   "source": [
    "#### 6. 생산자 : one-hot encoding"
   ]
  },
  {
   "cell_type": "code",
   "execution_count": null,
   "metadata": {},
   "outputs": [],
   "source": []
  },
  {
   "cell_type": "markdown",
   "metadata": {},
   "source": [
    "#### 7. 맥주타입 : one-hot encoding + 가중치"
   ]
  },
  {
   "cell_type": "code",
   "execution_count": null,
   "metadata": {},
   "outputs": [],
   "source": []
  },
  {
   "cell_type": "markdown",
   "metadata": {},
   "source": [
    "#### 8. 가격 : (상/중/하)로 나눈 후 one-hot encoding"
   ]
  },
  {
   "cell_type": "code",
   "execution_count": null,
   "metadata": {},
   "outputs": [],
   "source": []
  },
  {
   "cell_type": "markdown",
   "metadata": {},
   "source": [
    "#### 9. 각 one-hot Encoding한 컬럼들을 원본데이터에 합치기"
   ]
  },
  {
   "cell_type": "code",
   "execution_count": null,
   "metadata": {},
   "outputs": [],
   "source": []
  },
  {
   "cell_type": "markdown",
   "metadata": {},
   "source": [
    "### 전처리 결과확인\n",
    "전처리리스트\n",
    "1. 컬럼삭제 (num, 상품명_eng, 홉종류, IBU, SRM, 정보, 생산자_eng, 생산지역_eng\n",
    "2. 컬럼이름 변경({상품명_kor:상품명}, {생산자_kor:생산자},{생산지역_kor:생산지역})\n",
    "3. 도수 : (상/중/하)로 나눈 후 one-hot encoding\n",
    "4. 원재료 : [정제수,맥아,홉,효모]를 각각 컬럼으로 나눈 뒤 one-hot encoding\n",
    "5. 생산지역 : one-hot encoding\n",
    "6. 생산자 : one-hot encoding\n",
    "7. 맥주타입 : one-hot encoding + 가중치\n",
    "8. 가격 : (상/중/하)로 나눈 후 one-hot encoding"
   ]
  },
  {
   "cell_type": "code",
   "execution_count": null,
   "metadata": {},
   "outputs": [],
   "source": []
  },
  {
   "cell_type": "markdown",
   "metadata": {},
   "source": [
    "### 추천용 데이터로 저장"
   ]
  },
  {
   "cell_type": "code",
   "execution_count": 323,
   "metadata": {},
   "outputs": [],
   "source": [
    "data.to_csv('beer4REC.csv', encoding='utf-8-sig',index=False)"
   ]
  }
 ],
 "metadata": {
  "kernelspec": {
   "display_name": "Python 3",
   "language": "python",
   "name": "python3"
  },
  "language_info": {
   "codemirror_mode": {
    "name": "ipython",
    "version": 3
   },
   "file_extension": ".py",
   "mimetype": "text/x-python",
   "name": "python",
   "nbconvert_exporter": "python",
   "pygments_lexer": "ipython3",
   "version": "3.6.9"
  }
 },
 "nbformat": 4,
 "nbformat_minor": 2
}
