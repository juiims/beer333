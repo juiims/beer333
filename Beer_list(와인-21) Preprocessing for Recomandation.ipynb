{
 "cells": [
  {
   "cell_type": "markdown",{
 "cells": [
  {
   "cell_type": "markdown",
   "metadata": {},
   "source": [
    "# 데이터 불러오기"
   ]
  },
  {
   "cell_type": "code",
   "execution_count": 236,
   "metadata": {},
   "outputs": [],
   "source": [
    "import numpy as np\n",
    "import pandas as pd"
   ]
  },
  {
   "cell_type": "code",
   "execution_count": 237,
   "metadata": {},
   "outputs": [],
   "source": [
    "data = pd.read_csv(\"../data/beer4EDA.csv\",encoding='utf-8')"
   ]
  },
  {
   "cell_type": "code",
   "execution_count": 238,
   "metadata": {},
   "outputs": [
    {
     "data": {
      "text/plain": [
       "(1137, 15)"
      ]
     },
     "execution_count": 238,
     "metadata": {},
     "output_type": "execute_result"
    }
   ],
   "source": [
    "data.shape"
   ]
  },
  {
   "cell_type": "markdown",
   "metadata": {},
   "source": [
    "# 불러온 데이터 확인"
   ]
  },
  {
   "cell_type": "code",
   "execution_count": 239,
   "metadata": {},
   "outputs": [
    {
     "data": {
      "text/html": [
       "<div>\n",
       "<style scoped>\n",
       "    .dataframe tbody tr th:only-of-type {\n",
       "        vertical-align: middle;\n",
       "    }\n",
       "\n",
       "    .dataframe tbody tr th {\n",
       "        vertical-align: top;\n",
       "    }\n",
       "\n",
       "    .dataframe thead th {\n",
       "        text-align: right;\n",
       "    }\n",
       "</style>\n",
       "<table border=\"1\" class=\"dataframe\">\n",
       "  <thead>\n",
       "    <tr style=\"text-align: right;\">\n",
       "      <th></th>\n",
       "      <th>num</th>\n",
       "      <th>상품명_kor</th>\n",
       "      <th>상품명_eng</th>\n",
       "      <th>도수</th>\n",
       "      <th>원재료</th>\n",
       "      <th>홉종류</th>\n",
       "      <th>IBU</th>\n",
       "      <th>SRM</th>\n",
       "      <th>정보</th>\n",
       "      <th>생산자_kor</th>\n",
       "      <th>생산자_eng</th>\n",
       "      <th>생산지역_kor</th>\n",
       "      <th>생산지역_eng</th>\n",
       "      <th>맥주타입</th>\n",
       "      <th>가격</th>\n",
       "    </tr>\n",
       "  </thead>\n",
       "  <tbody>\n",
       "    <tr>\n",
       "      <th>1136</th>\n",
       "      <td>b1136</td>\n",
       "      <td>가펠 쾰쉬</td>\n",
       "      <td>Gaffel Kolsch</td>\n",
       "      <td>4.8</td>\n",
       "      <td>정제수, 맥아, 홉, 효모</td>\n",
       "      <td>-</td>\n",
       "      <td>25</td>\n",
       "      <td>-</td>\n",
       "      <td>에일 효모를 이용한 맥주. 에일 맥주의 고유의 청사과, 꽃, 허니 등의 고급스러운 ...</td>\n",
       "      <td>프라이빗 브루어리 가펠 베커 앤 컴퍼니</td>\n",
       "      <td>Brivatbrauerei Gaffel Becker &amp; Company</td>\n",
       "      <td>쾰른</td>\n",
       "      <td>Koln</td>\n",
       "      <td>쾰쉬</td>\n",
       "      <td>3500</td>\n",
       "    </tr>\n",
       "  </tbody>\n",
       "</table>\n",
       "</div>"
      ],
      "text/plain": [
       "        num 상품명_kor        상품명_eng   도수             원재료 홉종류 IBU SRM  \\\n",
       "1136  b1136   가펠 쾰쉬  Gaffel Kolsch  4.8  정제수, 맥아, 홉, 효모   -  25   -   \n",
       "\n",
       "                                                     정보  \\\n",
       "1136  에일 효모를 이용한 맥주. 에일 맥주의 고유의 청사과, 꽃, 허니 등의 고급스러운 ...   \n",
       "\n",
       "                    생산자_kor                                 생산자_eng 생산지역_kor  \\\n",
       "1136  프라이빗 브루어리 가펠 베커 앤 컴퍼니  Brivatbrauerei Gaffel Becker & Company       쾰른   \n",
       "\n",
       "     생산지역_eng 맥주타입    가격  \n",
       "1136     Koln  쾰쉬   3500  "
      ]
     },
     "execution_count": 239,
     "metadata": {},
     "output_type": "execute_result"
    }
   ],
   "source": [
    "data.tail(1)"
   ]
  },
  {
   "cell_type": "markdown",
   "metadata": {},
   "source": [
    "### 전처리 리스트\n",
    "1. 컬럼삭제 (상품명_eng, 홉종류, IBU, SRM, 정보, 생산자_eng, 생산지역_eng\n",
    "2. 컬럼이름 변경({상품명_kor:상품명}, {생산자_kor:생산자},{생산지역_kor:생산지역})\n",
    "3. 도수 : (상/중/하)로 나눈 후 one-hot encoding\n",
    "4. 원재료 : [정제수,맥아,홉,효모]를 각각 컬럼으로 나눈 뒤 one-hot encoding\n",
    "5. 생산지역 : one-hot encoding\n",
    "6. 생산자 : one-hot encoding\n",
    "7. 맥주타입 : one-hot encoding + 가중치\n",
    "8. 가격 : (상/중/하)로 나눈 후 one-hot encoding"
   ]
  },
  {
   "cell_type": "markdown",
   "metadata": {},
   "source": [
    "\n",
    "#### 1. 컬럼삭제 (num, 상품명_eng, 홉종류, IBU, SRM, 정보, 생산자_eng, 생산지역_eng)"
   ]
  },
  {
   "cell_type": "code",
   "execution_count": 240,
   "metadata": {},
   "outputs": [],
   "source": [
    "data.drop(['상품명_eng', '홉종류', 'IBU', 'SRM', '정보', '생산자_eng', '생산지역_eng'], axis=1, inplace=True)"
   ]
  },
  {
   "cell_type": "code",
   "execution_count": 241,
   "metadata": {},
   "outputs": [
    {
     "data": {
      "text/html": [
       "<div>\n",
       "<style scoped>\n",
       "    .dataframe tbody tr th:only-of-type {\n",
       "        vertical-align: middle;\n",
       "    }\n",
       "\n",
       "    .dataframe tbody tr th {\n",
       "        vertical-align: top;\n",
       "    }\n",
       "\n",
       "    .dataframe thead th {\n",
       "        text-align: right;\n",
       "    }\n",
       "</style>\n",
       "<table border=\"1\" class=\"dataframe\">\n",
       "  <thead>\n",
       "    <tr style=\"text-align: right;\">\n",
       "      <th></th>\n",
       "      <th>num</th>\n",
       "      <th>상품명_kor</th>\n",
       "      <th>도수</th>\n",
       "      <th>원재료</th>\n",
       "      <th>생산자_kor</th>\n",
       "      <th>생산지역_kor</th>\n",
       "      <th>맥주타입</th>\n",
       "      <th>가격</th>\n",
       "    </tr>\n",
       "  </thead>\n",
       "  <tbody>\n",
       "    <tr>\n",
       "      <th>0</th>\n",
       "      <td>b0</td>\n",
       "      <td>마튼즈, 라이거 필스너</td>\n",
       "      <td>8.0</td>\n",
       "      <td>-</td>\n",
       "      <td>마튼즈</td>\n",
       "      <td>벨기에</td>\n",
       "      <td>필스너</td>\n",
       "      <td>5850</td>\n",
       "    </tr>\n",
       "  </tbody>\n",
       "</table>\n",
       "</div>"
      ],
      "text/plain": [
       "  num       상품명_kor   도수 원재료 생산자_kor 생산지역_kor 맥주타입    가격\n",
       "0  b0  마튼즈, 라이거 필스너  8.0   -     마튼즈      벨기에  필스너  5850"
      ]
     },
     "execution_count": 241,
     "metadata": {},
     "output_type": "execute_result"
    }
   ],
   "source": [
    "data.head(1)"
   ]
  },
  {
   "cell_type": "markdown",
   "metadata": {},
   "source": [
    "#### 2. 컬럼이름 변경({상품명_kor:상품명}, {생산자_kor:생산자},{생산지역_kor:생산지역})"
   ]
  },
  {
   "cell_type": "code",
   "execution_count": 242,
   "metadata": {},
   "outputs": [],
   "source": [
    "data.rename(columns={'상품명_kor':'상품명','생산자_kor':'생산자','생산지역_kor':'생산지역'},inplace=True)"
   ]
  },
  {
   "cell_type": "code",
   "execution_count": 243,
   "metadata": {},
   "outputs": [
    {
     "data": {
      "text/html": [
       "<div>\n",
       "<style scoped>\n",
       "    .dataframe tbody tr th:only-of-type {\n",
       "        vertical-align: middle;\n",
       "    }\n",
       "\n",
       "    .dataframe tbody tr th {\n",
       "        vertical-align: top;\n",
       "    }\n",
       "\n",
       "    .dataframe thead th {\n",
       "        text-align: right;\n",
       "    }\n",
       "</style>\n",
       "<table border=\"1\" class=\"dataframe\">\n",
       "  <thead>\n",
       "    <tr style=\"text-align: right;\">\n",
       "      <th></th>\n",
       "      <th>num</th>\n",
       "      <th>상품명</th>\n",
       "      <th>도수</th>\n",
       "      <th>원재료</th>\n",
       "      <th>생산자</th>\n",
       "      <th>생산지역</th>\n",
       "      <th>맥주타입</th>\n",
       "      <th>가격</th>\n",
       "    </tr>\n",
       "  </thead>\n",
       "  <tbody>\n",
       "    <tr>\n",
       "      <th>0</th>\n",
       "      <td>b0</td>\n",
       "      <td>마튼즈, 라이거 필스너</td>\n",
       "      <td>8.0</td>\n",
       "      <td>-</td>\n",
       "      <td>마튼즈</td>\n",
       "      <td>벨기에</td>\n",
       "      <td>필스너</td>\n",
       "      <td>5850</td>\n",
       "    </tr>\n",
       "  </tbody>\n",
       "</table>\n",
       "</div>"
      ],
      "text/plain": [
       "  num           상품명   도수 원재료  생산자 생산지역 맥주타입    가격\n",
       "0  b0  마튼즈, 라이거 필스너  8.0   -  마튼즈  벨기에  필스너  5850"
      ]
     },
     "execution_count": 243,
     "metadata": {},
     "output_type": "execute_result"
    }
   ],
   "source": [
    "data.head(1)"
   ]
  },
  {
   "cell_type": "markdown",
   "metadata": {},
   "source": [
    "#### 3. 도수 : (상/중/하)로 나눈 후 one-hot encoding"
   ]
  },
  {
   "cell_type": "code",
   "execution_count": 244,
   "metadata": {},
   "outputs": [],
   "source": [
    "import matplotlib.pyplot as plt\n",
    "\n",
    "import seaborn as sns\n",
    "\n",
    "from matplotlib import font_manager, rc\n",
    "plt.rcParams['axes.unicode_minus'] = False\n",
    "\n",
    "path = 'c://Windows/Fonts/malgun.ttf'\n",
    "\n",
    "font_name = font_manager.FontProperties(fname=path).get_name()\n",
    "rc('font', family=font_name)"
   ]
  },
  {
   "cell_type": "markdown",
   "metadata": {},
   "source": [
    "##### 3-1. 도수의 현재 형타입인 str에서 float으로 변환\n",
    "- 입력값 중에 '-'은 0으로 변환"
   ]
  },
  {
   "cell_type": "code",
   "execution_count": 245,
   "metadata": {},
   "outputs": [],
   "source": [
    "for i in range(len(data)):\n",
    "    try: data['도수'][i] = float(data['도수'][i])\n",
    "    except ValueError:\n",
    "        data['도수'][i] = 0.0"
   ]
  },
  {
   "cell_type": "markdown",
   "metadata": {},
   "source": [
    "##### 상/중/하를 나누기 위해 3-2 데이터분포 살펴보기"
   ]
  },
  {
   "cell_type": "code",
   "execution_count": 246,
   "metadata": {},
   "outputs": [],
   "source": [
    "from scipy.stats import describe"
   ]
  },
  {
   "cell_type": "code",
   "execution_count": 247,
   "metadata": {},
   "outputs": [
    {
     "name": "stdout",
     "output_type": "stream",
     "text": [
      "1분위 수:  5.0\n",
      "2분위 수:  5.8\n",
      "평균 :  6.317348284960415\n",
      "3분위 수:  7.4\n",
      "4분위 수:  14.2\n"
     ]
    },
    {
     "data": {
      "image/png": "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\n",
      "text/plain": [
       "<Figure size 432x288 with 1 Axes>"
      ]
     },
     "metadata": {
      "needs_background": "light"
     },
     "output_type": "display_data"
    }
   ],
   "source": [
    "sns.boxplot(data['도수'])\n",
    "print('1분위 수: ',np.percentile(data['도수'], 25))\n",
    "print('2분위 수: ',np.percentile(data['도수'], 50))\n",
    "print('평균 : ',data['도수'].sum()/len(data) )\n",
    "print('3분위 수: ',np.percentile(data['도수'], 75))\n",
    "print('4분위 수: ',np.percentile(data['도수'], 100))"
   ]
  },
  {
   "cell_type": "markdown",
   "metadata": {},
   "source": [
    "2분위수 데이터의 밀도가 높으므로 2분위수를 기준으로 상/중/하를 나눈다\n",
    "1. 6.31 초과 : 상\n",
    "2. 5~6.31 : 중\n",
    "3. 5 미만 : 하"
   ]
  },
  {
   "cell_type": "markdown",
   "metadata": {},
   "source": [
    "##### 3-3 상/중/하로 치환"
   ]
  },
  {
   "cell_type": "code",
   "execution_count": 248,
   "metadata": {},
   "outputs": [],
   "source": [
    "for i in range(len(data)):\n",
    "    if data['도수'][i] > 6.31 : data['도수'][i] = '도수(상)'\n",
    "    elif data['도수'][i] < 3.5 : data['도수'][i] = '도수(하)'\n",
    "    else : data['도수'][i] = '도수(중)' "
   ]
  },
  {
   "cell_type": "code",
   "execution_count": 249,
   "metadata": {},
   "outputs": [
    {
     "data": {
      "text/plain": [
       "0    도수(상)\n",
       "1    도수(상)\n",
       "2    도수(중)\n",
       "Name: 도수, dtype: object"
      ]
     },
     "execution_count": 249,
     "metadata": {},
     "output_type": "execute_result"
    }
   ],
   "source": [
    "data['도수'].head(3)"
   ]
  },
  {
   "cell_type": "code",
   "execution_count": 250,
   "metadata": {},
   "outputs": [
    {
     "data": {
      "text/plain": [
       "(array([473.,   0.,   0.,   0.,   0., 634.,   0.,   0.,   0.,  30.]),\n",
       " array([0. , 0.2, 0.4, 0.6, 0.8, 1. , 1.2, 1.4, 1.6, 1.8, 2. ]),\n",
       " <a list of 10 Patch objects>)"
      ]
     },
     "execution_count": 250,
     "metadata": {},
     "output_type": "execute_result"
    },
    {
     "data": {
      "image/png": "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\n",
      "text/plain": [
       "<Figure size 432x288 with 1 Axes>"
      ]
     },
     "metadata": {
      "needs_background": "light"
     },
     "output_type": "display_data"
    }
   ],
   "source": [
    "plt.hist(data['도수'])"
   ]
  },
  {
   "cell_type": "markdown",
   "metadata": {},
   "source": [
    "도수(상)이 다소 많음 : (1) 외국맥주 특성이 반영된 것? (2) 분리기준 잘못 세운거?<br>\n",
    "인터넷 검색결과, 한국맥주는 4.2~5.3으로 해외 맥주에 비하여 도수가 낮다.<br> 따라서 도수(중 : 5~6.3)의 기준도 한국인의 기준에서 높게 반영됐다고 할 수 있다. "
   ]
  },
  {
   "cell_type": "markdown",
   "metadata": {},
   "source": [
    "##### 3-4 원-핫 인코딩"
   ]
  },
  {
   "cell_type": "code",
   "execution_count": 251,
   "metadata": {},
   "outputs": [
    {
     "data": {
      "text/html": [
       "<div>\n",
       "<style scoped>\n",
       "    .dataframe tbody tr th:only-of-type {\n",
       "        vertical-align: middle;\n",
       "    }\n",
       "\n",
       "    .dataframe tbody tr th {\n",
       "        vertical-align: top;\n",
       "    }\n",
       "\n",
       "    .dataframe thead th {\n",
       "        text-align: right;\n",
       "    }\n",
       "</style>\n",
       "<table border=\"1\" class=\"dataframe\">\n",
       "  <thead>\n",
       "    <tr style=\"text-align: right;\">\n",
       "      <th></th>\n",
       "      <th>도수(상)</th>\n",
       "      <th>도수(중)</th>\n",
       "      <th>도수(하)</th>\n",
       "      <th>상품명</th>\n",
       "      <th>num</th>\n",
       "    </tr>\n",
       "  </thead>\n",
       "  <tbody>\n",
       "    <tr>\n",
       "      <th>0</th>\n",
       "      <td>1</td>\n",
       "      <td>0</td>\n",
       "      <td>0</td>\n",
       "      <td>마튼즈, 라이거 필스너</td>\n",
       "      <td>b0</td>\n",
       "    </tr>\n",
       "    <tr>\n",
       "      <th>1</th>\n",
       "      <td>1</td>\n",
       "      <td>0</td>\n",
       "      <td>0</td>\n",
       "      <td>마튼즈, 라이거 바이젠</td>\n",
       "      <td>b1</td>\n",
       "    </tr>\n",
       "    <tr>\n",
       "      <th>2</th>\n",
       "      <td>0</td>\n",
       "      <td>1</td>\n",
       "      <td>0</td>\n",
       "      <td>메나브레아 필스</td>\n",
       "      <td>b2</td>\n",
       "    </tr>\n",
       "    <tr>\n",
       "      <th>3</th>\n",
       "      <td>0</td>\n",
       "      <td>1</td>\n",
       "      <td>0</td>\n",
       "      <td>민타임, 런던 라거</td>\n",
       "      <td>b3</td>\n",
       "    </tr>\n",
       "    <tr>\n",
       "      <th>4</th>\n",
       "      <td>0</td>\n",
       "      <td>1</td>\n",
       "      <td>0</td>\n",
       "      <td>민타임, 런던 페일 에일</td>\n",
       "      <td>b4</td>\n",
       "    </tr>\n",
       "    <tr>\n",
       "      <th>...</th>\n",
       "      <td>...</td>\n",
       "      <td>...</td>\n",
       "      <td>...</td>\n",
       "      <td>...</td>\n",
       "      <td>...</td>\n",
       "    </tr>\n",
       "    <tr>\n",
       "      <th>1132</th>\n",
       "      <td>0</td>\n",
       "      <td>1</td>\n",
       "      <td>0</td>\n",
       "      <td>해리스 스타우트</td>\n",
       "      <td>b1132</td>\n",
       "    </tr>\n",
       "    <tr>\n",
       "      <th>1133</th>\n",
       "      <td>0</td>\n",
       "      <td>1</td>\n",
       "      <td>0</td>\n",
       "      <td>샘스 에일</td>\n",
       "      <td>b1133</td>\n",
       "    </tr>\n",
       "    <tr>\n",
       "      <th>1134</th>\n",
       "      <td>0</td>\n",
       "      <td>1</td>\n",
       "      <td>0</td>\n",
       "      <td>슈렝케를라 메르첸</td>\n",
       "      <td>b1134</td>\n",
       "    </tr>\n",
       "    <tr>\n",
       "      <th>1135</th>\n",
       "      <td>0</td>\n",
       "      <td>1</td>\n",
       "      <td>0</td>\n",
       "      <td>가펠 소넨 호펜</td>\n",
       "      <td>b1135</td>\n",
       "    </tr>\n",
       "    <tr>\n",
       "      <th>1136</th>\n",
       "      <td>0</td>\n",
       "      <td>1</td>\n",
       "      <td>0</td>\n",
       "      <td>가펠 쾰쉬</td>\n",
       "      <td>b1136</td>\n",
       "    </tr>\n",
       "  </tbody>\n",
       "</table>\n",
       "<p>1137 rows × 5 columns</p>\n",
       "</div>"
      ],
      "text/plain": [
       "      도수(상)  도수(중)  도수(하)            상품명    num\n",
       "0         1      0      0   마튼즈, 라이거 필스너     b0\n",
       "1         1      0      0   마튼즈, 라이거 바이젠     b1\n",
       "2         0      1      0       메나브레아 필스     b2\n",
       "3         0      1      0     민타임, 런던 라거     b3\n",
       "4         0      1      0  민타임, 런던 페일 에일     b4\n",
       "...     ...    ...    ...            ...    ...\n",
       "1132      0      1      0       해리스 스타우트  b1132\n",
       "1133      0      1      0          샘스 에일  b1133\n",
       "1134      0      1      0      슈렝케를라 메르첸  b1134\n",
       "1135      0      1      0       가펠 소넨 호펜  b1135\n",
       "1136      0      1      0          가펠 쾰쉬  b1136\n",
       "\n",
       "[1137 rows x 5 columns]"
      ]
     },
     "execution_count": 251,
     "metadata": {},
     "output_type": "execute_result"
    }
   ],
   "source": [
    "도수_one_hot = pd.get_dummies(data['도수'])\n",
    "도수_one_hot['상품명'] = data['상품명']\n",
    "도수_one_hot['num'] = data['num']\n",
    "도수_one_hot"
   ]
  },
  {
   "cell_type": "markdown",
   "metadata": {},
   "source": [
    "##### 3-4 도수컬럼 삭제"
   ]
  },
  {
   "cell_type": "code",
   "execution_count": 252,
   "metadata": {},
   "outputs": [],
   "source": [
    "data.drop(['도수'], axis=1, inplace=True)"
   ]
  },
  {
   "cell_type": "code",
   "execution_count": 253,
   "metadata": {},
   "outputs": [
    {
     "data": {
      "text/html": [
       "<div>\n",
       "<style scoped>\n",
       "    .dataframe tbody tr th:only-of-type {\n",
       "        vertical-align: middle;\n",
       "    }\n",
       "\n",
       "    .dataframe tbody tr th {\n",
       "        vertical-align: top;\n",
       "    }\n",
       "\n",
       "    .dataframe thead th {\n",
       "        text-align: right;\n",
       "    }\n",
       "</style>\n",
       "<table border=\"1\" class=\"dataframe\">\n",
       "  <thead>\n",
       "    <tr style=\"text-align: right;\">\n",
       "      <th></th>\n",
       "      <th>num</th>\n",
       "      <th>상품명</th>\n",
       "      <th>원재료</th>\n",
       "      <th>생산자</th>\n",
       "      <th>생산지역</th>\n",
       "      <th>맥주타입</th>\n",
       "      <th>가격</th>\n",
       "    </tr>\n",
       "  </thead>\n",
       "  <tbody>\n",
       "    <tr>\n",
       "      <th>0</th>\n",
       "      <td>b0</td>\n",
       "      <td>마튼즈, 라이거 필스너</td>\n",
       "      <td>-</td>\n",
       "      <td>마튼즈</td>\n",
       "      <td>벨기에</td>\n",
       "      <td>필스너</td>\n",
       "      <td>5850</td>\n",
       "    </tr>\n",
       "  </tbody>\n",
       "</table>\n",
       "</div>"
      ],
      "text/plain": [
       "  num           상품명 원재료  생산자 생산지역 맥주타입    가격\n",
       "0  b0  마튼즈, 라이거 필스너   -  마튼즈  벨기에  필스너  5850"
      ]
     },
     "execution_count": 253,
     "metadata": {},
     "output_type": "execute_result"
    }
   ],
   "source": [
    "data.head(1)"
   ]
  },
  {
   "cell_type": "markdown",
   "metadata": {},
   "source": [
    "#### 4. 원재료 : [정제수,맥아,홉,효모]를 각각 컬럼으로 나눈 뒤 one-hot encoding"
   ]
  },
  {
   "cell_type": "markdown",
   "metadata": {},
   "source": [
    "#### 4-1 한 데이터셀 내에 값을 분리\n",
    "(ex) '정제수, 보리맥아, 귀리맥아' => '정제수','보리맥아','귀리맥아'"
   ]
  },
  {
   "cell_type": "code",
   "execution_count": 254,
   "metadata": {},
   "outputs": [],
   "source": [
    "import re"
   ]
  },
  {
   "cell_type": "code",
   "execution_count": 255,
   "metadata": {},
   "outputs": [],
   "source": [
    "pattern = re.compile(',')"
   ]
  },
  {
   "cell_type": "code",
   "execution_count": 256,
   "metadata": {},
   "outputs": [
    {
     "data": {
      "text/plain": [
       "[['-'],\n",
       " ['-'],\n",
       " ['-'],\n",
       " ['-'],\n",
       " ['-'],\n",
       " ['-'],\n",
       " ['-'],\n",
       " ['-'],\n",
       " ['-'],\n",
       " ['-'],\n",
       " ['-'],\n",
       " ['-'],\n",
       " ['정제수', ' 보리맥아', ' 귀리맥아', ' 설탕', ' 스페인 감초 분말', ' 호프', ' 효모'],\n",
       " ['정제수', ' 보리맥아', ' 호프', ' 효모']]"
      ]
     },
     "execution_count": 256,
     "metadata": {},
     "output_type": "execute_result"
    }
   ],
   "source": [
    "spilted =[]\n",
    "for i in range(len(data)):\n",
    "    spilted.append(pattern.split(data['원재료'][i]))\n",
    "spilted[:14]"
   ]
  },
  {
   "cell_type": "markdown",
   "metadata": {},
   "source": [
    "##### 4-2 위에서 만든 spilted의 리스트 차원을 제거하여 1차원배열로 만든다"
   ]
  },
  {
   "cell_type": "code",
   "execution_count": 257,
   "metadata": {},
   "outputs": [],
   "source": [
    "원재료=[]\n",
    "for i in range(len(spilted)):\n",
    "    for j in spilted[i]:\n",
    "        원재료.append(j)"
   ]
  },
  {
   "cell_type": "code",
   "execution_count": 258,
   "metadata": {},
   "outputs": [
    {
     "data": {
      "text/plain": [
       "['-',\n",
       " '-',\n",
       " '-',\n",
       " '-',\n",
       " '-',\n",
       " '-',\n",
       " '-',\n",
       " '-',\n",
       " '-',\n",
       " '-',\n",
       " '-',\n",
       " '-',\n",
       " '정제수',\n",
       " ' 보리맥아',\n",
       " ' 귀리맥아',\n",
       " ' 설탕',\n",
       " ' 스페인 감초 분말',\n",
       " ' 호프',\n",
       " ' 효모',\n",
       " '정제수']"
      ]
     },
     "execution_count": 258,
     "metadata": {},
     "output_type": "execute_result"
    }
   ],
   "source": [
    "원재료[:20]"
   ]
  },
  {
   "cell_type": "markdown",
   "metadata": {},
   "source": [
    "#### 4-3 글자 내 공백제거\n",
    "'              정제수' => '정제수'"
   ]
  },
  {
   "cell_type": "code",
   "execution_count": 259,
   "metadata": {},
   "outputs": [
    {
     "data": {
      "text/plain": [
       "['-',\n",
       " '-',\n",
       " '-',\n",
       " '-',\n",
       " '-',\n",
       " '-',\n",
       " '-',\n",
       " '-',\n",
       " '-',\n",
       " '-',\n",
       " '-',\n",
       " '-',\n",
       " '정제수',\n",
       " '보리맥아',\n",
       " '귀리맥아']"
      ]
     },
     "execution_count": 259,
     "metadata": {},
     "output_type": "execute_result"
    }
   ],
   "source": [
    "for i in range(len(원재료)):\n",
    "    원재료[i]= re.sub('[ ]','',원재료[i])\n",
    "원재료[:15]"
   ]
  },
  {
   "cell_type": "markdown",
   "metadata": {},
   "source": [
    "#### 4-3 각 성분을 unique한다."
   ]
  },
  {
   "cell_type": "code",
   "execution_count": 260,
   "metadata": {},
   "outputs": [],
   "source": [
    "원재료 = list(pd.unique(원재료))"
   ]
  },
  {
   "cell_type": "code",
   "execution_count": 261,
   "metadata": {},
   "outputs": [
    {
     "data": {
      "text/plain": [
       "['-', '정제수', '보리맥아', '귀리맥아', '설탕', '스페인감초분말', '호프', '효모', '옥수수', '호프추출물']"
      ]
     },
     "execution_count": 261,
     "metadata": {},
     "output_type": "execute_result"
    }
   ],
   "source": [
    "원재료[0:10]"
   ]
  },
  {
   "cell_type": "markdown",
   "metadata": {},
   "source": [
    "#### 4-4 공백 삭제"
   ]
  },
  {
   "cell_type": "code",
   "execution_count": 262,
   "metadata": {},
   "outputs": [],
   "source": [
    "원재료.remove('-')"
   ]
  },
  {
   "cell_type": "markdown",
   "metadata": {},
   "source": [
    "#### 4-5 원재료와 원본데이터 성분을 비교하기 위해 data['원재료'] 값의 공백제거"
   ]
  },
  {
   "cell_type": "code",
   "execution_count": 263,
   "metadata": {},
   "outputs": [
    {
     "data": {
      "text/plain": [
       "pandas.core.series.Series"
      ]
     },
     "execution_count": 263,
     "metadata": {},
     "output_type": "execute_result"
    }
   ],
   "source": [
    "type(data['원재료'])"
   ]
  },
  {
   "cell_type": "code",
   "execution_count": 264,
   "metadata": {},
   "outputs": [],
   "source": [
    "for i in range(len(data)):\n",
    "    data['원재료'][0]=re.sub('[ ]','',data['원재료'][i])"
   ]
  },
  {
   "cell_type": "markdown",
   "metadata": {},
   "source": [
    "#### 4-5 원재료와 원본데이터 성분을 비교하기 위해 2중리스트 spilted 값의 공백제거\n",
    "Series형태의 list에서 사용할 수 있는 isin을 쓰기 위함임"
   ]
  },
  {
   "cell_type": "code",
   "execution_count": 265,
   "metadata": {},
   "outputs": [],
   "source": [
    "list_a = [ [] for _ in range(len(data)) ]"
   ]
  },
  {
   "cell_type": "code",
   "execution_count": 266,
   "metadata": {},
   "outputs": [],
   "source": [
    "for i in range(len(spilted)):\n",
    "    for j in spilted[i]:\n",
    "        list_a[i].append(re.sub('[ ]','',j))"
   ]
  },
  {
   "cell_type": "markdown",
   "metadata": {},
   "source": [
    "#### 4-6 각 원재료 성분이 있으면 1 없으면 0으로 표현"
   ]
  },
  {
   "cell_type": "code",
   "execution_count": 267,
   "metadata": {},
   "outputs": [],
   "source": [
    "list_b = [ [] for _ in range(len(원재료))]"
   ]
  },
  {
   "cell_type": "code",
   "execution_count": 268,
   "metadata": {},
   "outputs": [],
   "source": [
    "for i in range(len(원재료)):\n",
    "    for j in range(len(list_a)):\n",
    "        if (pd.Series(원재료[i]).isin(list_a[j])[0])==True:\n",
    "            list_b[i].append(1)\n",
    "        else:\n",
    "            list_b[i].append(0)"
   ]
  },
  {
   "cell_type": "code",
   "execution_count": 269,
   "metadata": {},
   "outputs": [],
   "source": [
    "list_b = np.transpose(list_b)"
   ]
  },
  {
   "cell_type": "code",
   "execution_count": 270,
   "metadata": {},
   "outputs": [
    {
     "data": {
      "text/html": [
       "<div>\n",
       "<style scoped>\n",
       "    .dataframe tbody tr th:only-of-type {\n",
       "        vertical-align: middle;\n",
       "    }\n",
       "\n",
       "    .dataframe tbody tr th {\n",
       "        vertical-align: top;\n",
       "    }\n",
       "\n",
       "    .dataframe thead th {\n",
       "        text-align: right;\n",
       "    }\n",
       "</style>\n",
       "<table border=\"1\" class=\"dataframe\">\n",
       "  <thead>\n",
       "    <tr style=\"text-align: right;\">\n",
       "      <th></th>\n",
       "      <th>정제수</th>\n",
       "      <th>보리맥아</th>\n",
       "      <th>귀리맥아</th>\n",
       "      <th>설탕</th>\n",
       "      <th>스페인감초분말</th>\n",
       "      <th>호프</th>\n",
       "      <th>효모</th>\n",
       "      <th>옥수수</th>\n",
       "      <th>호프추출물</th>\n",
       "      <th>밀</th>\n",
       "      <th>...</th>\n",
       "      <th>밀프레이크</th>\n",
       "      <th>천연고수향</th>\n",
       "      <th>천연라임향</th>\n",
       "      <th>필스너몰트</th>\n",
       "      <th>오렌지허니블러썸</th>\n",
       "      <th>페일몰트</th>\n",
       "      <th>밀몰트</th>\n",
       "      <th>농축블루베리</th>\n",
       "      <th>상품명</th>\n",
       "      <th>num</th>\n",
       "    </tr>\n",
       "  </thead>\n",
       "  <tbody>\n",
       "    <tr>\n",
       "      <th>0</th>\n",
       "      <td>0</td>\n",
       "      <td>0</td>\n",
       "      <td>0</td>\n",
       "      <td>0</td>\n",
       "      <td>0</td>\n",
       "      <td>0</td>\n",
       "      <td>0</td>\n",
       "      <td>0</td>\n",
       "      <td>0</td>\n",
       "      <td>0</td>\n",
       "      <td>...</td>\n",
       "      <td>0</td>\n",
       "      <td>0</td>\n",
       "      <td>0</td>\n",
       "      <td>0</td>\n",
       "      <td>0</td>\n",
       "      <td>0</td>\n",
       "      <td>0</td>\n",
       "      <td>0</td>\n",
       "      <td>마튼즈, 라이거 필스너</td>\n",
       "      <td>b0</td>\n",
       "    </tr>\n",
       "    <tr>\n",
       "      <th>1</th>\n",
       "      <td>0</td>\n",
       "      <td>0</td>\n",
       "      <td>0</td>\n",
       "      <td>0</td>\n",
       "      <td>0</td>\n",
       "      <td>0</td>\n",
       "      <td>0</td>\n",
       "      <td>0</td>\n",
       "      <td>0</td>\n",
       "      <td>0</td>\n",
       "      <td>...</td>\n",
       "      <td>0</td>\n",
       "      <td>0</td>\n",
       "      <td>0</td>\n",
       "      <td>0</td>\n",
       "      <td>0</td>\n",
       "      <td>0</td>\n",
       "      <td>0</td>\n",
       "      <td>0</td>\n",
       "      <td>마튼즈, 라이거 바이젠</td>\n",
       "      <td>b1</td>\n",
       "    </tr>\n",
       "  </tbody>\n",
       "</table>\n",
       "<p>2 rows × 275 columns</p>\n",
       "</div>"
      ],
      "text/plain": [
       "   정제수  보리맥아  귀리맥아  설탕  스페인감초분말  호프  효모  옥수수  호프추출물  밀  ...  밀프레이크  천연고수향  \\\n",
       "0    0     0     0   0        0   0   0    0      0  0  ...      0      0   \n",
       "1    0     0     0   0        0   0   0    0      0  0  ...      0      0   \n",
       "\n",
       "   천연라임향  필스너몰트  오렌지허니블러썸  페일몰트  밀몰트  농축블루베리           상품명  num  \n",
       "0      0      0         0     0    0       0  마튼즈, 라이거 필스너   b0  \n",
       "1      0      0         0     0    0       0  마튼즈, 라이거 바이젠   b1  \n",
       "\n",
       "[2 rows x 275 columns]"
      ]
     },
     "execution_count": 270,
     "metadata": {},
     "output_type": "execute_result"
    }
   ],
   "source": [
    "원재료_one_hot = pd.DataFrame(list_b,columns=원재료)\n",
    "원재료_one_hot['상품명'] = data['상품명']\n",
    "원재료_one_hot['num'] = data['num']\n",
    "원재료_one_hot.head(2)"
   ]
  },
  {
   "cell_type": "markdown",
   "metadata": {},
   "source": [
    "#### 5. 생산지역 : one-hot encoding"
   ]
  },
  {
   "cell_type": "code",
   "execution_count": 271,
   "metadata": {},
   "outputs": [
    {
     "data": {
      "text/html": [
       "<div>\n",
       "<style scoped>\n",
       "    .dataframe tbody tr th:only-of-type {\n",
       "        vertical-align: middle;\n",
       "    }\n",
       "\n",
       "    .dataframe tbody tr th {\n",
       "        vertical-align: top;\n",
       "    }\n",
       "\n",
       "    .dataframe thead th {\n",
       "        text-align: right;\n",
       "    }\n",
       "</style>\n",
       "<table border=\"1\" class=\"dataframe\">\n",
       "  <thead>\n",
       "    <tr style=\"text-align: right;\">\n",
       "      <th></th>\n",
       "      <th>가와고에</th>\n",
       "      <th>공근면 초원리(Chowon-ri, Gonggeun-myeon)</th>\n",
       "      <th>그랜레피즈</th>\n",
       "      <th>글라스고우</th>\n",
       "      <th>나카</th>\n",
       "      <th>나호트</th>\n",
       "      <th>남구 무거동</th>\n",
       "      <th>네덜란드</th>\n",
       "      <th>뉴질랜드</th>\n",
       "      <th>뉴포트</th>\n",
       "      <th>...</th>\n",
       "      <th>한림읍(Hallim eup)</th>\n",
       "      <th>햄프톤</th>\n",
       "      <th>헤르젤레</th>\n",
       "      <th>헤센</th>\n",
       "      <th>호주</th>\n",
       "      <th>호주</th>\n",
       "      <th>화도읍 창현리(Changhyeon ri, Hwado eup)</th>\n",
       "      <th>후쿠오카</th>\n",
       "      <th>상품명</th>\n",
       "      <th>num</th>\n",
       "    </tr>\n",
       "  </thead>\n",
       "  <tbody>\n",
       "    <tr>\n",
       "      <th>0</th>\n",
       "      <td>0</td>\n",
       "      <td>0</td>\n",
       "      <td>0</td>\n",
       "      <td>0</td>\n",
       "      <td>0</td>\n",
       "      <td>0</td>\n",
       "      <td>0</td>\n",
       "      <td>0</td>\n",
       "      <td>0</td>\n",
       "      <td>0</td>\n",
       "      <td>...</td>\n",
       "      <td>0</td>\n",
       "      <td>0</td>\n",
       "      <td>0</td>\n",
       "      <td>0</td>\n",
       "      <td>0</td>\n",
       "      <td>0</td>\n",
       "      <td>0</td>\n",
       "      <td>0</td>\n",
       "      <td>마튼즈, 라이거 필스너</td>\n",
       "      <td>b0</td>\n",
       "    </tr>\n",
       "  </tbody>\n",
       "</table>\n",
       "<p>1 rows × 192 columns</p>\n",
       "</div>"
      ],
      "text/plain": [
       "   가와고에  공근면 초원리(Chowon-ri, Gonggeun-myeon)  그랜레피즈  글라스고우  나카  나호트  남구 무거동  \\\n",
       "0     0                                   0      0      0   0    0       0   \n",
       "\n",
       "   네덜란드  뉴질랜드  뉴포트  ...  한림읍(Hallim eup)  햄프톤  헤르젤레  헤센  호주  호주   \\\n",
       "0     0     0    0  ...                0    0     0   0   0    0   \n",
       "\n",
       "   화도읍 창현리(Changhyeon ri, Hwado eup)  후쿠오카           상품명  num  \n",
       "0                                  0     0  마튼즈, 라이거 필스너   b0  \n",
       "\n",
       "[1 rows x 192 columns]"
      ]
     },
     "execution_count": 271,
     "metadata": {},
     "output_type": "execute_result"
    }
   ],
   "source": [
    "생산지역_one_hot = pd.get_dummies(data['생산지역'])\n",
    "\n",
    "#가중치\n",
    "생산지역_one_hot*30\n",
    "\n",
    "생산지역_one_hot['상품명'] = data['상품명']\n",
    "생산지역_one_hot['num'] = data['num']\n",
    "생산지역_one_hot.head(1)"
   ]
  },
  {
   "cell_type": "markdown",
   "metadata": {},
   "source": [
    "#### 6. 생산자 : one-hot encoding"
   ]
  },
  {
   "cell_type": "code",
   "execution_count": 272,
   "metadata": {},
   "outputs": [
    {
     "data": {
      "text/html": [
       "<div>\n",
       "<style scoped>\n",
       "    .dataframe tbody tr th:only-of-type {\n",
       "        vertical-align: middle;\n",
       "    }\n",
       "\n",
       "    .dataframe tbody tr th {\n",
       "        vertical-align: top;\n",
       "    }\n",
       "\n",
       "    .dataframe thead th {\n",
       "        text-align: right;\n",
       "    }\n",
       "</style>\n",
       "<table border=\"1\" class=\"dataframe\">\n",
       "  <thead>\n",
       "    <tr style=\"text-align: right;\">\n",
       "      <th></th>\n",
       "      <th>AB 인베브 벨지움</th>\n",
       "      <th>고든 비어쉬</th>\n",
       "      <th>과우테목 목테수마</th>\n",
       "      <th>구스 아일랜드 비어</th>\n",
       "      <th>굿비어, 에스.엘</th>\n",
       "      <th>그롤쉬 비어 브루어리젠</th>\n",
       "      <th>그루포 모델로</th>\n",
       "      <th>그린킹 브루어리</th>\n",
       "      <th>그린플래쉬 브루잉컴퍼니</th>\n",
       "      <th>기네스</th>\n",
       "      <th>...</th>\n",
       "      <th>헤레틱 브루잉 컴퍼니</th>\n",
       "      <th>헨리커스</th>\n",
       "      <th>헬러브라우 트럼 지엠비에이치</th>\n",
       "      <th>호프브로이하우스</th>\n",
       "      <th>호프브로이하우스 프라이징</th>\n",
       "      <th>홀스텐 브루어리</th>\n",
       "      <th>화수브루어리</th>\n",
       "      <th>휘슬러 브루잉 컴퍼니</th>\n",
       "      <th>상품명</th>\n",
       "      <th>num</th>\n",
       "    </tr>\n",
       "  </thead>\n",
       "  <tbody>\n",
       "    <tr>\n",
       "      <th>0</th>\n",
       "      <td>0</td>\n",
       "      <td>0</td>\n",
       "      <td>0</td>\n",
       "      <td>0</td>\n",
       "      <td>0</td>\n",
       "      <td>0</td>\n",
       "      <td>0</td>\n",
       "      <td>0</td>\n",
       "      <td>0</td>\n",
       "      <td>0</td>\n",
       "      <td>...</td>\n",
       "      <td>0</td>\n",
       "      <td>0</td>\n",
       "      <td>0</td>\n",
       "      <td>0</td>\n",
       "      <td>0</td>\n",
       "      <td>0</td>\n",
       "      <td>0</td>\n",
       "      <td>0</td>\n",
       "      <td>마튼즈, 라이거 필스너</td>\n",
       "      <td>b0</td>\n",
       "    </tr>\n",
       "    <tr>\n",
       "      <th>1</th>\n",
       "      <td>0</td>\n",
       "      <td>0</td>\n",
       "      <td>0</td>\n",
       "      <td>0</td>\n",
       "      <td>0</td>\n",
       "      <td>0</td>\n",
       "      <td>0</td>\n",
       "      <td>0</td>\n",
       "      <td>0</td>\n",
       "      <td>0</td>\n",
       "      <td>...</td>\n",
       "      <td>0</td>\n",
       "      <td>0</td>\n",
       "      <td>0</td>\n",
       "      <td>0</td>\n",
       "      <td>0</td>\n",
       "      <td>0</td>\n",
       "      <td>0</td>\n",
       "      <td>0</td>\n",
       "      <td>마튼즈, 라이거 바이젠</td>\n",
       "      <td>b1</td>\n",
       "    </tr>\n",
       "    <tr>\n",
       "      <th>2</th>\n",
       "      <td>0</td>\n",
       "      <td>0</td>\n",
       "      <td>0</td>\n",
       "      <td>0</td>\n",
       "      <td>0</td>\n",
       "      <td>0</td>\n",
       "      <td>0</td>\n",
       "      <td>0</td>\n",
       "      <td>0</td>\n",
       "      <td>0</td>\n",
       "      <td>...</td>\n",
       "      <td>0</td>\n",
       "      <td>0</td>\n",
       "      <td>0</td>\n",
       "      <td>0</td>\n",
       "      <td>0</td>\n",
       "      <td>0</td>\n",
       "      <td>0</td>\n",
       "      <td>0</td>\n",
       "      <td>메나브레아 필스</td>\n",
       "      <td>b2</td>\n",
       "    </tr>\n",
       "    <tr>\n",
       "      <th>3</th>\n",
       "      <td>0</td>\n",
       "      <td>0</td>\n",
       "      <td>0</td>\n",
       "      <td>0</td>\n",
       "      <td>0</td>\n",
       "      <td>0</td>\n",
       "      <td>0</td>\n",
       "      <td>0</td>\n",
       "      <td>0</td>\n",
       "      <td>0</td>\n",
       "      <td>...</td>\n",
       "      <td>0</td>\n",
       "      <td>0</td>\n",
       "      <td>0</td>\n",
       "      <td>0</td>\n",
       "      <td>0</td>\n",
       "      <td>0</td>\n",
       "      <td>0</td>\n",
       "      <td>0</td>\n",
       "      <td>민타임, 런던 라거</td>\n",
       "      <td>b3</td>\n",
       "    </tr>\n",
       "    <tr>\n",
       "      <th>4</th>\n",
       "      <td>0</td>\n",
       "      <td>0</td>\n",
       "      <td>0</td>\n",
       "      <td>0</td>\n",
       "      <td>0</td>\n",
       "      <td>0</td>\n",
       "      <td>0</td>\n",
       "      <td>0</td>\n",
       "      <td>0</td>\n",
       "      <td>0</td>\n",
       "      <td>...</td>\n",
       "      <td>0</td>\n",
       "      <td>0</td>\n",
       "      <td>0</td>\n",
       "      <td>0</td>\n",
       "      <td>0</td>\n",
       "      <td>0</td>\n",
       "      <td>0</td>\n",
       "      <td>0</td>\n",
       "      <td>민타임, 런던 페일 에일</td>\n",
       "      <td>b4</td>\n",
       "    </tr>\n",
       "    <tr>\n",
       "      <th>5</th>\n",
       "      <td>0</td>\n",
       "      <td>0</td>\n",
       "      <td>0</td>\n",
       "      <td>0</td>\n",
       "      <td>0</td>\n",
       "      <td>0</td>\n",
       "      <td>0</td>\n",
       "      <td>0</td>\n",
       "      <td>0</td>\n",
       "      <td>0</td>\n",
       "      <td>...</td>\n",
       "      <td>0</td>\n",
       "      <td>0</td>\n",
       "      <td>0</td>\n",
       "      <td>0</td>\n",
       "      <td>0</td>\n",
       "      <td>0</td>\n",
       "      <td>0</td>\n",
       "      <td>0</td>\n",
       "      <td>민타임, 필스너</td>\n",
       "      <td>b5</td>\n",
       "    </tr>\n",
       "    <tr>\n",
       "      <th>6</th>\n",
       "      <td>0</td>\n",
       "      <td>0</td>\n",
       "      <td>0</td>\n",
       "      <td>0</td>\n",
       "      <td>0</td>\n",
       "      <td>0</td>\n",
       "      <td>0</td>\n",
       "      <td>0</td>\n",
       "      <td>0</td>\n",
       "      <td>0</td>\n",
       "      <td>...</td>\n",
       "      <td>0</td>\n",
       "      <td>0</td>\n",
       "      <td>0</td>\n",
       "      <td>0</td>\n",
       "      <td>0</td>\n",
       "      <td>0</td>\n",
       "      <td>0</td>\n",
       "      <td>0</td>\n",
       "      <td>민타임, 야키마 레드</td>\n",
       "      <td>b6</td>\n",
       "    </tr>\n",
       "    <tr>\n",
       "      <th>7</th>\n",
       "      <td>0</td>\n",
       "      <td>0</td>\n",
       "      <td>0</td>\n",
       "      <td>0</td>\n",
       "      <td>0</td>\n",
       "      <td>0</td>\n",
       "      <td>0</td>\n",
       "      <td>0</td>\n",
       "      <td>0</td>\n",
       "      <td>0</td>\n",
       "      <td>...</td>\n",
       "      <td>0</td>\n",
       "      <td>0</td>\n",
       "      <td>0</td>\n",
       "      <td>0</td>\n",
       "      <td>0</td>\n",
       "      <td>0</td>\n",
       "      <td>0</td>\n",
       "      <td>0</td>\n",
       "      <td>민타임, 윗 비어</td>\n",
       "      <td>b7</td>\n",
       "    </tr>\n",
       "    <tr>\n",
       "      <th>8</th>\n",
       "      <td>0</td>\n",
       "      <td>0</td>\n",
       "      <td>0</td>\n",
       "      <td>0</td>\n",
       "      <td>0</td>\n",
       "      <td>0</td>\n",
       "      <td>0</td>\n",
       "      <td>0</td>\n",
       "      <td>0</td>\n",
       "      <td>0</td>\n",
       "      <td>...</td>\n",
       "      <td>0</td>\n",
       "      <td>0</td>\n",
       "      <td>0</td>\n",
       "      <td>0</td>\n",
       "      <td>0</td>\n",
       "      <td>0</td>\n",
       "      <td>0</td>\n",
       "      <td>0</td>\n",
       "      <td>민타임, 라즈베리 윗</td>\n",
       "      <td>b8</td>\n",
       "    </tr>\n",
       "    <tr>\n",
       "      <th>9</th>\n",
       "      <td>0</td>\n",
       "      <td>0</td>\n",
       "      <td>0</td>\n",
       "      <td>0</td>\n",
       "      <td>0</td>\n",
       "      <td>0</td>\n",
       "      <td>0</td>\n",
       "      <td>0</td>\n",
       "      <td>0</td>\n",
       "      <td>0</td>\n",
       "      <td>...</td>\n",
       "      <td>0</td>\n",
       "      <td>0</td>\n",
       "      <td>0</td>\n",
       "      <td>0</td>\n",
       "      <td>0</td>\n",
       "      <td>0</td>\n",
       "      <td>0</td>\n",
       "      <td>0</td>\n",
       "      <td>민타임, 런던 포터</td>\n",
       "      <td>b9</td>\n",
       "    </tr>\n",
       "  </tbody>\n",
       "</table>\n",
       "<p>10 rows × 302 columns</p>\n",
       "</div>"
      ],
      "text/plain": [
       "   AB 인베브 벨지움  고든 비어쉬  과우테목 목테수마  구스 아일랜드 비어  굿비어, 에스.엘  그롤쉬 비어 브루어리젠  \\\n",
       "0           0       0          0           0          0             0   \n",
       "1           0       0          0           0          0             0   \n",
       "2           0       0          0           0          0             0   \n",
       "3           0       0          0           0          0             0   \n",
       "4           0       0          0           0          0             0   \n",
       "5           0       0          0           0          0             0   \n",
       "6           0       0          0           0          0             0   \n",
       "7           0       0          0           0          0             0   \n",
       "8           0       0          0           0          0             0   \n",
       "9           0       0          0           0          0             0   \n",
       "\n",
       "   그루포 모델로  그린킹 브루어리  그린플래쉬 브루잉컴퍼니  기네스  ...  헤레틱 브루잉 컴퍼니  헨리커스  \\\n",
       "0        0         0             0    0  ...            0     0   \n",
       "1        0         0             0    0  ...            0     0   \n",
       "2        0         0             0    0  ...            0     0   \n",
       "3        0         0             0    0  ...            0     0   \n",
       "4        0         0             0    0  ...            0     0   \n",
       "5        0         0             0    0  ...            0     0   \n",
       "6        0         0             0    0  ...            0     0   \n",
       "7        0         0             0    0  ...            0     0   \n",
       "8        0         0             0    0  ...            0     0   \n",
       "9        0         0             0    0  ...            0     0   \n",
       "\n",
       "   헬러브라우 트럼 지엠비에이치  호프브로이하우스  호프브로이하우스 프라이징  홀스텐 브루어리  화수브루어리  휘슬러 브루잉 컴퍼니  \\\n",
       "0                0         0              0         0       0            0   \n",
       "1                0         0              0         0       0            0   \n",
       "2                0         0              0         0       0            0   \n",
       "3                0         0              0         0       0            0   \n",
       "4                0         0              0         0       0            0   \n",
       "5                0         0              0         0       0            0   \n",
       "6                0         0              0         0       0            0   \n",
       "7                0         0              0         0       0            0   \n",
       "8                0         0              0         0       0            0   \n",
       "9                0         0              0         0       0            0   \n",
       "\n",
       "             상품명  num  \n",
       "0   마튼즈, 라이거 필스너   b0  \n",
       "1   마튼즈, 라이거 바이젠   b1  \n",
       "2       메나브레아 필스   b2  \n",
       "3     민타임, 런던 라거   b3  \n",
       "4  민타임, 런던 페일 에일   b4  \n",
       "5       민타임, 필스너   b5  \n",
       "6    민타임, 야키마 레드   b6  \n",
       "7      민타임, 윗 비어   b7  \n",
       "8    민타임, 라즈베리 윗   b8  \n",
       "9     민타임, 런던 포터   b9  \n",
       "\n",
       "[10 rows x 302 columns]"
      ]
     },
     "execution_count": 272,
     "metadata": {},
     "output_type": "execute_result"
    }
   ],
   "source": [
    "생산자_one_hot = pd.get_dummies(data['생산자'])\n",
    "생산자_one_hot['상품명'] = data['상품명']\n",
    "생산자_one_hot['num'] = data['num']\n",
    "생산자_one_hot.head(10)"
   ]
  },
  {
   "cell_type": "markdown",
   "metadata": {},
   "source": [
    "#### 7. 맥주타입 : one-hot encoding + 가중치"
   ]
  },
  {
   "cell_type": "code",
   "execution_count": 273,
   "metadata": {},
   "outputs": [],
   "source": [
    "맥주타입_one_hot = pd.get_dummies(data['맥주타입'])"
   ]
  },
  {
   "cell_type": "code",
   "execution_count": 274,
   "metadata": {},
   "outputs": [
    {
     "data": {
      "text/html": [
       "<div>\n",
       "<style scoped>\n",
       "    .dataframe tbody tr th:only-of-type {\n",
       "        vertical-align: middle;\n",
       "    }\n",
       "\n",
       "    .dataframe tbody tr th {\n",
       "        vertical-align: top;\n",
       "    }\n",
       "\n",
       "    .dataframe thead th {\n",
       "        text-align: right;\n",
       "    }\n",
       "</style>\n",
       "<table border=\"1\" class=\"dataframe\">\n",
       "  <thead>\n",
       "    <tr style=\"text-align: right;\">\n",
       "      <th></th>\n",
       "      <th>고제</th>\n",
       "      <th>골든 에일</th>\n",
       "      <th>괴즈</th>\n",
       "      <th>글루텐 프리</th>\n",
       "      <th>다크 라거</th>\n",
       "      <th>다크 세종</th>\n",
       "      <th>다크 스트롱 에일</th>\n",
       "      <th>다크 에일</th>\n",
       "      <th>다크 인디아 페일 에일</th>\n",
       "      <th>더블 복</th>\n",
       "      <th>...</th>\n",
       "      <th>헤페바이스</th>\n",
       "      <th>헤페바이스 둔켈</th>\n",
       "      <th>헤페바이젠</th>\n",
       "      <th>헤페바이젠 + 도펠 복</th>\n",
       "      <th>헬레스 라거</th>\n",
       "      <th>호피 세션 세종</th>\n",
       "      <th>호피 필스너</th>\n",
       "      <th>화이트 에일</th>\n",
       "      <th>상품명</th>\n",
       "      <th>num</th>\n",
       "    </tr>\n",
       "  </thead>\n",
       "  <tbody>\n",
       "    <tr>\n",
       "      <th>0</th>\n",
       "      <td>0</td>\n",
       "      <td>0</td>\n",
       "      <td>0</td>\n",
       "      <td>0</td>\n",
       "      <td>0</td>\n",
       "      <td>0</td>\n",
       "      <td>0</td>\n",
       "      <td>0</td>\n",
       "      <td>0</td>\n",
       "      <td>0</td>\n",
       "      <td>...</td>\n",
       "      <td>0</td>\n",
       "      <td>0</td>\n",
       "      <td>0</td>\n",
       "      <td>0</td>\n",
       "      <td>0</td>\n",
       "      <td>0</td>\n",
       "      <td>0</td>\n",
       "      <td>0</td>\n",
       "      <td>마튼즈, 라이거 필스너</td>\n",
       "      <td>b0</td>\n",
       "    </tr>\n",
       "    <tr>\n",
       "      <th>1</th>\n",
       "      <td>0</td>\n",
       "      <td>0</td>\n",
       "      <td>0</td>\n",
       "      <td>0</td>\n",
       "      <td>0</td>\n",
       "      <td>0</td>\n",
       "      <td>0</td>\n",
       "      <td>0</td>\n",
       "      <td>0</td>\n",
       "      <td>0</td>\n",
       "      <td>...</td>\n",
       "      <td>0</td>\n",
       "      <td>0</td>\n",
       "      <td>0</td>\n",
       "      <td>0</td>\n",
       "      <td>0</td>\n",
       "      <td>0</td>\n",
       "      <td>0</td>\n",
       "      <td>0</td>\n",
       "      <td>마튼즈, 라이거 바이젠</td>\n",
       "      <td>b1</td>\n",
       "    </tr>\n",
       "    <tr>\n",
       "      <th>2</th>\n",
       "      <td>0</td>\n",
       "      <td>0</td>\n",
       "      <td>0</td>\n",
       "      <td>0</td>\n",
       "      <td>0</td>\n",
       "      <td>0</td>\n",
       "      <td>0</td>\n",
       "      <td>0</td>\n",
       "      <td>0</td>\n",
       "      <td>0</td>\n",
       "      <td>...</td>\n",
       "      <td>0</td>\n",
       "      <td>0</td>\n",
       "      <td>0</td>\n",
       "      <td>0</td>\n",
       "      <td>0</td>\n",
       "      <td>0</td>\n",
       "      <td>0</td>\n",
       "      <td>0</td>\n",
       "      <td>메나브레아 필스</td>\n",
       "      <td>b2</td>\n",
       "    </tr>\n",
       "    <tr>\n",
       "      <th>3</th>\n",
       "      <td>0</td>\n",
       "      <td>0</td>\n",
       "      <td>0</td>\n",
       "      <td>0</td>\n",
       "      <td>0</td>\n",
       "      <td>0</td>\n",
       "      <td>0</td>\n",
       "      <td>0</td>\n",
       "      <td>0</td>\n",
       "      <td>0</td>\n",
       "      <td>...</td>\n",
       "      <td>0</td>\n",
       "      <td>0</td>\n",
       "      <td>0</td>\n",
       "      <td>0</td>\n",
       "      <td>0</td>\n",
       "      <td>0</td>\n",
       "      <td>0</td>\n",
       "      <td>0</td>\n",
       "      <td>민타임, 런던 라거</td>\n",
       "      <td>b3</td>\n",
       "    </tr>\n",
       "    <tr>\n",
       "      <th>4</th>\n",
       "      <td>0</td>\n",
       "      <td>0</td>\n",
       "      <td>0</td>\n",
       "      <td>0</td>\n",
       "      <td>0</td>\n",
       "      <td>0</td>\n",
       "      <td>0</td>\n",
       "      <td>0</td>\n",
       "      <td>0</td>\n",
       "      <td>0</td>\n",
       "      <td>...</td>\n",
       "      <td>0</td>\n",
       "      <td>0</td>\n",
       "      <td>0</td>\n",
       "      <td>0</td>\n",
       "      <td>0</td>\n",
       "      <td>0</td>\n",
       "      <td>0</td>\n",
       "      <td>0</td>\n",
       "      <td>민타임, 런던 페일 에일</td>\n",
       "      <td>b4</td>\n",
       "    </tr>\n",
       "  </tbody>\n",
       "</table>\n",
       "<p>5 rows × 170 columns</p>\n",
       "</div>"
      ],
      "text/plain": [
       "   고제  골든 에일  괴즈  글루텐 프리  다크 라거  다크 세종  다크 스트롱 에일  다크 에일  다크 인디아 페일 에일  더블 복  \\\n",
       "0   0      0   0       0      0      0          0      0             0     0   \n",
       "1   0      0   0       0      0      0          0      0             0     0   \n",
       "2   0      0   0       0      0      0          0      0             0     0   \n",
       "3   0      0   0       0      0      0          0      0             0     0   \n",
       "4   0      0   0       0      0      0          0      0             0     0   \n",
       "\n",
       "   ...  헤페바이스  헤페바이스 둔켈  헤페바이젠  헤페바이젠 + 도펠 복  헬레스 라거  호피 세션 세종  호피 필스너  \\\n",
       "0  ...      0         0      0             0       0         0       0   \n",
       "1  ...      0         0      0             0       0         0       0   \n",
       "2  ...      0         0      0             0       0         0       0   \n",
       "3  ...      0         0      0             0       0         0       0   \n",
       "4  ...      0         0      0             0       0         0       0   \n",
       "\n",
       "   화이트 에일            상품명  num  \n",
       "0       0   마튼즈, 라이거 필스너   b0  \n",
       "1       0   마튼즈, 라이거 바이젠   b1  \n",
       "2       0       메나브레아 필스   b2  \n",
       "3       0     민타임, 런던 라거   b3  \n",
       "4       0  민타임, 런던 페일 에일   b4  \n",
       "\n",
       "[5 rows x 170 columns]"
      ]
     },
     "execution_count": 274,
     "metadata": {},
     "output_type": "execute_result"
    }
   ],
   "source": [
    "#가중치 50 부여\n",
    "맥주타입_one_hot = 맥주타입_one_hot*50\n",
    "맥주타입_one_hot['상품명'] = data['상품명']\n",
    "맥주타입_one_hot['num'] = data['num']\n",
    "맥주타입_one_hot.head()"
   ]
  },
  {
   "cell_type": "markdown",
   "metadata": {},
   "source": [
    "#### 8. 가격 : (상/중/하)로 나눈 후 one-hot encoding"
   ]
  },
  {
   "cell_type": "markdown",
   "metadata": {},
   "source": [
    "##### 8-1. 값이  ' - '인 것을 0으로 변경"
   ]
  },
  {
   "cell_type": "code",
   "execution_count": 275,
   "metadata": {},
   "outputs": [],
   "source": [
    "for i in range(len(data)):\n",
    "    if data['가격'][i] == '-':\n",
    "        data['가격'][i]=0\n",
    "    else: data['가격'][i] = int(data['가격'][i])"
   ]
  },
  {
   "cell_type": "markdown",
   "metadata": {},
   "source": [
    "##### 8-2. 상/중/하 치환기준 만들기"
   ]
  },
  {
   "cell_type": "code",
   "execution_count": 276,
   "metadata": {},
   "outputs": [
    {
     "name": "stdout",
     "output_type": "stream",
     "text": [
      "1분위 수:  3300.0\n",
      "2분위 수:  8600.0\n",
      "3분위 수:  13000.0\n",
      "4분위 수:  120000.0\n"
     ]
    }
   ],
   "source": [
    "print('1분위 수: ',np.percentile(data['가격'], 25))\n",
    "print('2분위 수: ',np.percentile(data['가격'], 50))\n",
    "print('3분위 수: ',np.percentile(data['가격'], 75))\n",
    "print('4분위 수: ',np.percentile(data['가격'], 100))"
   ]
  },
  {
   "cell_type": "markdown",
   "metadata": {},
   "source": [
    "8500원 초과 : 상<br>\n",
    "3275~8500 : 중<Br>\n",
    "3270 이하 : 하<br>"
   ]
  },
  {
   "cell_type": "markdown",
   "metadata": {},
   "source": [
    "##### 8-3. 상/중/하 치환"
   ]
  },
  {
   "cell_type": "code",
   "execution_count": 277,
   "metadata": {},
   "outputs": [],
   "source": [
    "for i in range(len(data)):\n",
    "    if data['가격'][i] > 6.31 : data['가격'][i] = '가격(상)'\n",
    "    elif data['가격'][i] < 3.5 : data['가격'][i] = '가격(하)'\n",
    "    else : data['가격'][i] = '가격(중)'"
   ]
  },
  {
   "cell_type": "code",
   "execution_count": 278,
   "metadata": {},
   "outputs": [
    {
     "data": {
      "text/plain": [
       "0       가격(상)\n",
       "1       가격(상)\n",
       "2       가격(하)\n",
       "3       가격(상)\n",
       "4       가격(상)\n",
       "        ...  \n",
       "1132    가격(상)\n",
       "1133    가격(상)\n",
       "1134    가격(상)\n",
       "1135    가격(상)\n",
       "1136    가격(상)\n",
       "Name: 가격, Length: 1137, dtype: object"
      ]
     },
     "execution_count": 278,
     "metadata": {},
     "output_type": "execute_result"
    }
   ],
   "source": [
    "data['가격']"
   ]
  },
  {
   "cell_type": "code",
   "execution_count": 279,
   "metadata": {},
   "outputs": [
    {
     "data": {
      "text/html": [
       "<div>\n",
       "<style scoped>\n",
       "    .dataframe tbody tr th:only-of-type {\n",
       "        vertical-align: middle;\n",
       "    }\n",
       "\n",
       "    .dataframe tbody tr th {\n",
       "        vertical-align: top;\n",
       "    }\n",
       "\n",
       "    .dataframe thead th {\n",
       "        text-align: right;\n",
       "    }\n",
       "</style>\n",
       "<table border=\"1\" class=\"dataframe\">\n",
       "  <thead>\n",
       "    <tr style=\"text-align: right;\">\n",
       "      <th></th>\n",
       "      <th>가격(상)</th>\n",
       "      <th>가격(하)</th>\n",
       "      <th>상품명</th>\n",
       "      <th>num</th>\n",
       "    </tr>\n",
       "  </thead>\n",
       "  <tbody>\n",
       "    <tr>\n",
       "      <th>0</th>\n",
       "      <td>1</td>\n",
       "      <td>0</td>\n",
       "      <td>마튼즈, 라이거 필스너</td>\n",
       "      <td>b0</td>\n",
       "    </tr>\n",
       "    <tr>\n",
       "      <th>1</th>\n",
       "      <td>1</td>\n",
       "      <td>0</td>\n",
       "      <td>마튼즈, 라이거 바이젠</td>\n",
       "      <td>b1</td>\n",
       "    </tr>\n",
       "    <tr>\n",
       "      <th>2</th>\n",
       "      <td>0</td>\n",
       "      <td>1</td>\n",
       "      <td>메나브레아 필스</td>\n",
       "      <td>b2</td>\n",
       "    </tr>\n",
       "    <tr>\n",
       "      <th>3</th>\n",
       "      <td>1</td>\n",
       "      <td>0</td>\n",
       "      <td>민타임, 런던 라거</td>\n",
       "      <td>b3</td>\n",
       "    </tr>\n",
       "    <tr>\n",
       "      <th>4</th>\n",
       "      <td>1</td>\n",
       "      <td>0</td>\n",
       "      <td>민타임, 런던 페일 에일</td>\n",
       "      <td>b4</td>\n",
       "    </tr>\n",
       "  </tbody>\n",
       "</table>\n",
       "</div>"
      ],
      "text/plain": [
       "   가격(상)  가격(하)            상품명 num\n",
       "0      1      0   마튼즈, 라이거 필스너  b0\n",
       "1      1      0   마튼즈, 라이거 바이젠  b1\n",
       "2      0      1       메나브레아 필스  b2\n",
       "3      1      0     민타임, 런던 라거  b3\n",
       "4      1      0  민타임, 런던 페일 에일  b4"
      ]
     },
     "execution_count": 279,
     "metadata": {},
     "output_type": "execute_result"
    }
   ],
   "source": [
    "가격_one_hot = pd.get_dummies(data['가격'])\n",
    "\n",
    "#가중치\n",
    "가격_one_hot*10\n",
    "\n",
    "가격_one_hot['상품명'] = data['상품명']\n",
    "가격_one_hot['num'] = data['num']\n",
    "가격_one_hot.head()"
   ]
  },
  {
   "cell_type": "markdown",
   "metadata": {},
   "source": [
    "#### 9. 각 one-hot Encoding한 컬럼들을 원본데이터에 합치기\n",
    "1. 도수\n",
    "2. 원재료\n",
    "3. 생산지역\n",
    "4. 생산자\n",
    "5. 맥주타입\n",
    "6. 가격"
   ]
  },
  {
   "cell_type": "code",
   "execution_count": 280,
   "metadata": {},
   "outputs": [],
   "source": [
    "a_group = pd.merge(도수_one_hot,원재료_one_hot,on=['num','상품명'])"
   ]
  },
  {
   "cell_type": "code",
   "execution_count": 281,
   "metadata": {},
   "outputs": [],
   "source": [
    "b_group = pd.merge(생산지역_one_hot,생산자_one_hot,on=['상품명','num'])"
   ]
  },
  {
   "cell_type": "code",
   "execution_count": 282,
   "metadata": {},
   "outputs": [],
   "source": [
    "c_group = pd.merge(맥주타입_one_hot,가격_one_hot,on=['상품명','num'])"
   ]
  },
  {
   "cell_type": "code",
   "execution_count": 283,
   "metadata": {},
   "outputs": [],
   "source": [
    "ab_group = pd.merge(a_group,b_group,on=['상품명','num'])"
   ]
  },
  {
   "cell_type": "code",
   "execution_count": 284,
   "metadata": {},
   "outputs": [],
   "source": [
    "abc_group = pd.merge(ab_group,c_group,on=['상품명','num'])"
   ]
  },
  {
   "cell_type": "markdown",
   "metadata": {},
   "source": [
    "원본데이터 총 데이터개수와 병합 후 데이터개수 체크"
   ]
  },
  {
   "cell_type": "code",
   "execution_count": 285,
   "metadata": {},
   "outputs": [
    {
     "name": "stdout",
     "output_type": "stream",
     "text": [
      "원본데이터 개수  1137\n",
      "병합 후 데이터 개수  1137\n"
     ]
    }
   ],
   "source": [
    "print('원본데이터 개수 ', len(data))\n",
    "print('병합 후 데이터 개수 ', len(abc_group))"
   ]
  },
  {
   "cell_type": "markdown",
   "metadata": {},
   "source": [
    "#### 10. 데이터 활용이 편하도록 label인 상품명을 마지막 열로 옮긴다.\n",
    "+ num을 지운다"
   ]
  },
  {
   "cell_type": "code",
   "execution_count": 286,
   "metadata": {},
   "outputs": [],
   "source": [
    "abc_group.drop('상품명',axis=1,inplace=True)"
   ]
  },
  {
   "cell_type": "code",
   "execution_count": 287,
   "metadata": {},
   "outputs": [],
   "source": [
    "abc_group['상품명'] = data['상품명']"
   ]
  },
  {
   "cell_type": "markdown",
   "metadata": {},
   "source": [
    "#### 11. 전처리 리스트 확인\n",
    "\n",
    "##### 전처리 리스트\n",
    "1. 컬럼삭제 (상품명_eng, 홉종류, IBU, SRM, 정보, 생산자_eng, 생산지역_eng\n",
    "2. 컬럼이름 변경({상품명_kor:상품명}, {생산자_kor:생산자},{생산지역_kor:생산지역})\n",
    "3. 도수 : (상/중/하)로 나눈 후 one-hot encoding\n",
    "4. 원재료 : [정제수,맥아,홉,효모]를 각각 컬럼으로 나눈 뒤 one-hot encoding\n",
    "5. 생산지역 : one-hot encoding\n",
    "6. 생산자 : one-hot encoding\n",
    "7. 맥주타입 : one-hot encoding + 가중치\n",
    "8. 가격 : (상/중/하)로 나눈 후 one-hot encoding"
   ]
  },
  {
   "cell_type": "code",
   "execution_count": 288,
   "metadata": {},
   "outputs": [
    {
     "data": {
      "text/html": [
       "<div>\n",
       "<style scoped>\n",
       "    .dataframe tbody tr th:only-of-type {\n",
       "        vertical-align: middle;\n",
       "    }\n",
       "\n",
       "    .dataframe tbody tr th {\n",
       "        vertical-align: top;\n",
       "    }\n",
       "\n",
       "    .dataframe thead th {\n",
       "        text-align: right;\n",
       "    }\n",
       "</style>\n",
       "<table border=\"1\" class=\"dataframe\">\n",
       "  <thead>\n",
       "    <tr style=\"text-align: right;\">\n",
       "      <th></th>\n",
       "      <th>num</th>\n",
       "      <th>상품명</th>\n",
       "      <th>원재료</th>\n",
       "      <th>생산자</th>\n",
       "      <th>생산지역</th>\n",
       "      <th>맥주타입</th>\n",
       "      <th>가격</th>\n",
       "    </tr>\n",
       "  </thead>\n",
       "  <tbody>\n",
       "    <tr>\n",
       "      <th>0</th>\n",
       "      <td>b0</td>\n",
       "      <td>마튼즈, 라이거 필스너</td>\n",
       "      <td>정제수,맥아,홉,효모</td>\n",
       "      <td>마튼즈</td>\n",
       "      <td>벨기에</td>\n",
       "      <td>필스너</td>\n",
       "      <td>가격(상)</td>\n",
       "    </tr>\n",
       "    <tr>\n",
       "      <th>1</th>\n",
       "      <td>b1</td>\n",
       "      <td>마튼즈, 라이거 바이젠</td>\n",
       "      <td>-</td>\n",
       "      <td>마튼즈</td>\n",
       "      <td>벨기에</td>\n",
       "      <td>바이젠</td>\n",
       "      <td>가격(상)</td>\n",
       "    </tr>\n",
       "  </tbody>\n",
       "</table>\n",
       "</div>"
      ],
      "text/plain": [
       "  num           상품명          원재료  생산자 생산지역 맥주타입     가격\n",
       "0  b0  마튼즈, 라이거 필스너  정제수,맥아,홉,효모  마튼즈  벨기에  필스너  가격(상)\n",
       "1  b1  마튼즈, 라이거 바이젠            -  마튼즈  벨기에  바이젠  가격(상)"
      ]
     },
     "execution_count": 288,
     "metadata": {},
     "output_type": "execute_result"
    }
   ],
   "source": [
    "data.head(2)"
   ]
  },
  {
   "cell_type": "markdown",
   "metadata": {},
   "source": [
    "확인완료"
   ]
  },
  {
   "cell_type": "markdown",
   "metadata": {},
   "source": [
    "### 추천용 데이터 리스트 저장"
   ]
  },
  {
   "cell_type": "code",
   "execution_count": 289,
   "metadata": {},
   "outputs": [],
   "source": [
    "abc_group.to_csv('../data/beer4REC.csv', encoding='utf-8-sig',index='num')"
   ]
  },
  {
   "cell_type": "markdown",
   "metadata": {},
   "source": [
    "### Train 데이터 리스트 저장"
   ]
  },
  {
   "cell_type": "markdown",
   "metadata": {},
   "source": [
    "##### 공정한 train을 위해 데이터를 무작위로 섞기"
   ]
  },
  {
   "cell_type": "code",
   "execution_count": 290,
   "metadata": {},
   "outputs": [
    {
     "name": "stdout",
     "output_type": "stream",
     "text": [
      "총 데이터 개수 1137\n",
      "학습에 사용할 데이터 개수  1137\n"
     ]
    }
   ],
   "source": [
    "train = abc_group.sample(frac=1)\n",
    "print('총 데이터 개수', len(abc_group))\n",
    "\n",
    "train = train.iloc[:1134,:]\n",
    "print('학습에 사용할 데이터 개수 ',len(abc_group))"
   ]
  },
  {
   "cell_type": "code",
   "execution_count": 291,
   "metadata": {},
   "outputs": [],
   "source": [
    "train.to_csv('../data/beer4REC_train.csv', encoding='utf-8-sig',index='num')"
   ]
  },
  {
   "cell_type": "markdown",
   "metadata": {},
   "source": [
    "### Test 데이터 리스트 저장"
   ]
  },
  {
   "cell_type": "code",
   "execution_count": 292,
   "metadata": {},
   "outputs": [
    {
     "name": "stdout",
     "output_type": "stream",
     "text": [
      "학습에 사용할 데이터 개수  3\n"
     ]
    }
   ],
   "source": [
    "test = abc_group.iloc[1134:,:]\n",
    "print('학습에 사용할 데이터 개수 ',len(test))"
   ]
  },
  {
   "cell_type": "code",
   "execution_count": 293,
   "metadata": {},
   "outputs": [],
   "source": [
    "test.to_csv('../data/beer4REC_test.csv', encoding='utf-8-sig',index='num')"
   ]
  }
 ],
 "metadata": {
  "kernelspec": {
   "display_name": "Python 3",
   "language": "python",
   "name": "python3"
  },
  "language_info": {
   "codemirror_mode": {
    "name": "ipython",
    "version": 3
   },
   "file_extension": ".py",
   "mimetype": "text/x-python",
   "name": "python",
   "nbconvert_exporter": "python",
   "pygments_lexer": "ipython3",
   "version": "3.6.9"
  }
 },
 "nbformat": 4,
 "nbformat_minor": 2
}

   "metadata": {},
   "source": [
    "# 데이터 불러오기"
   ]
  },
  {
   "cell_type": "code",
   "execution_count": 58,
   "metadata": {},
   "outputs": [],
   "source": [
    "import numpy as np\n",
    "import pandas as pd"
   ]
  },
  {
   "cell_type": "code",
   "execution_count": 59,
   "metadata": {},
   "outputs": [],
   "source": [
    "data = pd.read_csv(\"../data/beer4EDA.csv\",encoding='utf-8')"
   ]
  },
  {
   "cell_type": "code",
   "execution_count": 60,
   "metadata": {},
   "outputs": [
    {
     "data": {
      "text/plain": [
       "(1137, 15)"
      ]
     },
     "execution_count": 60,
     "metadata": {},
     "output_type": "execute_result"
    }
   ],
   "source": [
    "data.shape"
   ]
  },
  {
   "cell_type": "markdown",
   "metadata": {},
   "source": [
    "# 불러온 데이터 확인"
   ]
  },
  {
   "cell_type": "code",
   "execution_count": 61,
   "metadata": {},
   "outputs": [
    {
     "data": {
      "text/html": [
       "<div>\n",
       "<style scoped>\n",
       "    .dataframe tbody tr th:only-of-type {\n",
       "        vertical-align: middle;\n",
       "    }\n",
       "\n",
       "    .dataframe tbody tr th {\n",
       "        vertical-align: top;\n",
       "    }\n",
       "\n",
       "    .dataframe thead th {\n",
       "        text-align: right;\n",
       "    }\n",
       "</style>\n",
       "<table border=\"1\" class=\"dataframe\">\n",
       "  <thead>\n",
       "    <tr style=\"text-align: right;\">\n",
       "      <th></th>\n",
       "      <th>num</th>\n",
       "      <th>상품명_kor</th>\n",
       "      <th>상품명_eng</th>\n",
       "      <th>도수</th>\n",
       "      <th>원재료</th>\n",
       "      <th>홉종류</th>\n",
       "      <th>IBU</th>\n",
       "      <th>SRM</th>\n",
       "      <th>정보</th>\n",
       "      <th>생산자_kor</th>\n",
       "      <th>생산자_eng</th>\n",
       "      <th>생산지역_kor</th>\n",
       "      <th>생산지역_eng</th>\n",
       "      <th>맥주타입</th>\n",
       "      <th>가격</th>\n",
       "    </tr>\n",
       "  </thead>\n",
       "  <tbody>\n",
       "    <tr>\n",
       "      <th>1136</th>\n",
       "      <td>1136</td>\n",
       "      <td>가펠 쾰쉬</td>\n",
       "      <td>Gaffel Kolsch</td>\n",
       "      <td>4.8</td>\n",
       "      <td>정제수, 맥아, 홉, 효모</td>\n",
       "      <td>-</td>\n",
       "      <td>25</td>\n",
       "      <td>-</td>\n",
       "      <td>에일 효모를 이용한 맥주. 에일 맥주의 고유의 청사과, 꽃, 허니 등의 고급스러운 ...</td>\n",
       "      <td>프라이빗 브루어리 가펠 베커 앤 컴퍼니</td>\n",
       "      <td>Brivatbrauerei Gaffel Becker &amp; Company</td>\n",
       "      <td>쾰른</td>\n",
       "      <td>Koln</td>\n",
       "      <td>쾰쉬</td>\n",
       "      <td>3500</td>\n",
       "    </tr>\n",
       "  </tbody>\n",
       "</table>\n",
       "</div>"
      ],
      "text/plain": [
       "       num 상품명_kor        상품명_eng   도수             원재료 홉종류 IBU SRM  \\\n",
       "1136  1136   가펠 쾰쉬  Gaffel Kolsch  4.8  정제수, 맥아, 홉, 효모   -  25   -   \n",
       "\n",
       "                                                     정보  \\\n",
       "1136  에일 효모를 이용한 맥주. 에일 맥주의 고유의 청사과, 꽃, 허니 등의 고급스러운 ...   \n",
       "\n",
       "                    생산자_kor                                 생산자_eng 생산지역_kor  \\\n",
       "1136  프라이빗 브루어리 가펠 베커 앤 컴퍼니  Brivatbrauerei Gaffel Becker & Company       쾰른   \n",
       "\n",
       "     생산지역_eng 맥주타입    가격  \n",
       "1136     Koln  쾰쉬   3500  "
      ]
     },
     "execution_count": 61,
     "metadata": {},
     "output_type": "execute_result"
    }
   ],
   "source": [
    "data.tail(1)"
   ]
  },
  {
   "cell_type": "markdown",
   "metadata": {},
   "source": [
    "### 전처리 리스트\n",
    "1. 컬럼삭제 (상품명_eng, 홉종류, IBU, SRM, 정보, 생산자_eng, 생산지역_eng\n",
    "2. 컬럼이름 변경({상품명_kor:상품명}, {생산자_kor:생산자},{생산지역_kor:생산지역})\n",
    "3. 도수 : (상/중/하)로 나눈 후 one-hot encoding\n",
    "4. 원재료 : [정제수,맥아,홉,효모]를 각각 컬럼으로 나눈 뒤 one-hot encoding\n",
    "5. 생산지역 : one-hot encoding\n",
    "6. 생산자 : one-hot encoding\n",
    "7. 맥주타입 : one-hot encoding + 가중치\n",
    "8. 가격 : (상/중/하)로 나눈 후 one-hot encoding"
   ]
  },
  {
   "cell_type": "markdown",
   "metadata": {},
   "source": [
    "\n",
    "#### 1. 컬럼삭제 (num, 상품명_eng, 홉종류, IBU, SRM, 정보, 생산자_eng, 생산지역_eng)"
   ]
  },
  {
   "cell_type": "code",
   "execution_count": 62,
   "metadata": {},
   "outputs": [],
   "source": [
    "data.drop(['상품명_eng', '홉종류', 'IBU', 'SRM', '정보', '생산자_eng', '생산지역_eng'], axis=1, inplace=True)"
   ]
  },
  {
   "cell_type": "code",
   "execution_count": 63,
   "metadata": {},
   "outputs": [
    {
     "data": {
      "text/html": [
       "<div>\n",
       "<style scoped>\n",
       "    .dataframe tbody tr th:only-of-type {\n",
       "        vertical-align: middle;\n",
       "    }\n",
       "\n",
       "    .dataframe tbody tr th {\n",
       "        vertical-align: top;\n",
       "    }\n",
       "\n",
       "    .dataframe thead th {\n",
       "        text-align: right;\n",
       "    }\n",
       "</style>\n",
       "<table border=\"1\" class=\"dataframe\">\n",
       "  <thead>\n",
       "    <tr style=\"text-align: right;\">\n",
       "      <th></th>\n",
       "      <th>num</th>\n",
       "      <th>상품명_kor</th>\n",
       "      <th>도수</th>\n",
       "      <th>원재료</th>\n",
       "      <th>생산자_kor</th>\n",
       "      <th>생산지역_kor</th>\n",
       "      <th>맥주타입</th>\n",
       "      <th>가격</th>\n",
       "    </tr>\n",
       "  </thead>\n",
       "  <tbody>\n",
       "    <tr>\n",
       "      <th>0</th>\n",
       "      <td>0</td>\n",
       "      <td>마튼즈, 라이거 필스너</td>\n",
       "      <td>8.0</td>\n",
       "      <td>-</td>\n",
       "      <td>마튼즈</td>\n",
       "      <td>벨기에</td>\n",
       "      <td>필스너</td>\n",
       "      <td>5850</td>\n",
       "    </tr>\n",
       "  </tbody>\n",
       "</table>\n",
       "</div>"
      ],
      "text/plain": [
       "   num       상품명_kor   도수 원재료 생산자_kor 생산지역_kor 맥주타입    가격\n",
       "0    0  마튼즈, 라이거 필스너  8.0   -     마튼즈      벨기에  필스너  5850"
      ]
     },
     "execution_count": 63,
     "metadata": {},
     "output_type": "execute_result"
    }
   ],
   "source": [
    "data.head(1)"
   ]
  },
  {
   "cell_type": "markdown",
   "metadata": {},
   "source": [
    "#### 2. 컬럼이름 변경({상품명_kor:상품명}, {생산자_kor:생산자},{생산지역_kor:생산지역})"
   ]
  },
  {
   "cell_type": "code",
   "execution_count": 64,
   "metadata": {},
   "outputs": [],
   "source": [
    "data.rename(columns={'상품명_kor':'상품명','생산자_kor':'생산자','생산지역_kor':'생산지역'},inplace=True)"
   ]
  },
  {
   "cell_type": "code",
   "execution_count": 65,
   "metadata": {},
   "outputs": [
    {
     "data": {
      "text/html": [
       "<div>\n",
       "<style scoped>\n",
       "    .dataframe tbody tr th:only-of-type {\n",
       "        vertical-align: middle;\n",
       "    }\n",
       "\n",
       "    .dataframe tbody tr th {\n",
       "        vertical-align: top;\n",
       "    }\n",
       "\n",
       "    .dataframe thead th {\n",
       "        text-align: right;\n",
       "    }\n",
       "</style>\n",
       "<table border=\"1\" class=\"dataframe\">\n",
       "  <thead>\n",
       "    <tr style=\"text-align: right;\">\n",
       "      <th></th>\n",
       "      <th>num</th>\n",
       "      <th>상품명</th>\n",
       "      <th>도수</th>\n",
       "      <th>원재료</th>\n",
       "      <th>생산자</th>\n",
       "      <th>생산지역</th>\n",
       "      <th>맥주타입</th>\n",
       "      <th>가격</th>\n",
       "    </tr>\n",
       "  </thead>\n",
       "  <tbody>\n",
       "    <tr>\n",
       "      <th>0</th>\n",
       "      <td>0</td>\n",
       "      <td>마튼즈, 라이거 필스너</td>\n",
       "      <td>8.0</td>\n",
       "      <td>-</td>\n",
       "      <td>마튼즈</td>\n",
       "      <td>벨기에</td>\n",
       "      <td>필스너</td>\n",
       "      <td>5850</td>\n",
       "    </tr>\n",
       "  </tbody>\n",
       "</table>\n",
       "</div>"
      ],
      "text/plain": [
       "   num           상품명   도수 원재료  생산자 생산지역 맥주타입    가격\n",
       "0    0  마튼즈, 라이거 필스너  8.0   -  마튼즈  벨기에  필스너  5850"
      ]
     },
     "execution_count": 65,
     "metadata": {},
     "output_type": "execute_result"
    }
   ],
   "source": [
    "data.head(1)"
   ]
  },
  {
   "cell_type": "markdown",
   "metadata": {},
   "source": [
    "#### 3. 도수 : (상/중/하)로 나눈 후 one-hot encoding"
   ]
  },
  {
   "cell_type": "code",
   "execution_count": 66,
   "metadata": {},
   "outputs": [],
   "source": [
    "import matplotlib.pyplot as plt\n",
    "\n",
    "import seaborn as sns\n",
    "\n",
    "from matplotlib import font_manager, rc\n",
    "plt.rcParams['axes.unicode_minus'] = False\n",
    "\n",
    "path = 'c://Windows/Fonts/malgun.ttf'\n",
    "\n",
    "font_name = font_manager.FontProperties(fname=path).get_name()\n",
    "rc('font', family=font_name)"
   ]
  },
  {
   "cell_type": "markdown",
   "metadata": {},
   "source": [
    "##### 3-1. 도수의 현재 형타입인 str에서 float으로 변환\n",
    "- 입력값 중에 '-'은 0으로 변환"
   ]
  },
  {
   "cell_type": "code",
   "execution_count": 67,
   "metadata": {},
   "outputs": [
    {
     "name": "stderr",
     "output_type": "stream",
     "text": [
      "C:\\Users\\JIn\\Anaconda3\\lib\\site-packages\\ipykernel_launcher.py:2: SettingWithCopyWarning: \n",
      "A value is trying to be set on a copy of a slice from a DataFrame\n",
      "\n",
      "See the caveats in the documentation: http://pandas.pydata.org/pandas-docs/stable/user_guide/indexing.html#returning-a-view-versus-a-copy\n",
      "  \n",
      "C:\\Users\\JIn\\Anaconda3\\lib\\site-packages\\ipykernel_launcher.py:4: SettingWithCopyWarning: \n",
      "A value is trying to be set on a copy of a slice from a DataFrame\n",
      "\n",
      "See the caveats in the documentation: http://pandas.pydata.org/pandas-docs/stable/user_guide/indexing.html#returning-a-view-versus-a-copy\n",
      "  after removing the cwd from sys.path.\n"
     ]
    }
   ],
   "source": [
    "for i in range(len(data)):\n",
    "    try: data['도수'][i] = float(data['도수'][i])\n",
    "    except ValueError:\n",
    "        data['도수'][i] = 0.0"
   ]
  },
  {
   "cell_type": "markdown",
   "metadata": {},
   "source": [
    "##### 상/중/하를 나누기 위해 3-2 데이터분포 살펴보기"
   ]
  },
  {
   "cell_type": "code",
   "execution_count": 68,
   "metadata": {},
   "outputs": [],
   "source": [
    "from scipy.stats import describe"
   ]
  },
  {
   "cell_type": "code",
   "execution_count": 69,
   "metadata": {},
   "outputs": [
    {
     "name": "stdout",
     "output_type": "stream",
     "text": [
      "1분위 수:  5.0\n",
      "2분위 수:  5.8\n",
      "평균 :  6.317348284960415\n",
      "3분위 수:  7.4\n",
      "4분위 수:  14.2\n"
     ]
    },
    {
     "data": {
      "image/png": "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\n",
      "text/plain": [
       "<Figure size 432x288 with 1 Axes>"
      ]
     },
     "metadata": {
      "needs_background": "light"
     },
     "output_type": "display_data"
    }
   ],
   "source": [
    "sns.boxplot(data['도수'])\n",
    "print('1분위 수: ',np.percentile(data['도수'], 25))\n",
    "print('2분위 수: ',np.percentile(data['도수'], 50))\n",
    "print('평균 : ',data['도수'].sum()/len(data) )\n",
    "print('3분위 수: ',np.percentile(data['도수'], 75))\n",
    "print('4분위 수: ',np.percentile(data['도수'], 100))"
   ]
  },
  {
   "cell_type": "markdown",
   "metadata": {},
   "source": [
    "2분위수 데이터의 밀도가 높으므로 2분위수를 기준으로 상/중/하를 나눈다\n",
    "1. 6.31 초과 : 상\n",
    "2. 5~6.31 : 중\n",
    "3. 5 미만 : 하"
   ]
  },
  {
   "cell_type": "markdown",
   "metadata": {},
   "source": [
    "##### 3-3 상/중/하로 치환"
   ]
  },
  {
   "cell_type": "code",
   "execution_count": 70,
   "metadata": {},
   "outputs": [
    {
     "name": "stderr",
     "output_type": "stream",
     "text": [
      "C:\\Users\\JIn\\Anaconda3\\lib\\site-packages\\ipykernel_launcher.py:2: SettingWithCopyWarning: \n",
      "A value is trying to be set on a copy of a slice from a DataFrame\n",
      "\n",
      "See the caveats in the documentation: http://pandas.pydata.org/pandas-docs/stable/user_guide/indexing.html#returning-a-view-versus-a-copy\n",
      "  \n",
      "C:\\Users\\JIn\\Anaconda3\\lib\\site-packages\\ipykernel_launcher.py:4: SettingWithCopyWarning: \n",
      "A value is trying to be set on a copy of a slice from a DataFrame\n",
      "\n",
      "See the caveats in the documentation: http://pandas.pydata.org/pandas-docs/stable/user_guide/indexing.html#returning-a-view-versus-a-copy\n",
      "  after removing the cwd from sys.path.\n",
      "C:\\Users\\JIn\\Anaconda3\\lib\\site-packages\\ipykernel_launcher.py:3: SettingWithCopyWarning: \n",
      "A value is trying to be set on a copy of a slice from a DataFrame\n",
      "\n",
      "See the caveats in the documentation: http://pandas.pydata.org/pandas-docs/stable/user_guide/indexing.html#returning-a-view-versus-a-copy\n",
      "  This is separate from the ipykernel package so we can avoid doing imports until\n"
     ]
    }
   ],
   "source": [
    "for i in range(len(data)):\n",
    "    if data['도수'][i] > 6.31 : data['도수'][i] = '도수(상)'\n",
    "    elif data['도수'][i] < 3.5 : data['도수'][i] = '도수(하)'\n",
    "    else : data['도수'][i] = '도수(중)' "
   ]
  },
  {
   "cell_type": "code",
   "execution_count": 71,
   "metadata": {},
   "outputs": [
    {
     "data": {
      "text/plain": [
       "0    도수(상)\n",
       "1    도수(상)\n",
       "2    도수(중)\n",
       "Name: 도수, dtype: object"
      ]
     },
     "execution_count": 71,
     "metadata": {},
     "output_type": "execute_result"
    }
   ],
   "source": [
    "data['도수'].head(3)"
   ]
  },
  {
   "cell_type": "code",
   "execution_count": 72,
   "metadata": {},
   "outputs": [
    {
     "data": {
      "text/plain": [
       "(array([473.,   0.,   0.,   0.,   0., 634.,   0.,   0.,   0.,  30.]),\n",
       " array([0. , 0.2, 0.4, 0.6, 0.8, 1. , 1.2, 1.4, 1.6, 1.8, 2. ]),\n",
       " <a list of 10 Patch objects>)"
      ]
     },
     "execution_count": 72,
     "metadata": {},
     "output_type": "execute_result"
    },
    {
     "data": {
      "image/png": "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\n",
      "text/plain": [
       "<Figure size 432x288 with 1 Axes>"
      ]
     },
     "metadata": {
      "needs_background": "light"
     },
     "output_type": "display_data"
    }
   ],
   "source": [
    "plt.hist(data['도수'])"
   ]
  },
  {
   "cell_type": "markdown",
   "metadata": {},
   "source": [
    "도수(상)이 다소 많음 : (1) 외국맥주 특성이 반영된 것? (2) 분리기준 잘못 세운거?<br>\n",
    "인터넷 검색결과, 한국맥주는 4.2~5.3으로 해외 맥주에 비하여 도수가 낮다.<br> 따라서 도수(중 : 5~6.3)의 기준도 한국인의 기준에서 높게 반영됐다고 할 수 있다. "
   ]
  },
  {
   "cell_type": "markdown",
   "metadata": {},
   "source": [
    "##### 3-4 원-핫 인코딩"
   ]
  },
  {
   "cell_type": "code",
   "execution_count": 73,
   "metadata": {},
   "outputs": [
    {
     "data": {
      "text/html": [
       "<div>\n",
       "<style scoped>\n",
       "    .dataframe tbody tr th:only-of-type {\n",
       "        vertical-align: middle;\n",
       "    }\n",
       "\n",
       "    .dataframe tbody tr th {\n",
       "        vertical-align: top;\n",
       "    }\n",
       "\n",
       "    .dataframe thead th {\n",
       "        text-align: right;\n",
       "    }\n",
       "</style>\n",
       "<table border=\"1\" class=\"dataframe\">\n",
       "  <thead>\n",
       "    <tr style=\"text-align: right;\">\n",
       "      <th></th>\n",
       "      <th>도수(상)</th>\n",
       "      <th>도수(중)</th>\n",
       "      <th>도수(하)</th>\n",
       "      <th>상품명</th>\n",
       "      <th>num</th>\n",
       "    </tr>\n",
       "  </thead>\n",
       "  <tbody>\n",
       "    <tr>\n",
       "      <th>0</th>\n",
       "      <td>1</td>\n",
       "      <td>0</td>\n",
       "      <td>0</td>\n",
       "      <td>마튼즈, 라이거 필스너</td>\n",
       "      <td>0</td>\n",
       "    </tr>\n",
       "    <tr>\n",
       "      <th>1</th>\n",
       "      <td>1</td>\n",
       "      <td>0</td>\n",
       "      <td>0</td>\n",
       "      <td>마튼즈, 라이거 바이젠</td>\n",
       "      <td>1</td>\n",
       "    </tr>\n",
       "    <tr>\n",
       "      <th>2</th>\n",
       "      <td>0</td>\n",
       "      <td>1</td>\n",
       "      <td>0</td>\n",
       "      <td>메나브레아 필스</td>\n",
       "      <td>2</td>\n",
       "    </tr>\n",
       "    <tr>\n",
       "      <th>3</th>\n",
       "      <td>0</td>\n",
       "      <td>1</td>\n",
       "      <td>0</td>\n",
       "      <td>민타임, 런던 라거</td>\n",
       "      <td>3</td>\n",
       "    </tr>\n",
       "    <tr>\n",
       "      <th>4</th>\n",
       "      <td>0</td>\n",
       "      <td>1</td>\n",
       "      <td>0</td>\n",
       "      <td>민타임, 런던 페일 에일</td>\n",
       "      <td>4</td>\n",
       "    </tr>\n",
       "    <tr>\n",
       "      <th>...</th>\n",
       "      <td>...</td>\n",
       "      <td>...</td>\n",
       "      <td>...</td>\n",
       "      <td>...</td>\n",
       "      <td>...</td>\n",
       "    </tr>\n",
       "    <tr>\n",
       "      <th>1132</th>\n",
       "      <td>0</td>\n",
       "      <td>1</td>\n",
       "      <td>0</td>\n",
       "      <td>해리스 스타우트</td>\n",
       "      <td>1132</td>\n",
       "    </tr>\n",
       "    <tr>\n",
       "      <th>1133</th>\n",
       "      <td>0</td>\n",
       "      <td>1</td>\n",
       "      <td>0</td>\n",
       "      <td>샘스 에일</td>\n",
       "      <td>1133</td>\n",
       "    </tr>\n",
       "    <tr>\n",
       "      <th>1134</th>\n",
       "      <td>0</td>\n",
       "      <td>1</td>\n",
       "      <td>0</td>\n",
       "      <td>슈렝케를라 메르첸</td>\n",
       "      <td>1134</td>\n",
       "    </tr>\n",
       "    <tr>\n",
       "      <th>1135</th>\n",
       "      <td>0</td>\n",
       "      <td>1</td>\n",
       "      <td>0</td>\n",
       "      <td>가펠 소넨 호펜</td>\n",
       "      <td>1135</td>\n",
       "    </tr>\n",
       "    <tr>\n",
       "      <th>1136</th>\n",
       "      <td>0</td>\n",
       "      <td>1</td>\n",
       "      <td>0</td>\n",
       "      <td>가펠 쾰쉬</td>\n",
       "      <td>1136</td>\n",
       "    </tr>\n",
       "  </tbody>\n",
       "</table>\n",
       "<p>1137 rows × 5 columns</p>\n",
       "</div>"
      ],
      "text/plain": [
       "      도수(상)  도수(중)  도수(하)            상품명   num\n",
       "0         1      0      0   마튼즈, 라이거 필스너     0\n",
       "1         1      0      0   마튼즈, 라이거 바이젠     1\n",
       "2         0      1      0       메나브레아 필스     2\n",
       "3         0      1      0     민타임, 런던 라거     3\n",
       "4         0      1      0  민타임, 런던 페일 에일     4\n",
       "...     ...    ...    ...            ...   ...\n",
       "1132      0      1      0       해리스 스타우트  1132\n",
       "1133      0      1      0          샘스 에일  1133\n",
       "1134      0      1      0      슈렝케를라 메르첸  1134\n",
       "1135      0      1      0       가펠 소넨 호펜  1135\n",
       "1136      0      1      0          가펠 쾰쉬  1136\n",
       "\n",
       "[1137 rows x 5 columns]"
      ]
     },
     "execution_count": 73,
     "metadata": {},
     "output_type": "execute_result"
    }
   ],
   "source": [
    "도수_one_hot = pd.get_dummies(data['도수'])\n",
    "도수_one_hot['상품명'] = data['상품명']\n",
    "도수_one_hot['num'] = data['num']\n",
    "도수_one_hot"
   ]
  },
  {
   "cell_type": "markdown",
   "metadata": {},
   "source": [
    "##### 3-4 도수컬럼 삭제"
   ]
  },
  {
   "cell_type": "code",
   "execution_count": 74,
   "metadata": {},
   "outputs": [],
   "source": [
    "data.drop(['도수'], axis=1, inplace=True)"
   ]
  },
  {
   "cell_type": "code",
   "execution_count": 75,
   "metadata": {},
   "outputs": [
    {
     "data": {
      "text/html": [
       "<div>\n",
       "<style scoped>\n",
       "    .dataframe tbody tr th:only-of-type {\n",
       "        vertical-align: middle;\n",
       "    }\n",
       "\n",
       "    .dataframe tbody tr th {\n",
       "        vertical-align: top;\n",
       "    }\n",
       "\n",
       "    .dataframe thead th {\n",
       "        text-align: right;\n",
       "    }\n",
       "</style>\n",
       "<table border=\"1\" class=\"dataframe\">\n",
       "  <thead>\n",
       "    <tr style=\"text-align: right;\">\n",
       "      <th></th>\n",
       "      <th>num</th>\n",
       "      <th>상품명</th>\n",
       "      <th>원재료</th>\n",
       "      <th>생산자</th>\n",
       "      <th>생산지역</th>\n",
       "      <th>맥주타입</th>\n",
       "      <th>가격</th>\n",
       "    </tr>\n",
       "  </thead>\n",
       "  <tbody>\n",
       "    <tr>\n",
       "      <th>0</th>\n",
       "      <td>0</td>\n",
       "      <td>마튼즈, 라이거 필스너</td>\n",
       "      <td>-</td>\n",
       "      <td>마튼즈</td>\n",
       "      <td>벨기에</td>\n",
       "      <td>필스너</td>\n",
       "      <td>5850</td>\n",
       "    </tr>\n",
       "  </tbody>\n",
       "</table>\n",
       "</div>"
      ],
      "text/plain": [
       "   num           상품명 원재료  생산자 생산지역 맥주타입    가격\n",
       "0    0  마튼즈, 라이거 필스너   -  마튼즈  벨기에  필스너  5850"
      ]
     },
     "execution_count": 75,
     "metadata": {},
     "output_type": "execute_result"
    }
   ],
   "source": [
    "data.head(1)"
   ]
  },
  {
   "cell_type": "markdown",
   "metadata": {},
   "source": [
    "#### 4. 원재료 : [정제수,맥아,홉,효모]를 각각 컬럼으로 나눈 뒤 one-hot encoding"
   ]
  },
  {
   "cell_type": "markdown",
   "metadata": {},
   "source": [
    "#### 4-1 한 데이터셀 내에 값을 분리\n",
    "(ex) '정제수, 보리맥아, 귀리맥아' => '정제수','보리맥아','귀리맥아'"
   ]
  },
  {
   "cell_type": "code",
   "execution_count": 76,
   "metadata": {},
   "outputs": [],
   "source": [
    "import re"
   ]
  },
  {
   "cell_type": "code",
   "execution_count": 77,
   "metadata": {},
   "outputs": [],
   "source": [
    "pattern = re.compile(',')"
   ]
  },
  {
   "cell_type": "code",
   "execution_count": 78,
   "metadata": {},
   "outputs": [
    {
     "data": {
      "text/plain": [
       "[['-'],\n",
       " ['-'],\n",
       " ['-'],\n",
       " ['-'],\n",
       " ['-'],\n",
       " ['-'],\n",
       " ['-'],\n",
       " ['-'],\n",
       " ['-'],\n",
       " ['-'],\n",
       " ['-'],\n",
       " ['-'],\n",
       " ['정제수', ' 보리맥아', ' 귀리맥아', ' 설탕', ' 스페인 감초 분말', ' 호프', ' 효모'],\n",
       " ['정제수', ' 보리맥아', ' 호프', ' 효모']]"
      ]
     },
     "execution_count": 78,
     "metadata": {},
     "output_type": "execute_result"
    }
   ],
   "source": [
    "spilted =[]\n",
    "for i in range(len(data)):\n",
    "    spilted.append(pattern.split(data['원재료'][i]))\n",
    "spilted[:14]"
   ]
  },
  {
   "cell_type": "markdown",
   "metadata": {},
   "source": [
    "##### 4-2 위에서 만든 spilted의 리스트 차원을 제거하여 1차원배열로 만든다"
   ]
  },
  {
   "cell_type": "code",
   "execution_count": 79,
   "metadata": {},
   "outputs": [],
   "source": [
    "원재료=[]\n",
    "for i in range(len(spilted)):\n",
    "    for j in spilted[i]:\n",
    "        원재료.append(j)"
   ]
  },
  {
   "cell_type": "code",
   "execution_count": 80,
   "metadata": {},
   "outputs": [
    {
     "data": {
      "text/plain": [
       "['-',\n",
       " '-',\n",
       " '-',\n",
       " '-',\n",
       " '-',\n",
       " '-',\n",
       " '-',\n",
       " '-',\n",
       " '-',\n",
       " '-',\n",
       " '-',\n",
       " '-',\n",
       " '정제수',\n",
       " ' 보리맥아',\n",
       " ' 귀리맥아',\n",
       " ' 설탕',\n",
       " ' 스페인 감초 분말',\n",
       " ' 호프',\n",
       " ' 효모',\n",
       " '정제수']"
      ]
     },
     "execution_count": 80,
     "metadata": {},
     "output_type": "execute_result"
    }
   ],
   "source": [
    "원재료[:20]"
   ]
  },
  {
   "cell_type": "markdown",
   "metadata": {},
   "source": [
    "#### 4-3 글자 내 공백제거\n",
    "'              정제수' => '정제수'"
   ]
  },
  {
   "cell_type": "code",
   "execution_count": 81,
   "metadata": {},
   "outputs": [
    {
     "data": {
      "text/plain": [
       "['-',\n",
       " '-',\n",
       " '-',\n",
       " '-',\n",
       " '-',\n",
       " '-',\n",
       " '-',\n",
       " '-',\n",
       " '-',\n",
       " '-',\n",
       " '-',\n",
       " '-',\n",
       " '정제수',\n",
       " '보리맥아',\n",
       " '귀리맥아']"
      ]
     },
     "execution_count": 81,
     "metadata": {},
     "output_type": "execute_result"
    }
   ],
   "source": [
    "for i in range(len(원재료)):\n",
    "    원재료[i]= re.sub('[ ]','',원재료[i])\n",
    "원재료[:15]"
   ]
  },
  {
   "cell_type": "markdown",
   "metadata": {},
   "source": [
    "#### 4-3 각 성분을 unique한다."
   ]
  },
  {
   "cell_type": "code",
   "execution_count": 82,
   "metadata": {},
   "outputs": [],
   "source": [
    "원재료 = list(pd.unique(원재료))"
   ]
  },
  {
   "cell_type": "code",
   "execution_count": 83,
   "metadata": {},
   "outputs": [
    {
     "data": {
      "text/plain": [
       "['-', '정제수', '보리맥아', '귀리맥아', '설탕', '스페인감초분말', '호프', '효모', '옥수수', '호프추출물']"
      ]
     },
     "execution_count": 83,
     "metadata": {},
     "output_type": "execute_result"
    }
   ],
   "source": [
    "원재료[0:10]"
   ]
  },
  {
   "cell_type": "markdown",
   "metadata": {},
   "source": [
    "#### 4-4 공백 삭제"
   ]
  },
  {
   "cell_type": "code",
   "execution_count": 84,
   "metadata": {},
   "outputs": [],
   "source": [
    "원재료.remove('-')"
   ]
  },
  {
   "cell_type": "markdown",
   "metadata": {},
   "source": [
    "#### 4-5 원재료와 원본데이터 성분을 비교하기 위해 data['원재료'] 값의 공백제거"
   ]
  },
  {
   "cell_type": "code",
   "execution_count": 85,
   "metadata": {},
   "outputs": [
    {
     "data": {
      "text/plain": [
       "pandas.core.series.Series"
      ]
     },
     "execution_count": 85,
     "metadata": {},
     "output_type": "execute_result"
    }
   ],
   "source": [
    "type(data['원재료'])"
   ]
  },
  {
   "cell_type": "code",
   "execution_count": 86,
   "metadata": {},
   "outputs": [
    {
     "name": "stderr",
     "output_type": "stream",
     "text": [
      "C:\\Users\\JIn\\Anaconda3\\lib\\site-packages\\ipykernel_launcher.py:2: SettingWithCopyWarning: \n",
      "A value is trying to be set on a copy of a slice from a DataFrame\n",
      "\n",
      "See the caveats in the documentation: http://pandas.pydata.org/pandas-docs/stable/user_guide/indexing.html#returning-a-view-versus-a-copy\n",
      "  \n"
     ]
    }
   ],
   "source": [
    "for i in range(len(data)):\n",
    "    data['원재료'][0]=re.sub('[ ]','',data['원재료'][i])"
   ]
  },
  {
   "cell_type": "markdown",
   "metadata": {},
   "source": [
    "#### 4-5 원재료와 원본데이터 성분을 비교하기 위해 2중리스트 spilted 값의 공백제거\n",
    "Series형태의 list에서 사용할 수 있는 isin을 쓰기 위함임"
   ]
  },
  {
   "cell_type": "code",
   "execution_count": 87,
   "metadata": {},
   "outputs": [],
   "source": [
    "list_a = [ [] for _ in range(len(data)) ]"
   ]
  },
  {
   "cell_type": "code",
   "execution_count": 88,
   "metadata": {},
   "outputs": [],
   "source": [
    "for i in range(len(spilted)):\n",
    "    for j in spilted[i]:\n",
    "        list_a[i].append(re.sub('[ ]','',j))"
   ]
  },
  {
   "cell_type": "markdown",
   "metadata": {},
   "source": [
    "#### 4-6 각 원재료 성분이 있으면 1 없으면 0으로 표현"
   ]
  },
  {
   "cell_type": "code",
   "execution_count": 89,
   "metadata": {},
   "outputs": [],
   "source": [
    "list_b = [ [] for _ in range(len(원재료))]"
   ]
  },
  {
   "cell_type": "code",
   "execution_count": 90,
   "metadata": {},
   "outputs": [],
   "source": [
    "for i in range(len(원재료)):\n",
    "    for j in range(len(list_a)):\n",
    "        if (pd.Series(원재료[i]).isin(list_a[j])[0])==True:\n",
    "            list_b[i].append(1)\n",
    "        else:\n",
    "            list_b[i].append(0)"
   ]
  },
  {
   "cell_type": "code",
   "execution_count": 91,
   "metadata": {},
   "outputs": [],
   "source": [
    "list_b = np.transpose(list_b)"
   ]
  },
  {
   "cell_type": "code",
   "execution_count": 92,
   "metadata": {},
   "outputs": [
    {
     "data": {
      "text/html": [
       "<div>\n",
       "<style scoped>\n",
       "    .dataframe tbody tr th:only-of-type {\n",
       "        vertical-align: middle;\n",
       "    }\n",
       "\n",
       "    .dataframe tbody tr th {\n",
       "        vertical-align: top;\n",
       "    }\n",
       "\n",
       "    .dataframe thead th {\n",
       "        text-align: right;\n",
       "    }\n",
       "</style>\n",
       "<table border=\"1\" class=\"dataframe\">\n",
       "  <thead>\n",
       "    <tr style=\"text-align: right;\">\n",
       "      <th></th>\n",
       "      <th>정제수</th>\n",
       "      <th>보리맥아</th>\n",
       "      <th>귀리맥아</th>\n",
       "      <th>설탕</th>\n",
       "      <th>스페인감초분말</th>\n",
       "      <th>호프</th>\n",
       "      <th>효모</th>\n",
       "      <th>옥수수</th>\n",
       "      <th>호프추출물</th>\n",
       "      <th>밀</th>\n",
       "      <th>...</th>\n",
       "      <th>밀프레이크</th>\n",
       "      <th>천연고수향</th>\n",
       "      <th>천연라임향</th>\n",
       "      <th>필스너몰트</th>\n",
       "      <th>오렌지허니블러썸</th>\n",
       "      <th>페일몰트</th>\n",
       "      <th>밀몰트</th>\n",
       "      <th>농축블루베리</th>\n",
       "      <th>상품명</th>\n",
       "      <th>num</th>\n",
       "    </tr>\n",
       "  </thead>\n",
       "  <tbody>\n",
       "    <tr>\n",
       "      <th>0</th>\n",
       "      <td>0</td>\n",
       "      <td>0</td>\n",
       "      <td>0</td>\n",
       "      <td>0</td>\n",
       "      <td>0</td>\n",
       "      <td>0</td>\n",
       "      <td>0</td>\n",
       "      <td>0</td>\n",
       "      <td>0</td>\n",
       "      <td>0</td>\n",
       "      <td>...</td>\n",
       "      <td>0</td>\n",
       "      <td>0</td>\n",
       "      <td>0</td>\n",
       "      <td>0</td>\n",
       "      <td>0</td>\n",
       "      <td>0</td>\n",
       "      <td>0</td>\n",
       "      <td>0</td>\n",
       "      <td>마튼즈, 라이거 필스너</td>\n",
       "      <td>0</td>\n",
       "    </tr>\n",
       "    <tr>\n",
       "      <th>1</th>\n",
       "      <td>0</td>\n",
       "      <td>0</td>\n",
       "      <td>0</td>\n",
       "      <td>0</td>\n",
       "      <td>0</td>\n",
       "      <td>0</td>\n",
       "      <td>0</td>\n",
       "      <td>0</td>\n",
       "      <td>0</td>\n",
       "      <td>0</td>\n",
       "      <td>...</td>\n",
       "      <td>0</td>\n",
       "      <td>0</td>\n",
       "      <td>0</td>\n",
       "      <td>0</td>\n",
       "      <td>0</td>\n",
       "      <td>0</td>\n",
       "      <td>0</td>\n",
       "      <td>0</td>\n",
       "      <td>마튼즈, 라이거 바이젠</td>\n",
       "      <td>1</td>\n",
       "    </tr>\n",
       "  </tbody>\n",
       "</table>\n",
       "<p>2 rows × 275 columns</p>\n",
       "</div>"
      ],
      "text/plain": [
       "   정제수  보리맥아  귀리맥아  설탕  스페인감초분말  호프  효모  옥수수  호프추출물  밀  ...  밀프레이크  천연고수향  \\\n",
       "0    0     0     0   0        0   0   0    0      0  0  ...      0      0   \n",
       "1    0     0     0   0        0   0   0    0      0  0  ...      0      0   \n",
       "\n",
       "   천연라임향  필스너몰트  오렌지허니블러썸  페일몰트  밀몰트  농축블루베리           상품명  num  \n",
       "0      0      0         0     0    0       0  마튼즈, 라이거 필스너    0  \n",
       "1      0      0         0     0    0       0  마튼즈, 라이거 바이젠    1  \n",
       "\n",
       "[2 rows x 275 columns]"
      ]
     },
     "execution_count": 92,
     "metadata": {},
     "output_type": "execute_result"
    }
   ],
   "source": [
    "원재료_one_hot = pd.DataFrame(list_b,columns=원재료)\n",
    "원재료_one_hot['상품명'] = data['상품명']\n",
    "원재료_one_hot['num'] = data['num']\n",
    "원재료_one_hot.head(2)"
   ]
  },
  {
   "cell_type": "markdown",
   "metadata": {},
   "source": [
    "#### 5. 생산지역 : one-hot encoding"
   ]
  },
  {
   "cell_type": "code",
   "execution_count": 93,
   "metadata": {},
   "outputs": [
    {
     "data": {
      "text/html": [
       "<div>\n",
       "<style scoped>\n",
       "    .dataframe tbody tr th:only-of-type {\n",
       "        vertical-align: middle;\n",
       "    }\n",
       "\n",
       "    .dataframe tbody tr th {\n",
       "        vertical-align: top;\n",
       "    }\n",
       "\n",
       "    .dataframe thead th {\n",
       "        text-align: right;\n",
       "    }\n",
       "</style>\n",
       "<table border=\"1\" class=\"dataframe\">\n",
       "  <thead>\n",
       "    <tr style=\"text-align: right;\">\n",
       "      <th></th>\n",
       "      <th>가와고에</th>\n",
       "      <th>공근면 초원리(Chowon-ri, Gonggeun-myeon)</th>\n",
       "      <th>그랜레피즈</th>\n",
       "      <th>글라스고우</th>\n",
       "      <th>나카</th>\n",
       "      <th>나호트</th>\n",
       "      <th>남구 무거동</th>\n",
       "      <th>네덜란드</th>\n",
       "      <th>뉴질랜드</th>\n",
       "      <th>뉴포트</th>\n",
       "      <th>...</th>\n",
       "      <th>한림읍(Hallim eup)</th>\n",
       "      <th>햄프톤</th>\n",
       "      <th>헤르젤레</th>\n",
       "      <th>헤센</th>\n",
       "      <th>호주</th>\n",
       "      <th>호주</th>\n",
       "      <th>화도읍 창현리(Changhyeon ri, Hwado eup)</th>\n",
       "      <th>후쿠오카</th>\n",
       "      <th>상품명</th>\n",
       "      <th>num</th>\n",
       "    </tr>\n",
       "  </thead>\n",
       "  <tbody>\n",
       "    <tr>\n",
       "      <th>0</th>\n",
       "      <td>0</td>\n",
       "      <td>0</td>\n",
       "      <td>0</td>\n",
       "      <td>0</td>\n",
       "      <td>0</td>\n",
       "      <td>0</td>\n",
       "      <td>0</td>\n",
       "      <td>0</td>\n",
       "      <td>0</td>\n",
       "      <td>0</td>\n",
       "      <td>...</td>\n",
       "      <td>0</td>\n",
       "      <td>0</td>\n",
       "      <td>0</td>\n",
       "      <td>0</td>\n",
       "      <td>0</td>\n",
       "      <td>0</td>\n",
       "      <td>0</td>\n",
       "      <td>0</td>\n",
       "      <td>마튼즈, 라이거 필스너</td>\n",
       "      <td>0</td>\n",
       "    </tr>\n",
       "  </tbody>\n",
       "</table>\n",
       "<p>1 rows × 192 columns</p>\n",
       "</div>"
      ],
      "text/plain": [
       "   가와고에  공근면 초원리(Chowon-ri, Gonggeun-myeon)  그랜레피즈  글라스고우  나카  나호트  남구 무거동  \\\n",
       "0     0                                   0      0      0   0    0       0   \n",
       "\n",
       "   네덜란드  뉴질랜드  뉴포트  ...  한림읍(Hallim eup)  햄프톤  헤르젤레  헤센  호주  호주   \\\n",
       "0     0     0    0  ...                0    0     0   0   0    0   \n",
       "\n",
       "   화도읍 창현리(Changhyeon ri, Hwado eup)  후쿠오카           상품명  num  \n",
       "0                                  0     0  마튼즈, 라이거 필스너    0  \n",
       "\n",
       "[1 rows x 192 columns]"
      ]
     },
     "execution_count": 93,
     "metadata": {},
     "output_type": "execute_result"
    }
   ],
   "source": [
    "생산지역_one_hot = pd.get_dummies(data['생산지역'])\n",
    "\n",
    "#가중치\n",
    "생산지역_one_hot*30\n",
    "\n",
    "생산지역_one_hot['상품명'] = data['상품명']\n",
    "생산지역_one_hot['num'] = data['num']\n",
    "생산지역_one_hot.head(1)"
   ]
  },
  {
   "cell_type": "markdown",
   "metadata": {},
   "source": [
    "#### 6. 생산자 : one-hot encoding"
   ]
  },
  {
   "cell_type": "code",
   "execution_count": 94,
   "metadata": {},
   "outputs": [
    {
     "data": {
      "text/html": [
       "<div>\n",
       "<style scoped>\n",
       "    .dataframe tbody tr th:only-of-type {\n",
       "        vertical-align: middle;\n",
       "    }\n",
       "\n",
       "    .dataframe tbody tr th {\n",
       "        vertical-align: top;\n",
       "    }\n",
       "\n",
       "    .dataframe thead th {\n",
       "        text-align: right;\n",
       "    }\n",
       "</style>\n",
       "<table border=\"1\" class=\"dataframe\">\n",
       "  <thead>\n",
       "    <tr style=\"text-align: right;\">\n",
       "      <th></th>\n",
       "      <th>AB 인베브 벨지움</th>\n",
       "      <th>고든 비어쉬</th>\n",
       "      <th>과우테목 목테수마</th>\n",
       "      <th>구스 아일랜드 비어</th>\n",
       "      <th>굿비어, 에스.엘</th>\n",
       "      <th>그롤쉬 비어 브루어리젠</th>\n",
       "      <th>그루포 모델로</th>\n",
       "      <th>그린킹 브루어리</th>\n",
       "      <th>그린플래쉬 브루잉컴퍼니</th>\n",
       "      <th>기네스</th>\n",
       "      <th>...</th>\n",
       "      <th>헤레틱 브루잉 컴퍼니</th>\n",
       "      <th>헨리커스</th>\n",
       "      <th>헬러브라우 트럼 지엠비에이치</th>\n",
       "      <th>호프브로이하우스</th>\n",
       "      <th>호프브로이하우스 프라이징</th>\n",
       "      <th>홀스텐 브루어리</th>\n",
       "      <th>화수브루어리</th>\n",
       "      <th>휘슬러 브루잉 컴퍼니</th>\n",
       "      <th>상품명</th>\n",
       "      <th>num</th>\n",
       "    </tr>\n",
       "  </thead>\n",
       "  <tbody>\n",
       "    <tr>\n",
       "      <th>0</th>\n",
       "      <td>0</td>\n",
       "      <td>0</td>\n",
       "      <td>0</td>\n",
       "      <td>0</td>\n",
       "      <td>0</td>\n",
       "      <td>0</td>\n",
       "      <td>0</td>\n",
       "      <td>0</td>\n",
       "      <td>0</td>\n",
       "      <td>0</td>\n",
       "      <td>...</td>\n",
       "      <td>0</td>\n",
       "      <td>0</td>\n",
       "      <td>0</td>\n",
       "      <td>0</td>\n",
       "      <td>0</td>\n",
       "      <td>0</td>\n",
       "      <td>0</td>\n",
       "      <td>0</td>\n",
       "      <td>마튼즈, 라이거 필스너</td>\n",
       "      <td>0</td>\n",
       "    </tr>\n",
       "    <tr>\n",
       "      <th>1</th>\n",
       "      <td>0</td>\n",
       "      <td>0</td>\n",
       "      <td>0</td>\n",
       "      <td>0</td>\n",
       "      <td>0</td>\n",
       "      <td>0</td>\n",
       "      <td>0</td>\n",
       "      <td>0</td>\n",
       "      <td>0</td>\n",
       "      <td>0</td>\n",
       "      <td>...</td>\n",
       "      <td>0</td>\n",
       "      <td>0</td>\n",
       "      <td>0</td>\n",
       "      <td>0</td>\n",
       "      <td>0</td>\n",
       "      <td>0</td>\n",
       "      <td>0</td>\n",
       "      <td>0</td>\n",
       "      <td>마튼즈, 라이거 바이젠</td>\n",
       "      <td>1</td>\n",
       "    </tr>\n",
       "    <tr>\n",
       "      <th>2</th>\n",
       "      <td>0</td>\n",
       "      <td>0</td>\n",
       "      <td>0</td>\n",
       "      <td>0</td>\n",
       "      <td>0</td>\n",
       "      <td>0</td>\n",
       "      <td>0</td>\n",
       "      <td>0</td>\n",
       "      <td>0</td>\n",
       "      <td>0</td>\n",
       "      <td>...</td>\n",
       "      <td>0</td>\n",
       "      <td>0</td>\n",
       "      <td>0</td>\n",
       "      <td>0</td>\n",
       "      <td>0</td>\n",
       "      <td>0</td>\n",
       "      <td>0</td>\n",
       "      <td>0</td>\n",
       "      <td>메나브레아 필스</td>\n",
       "      <td>2</td>\n",
       "    </tr>\n",
       "    <tr>\n",
       "      <th>3</th>\n",
       "      <td>0</td>\n",
       "      <td>0</td>\n",
       "      <td>0</td>\n",
       "      <td>0</td>\n",
       "      <td>0</td>\n",
       "      <td>0</td>\n",
       "      <td>0</td>\n",
       "      <td>0</td>\n",
       "      <td>0</td>\n",
       "      <td>0</td>\n",
       "      <td>...</td>\n",
       "      <td>0</td>\n",
       "      <td>0</td>\n",
       "      <td>0</td>\n",
       "      <td>0</td>\n",
       "      <td>0</td>\n",
       "      <td>0</td>\n",
       "      <td>0</td>\n",
       "      <td>0</td>\n",
       "      <td>민타임, 런던 라거</td>\n",
       "      <td>3</td>\n",
       "    </tr>\n",
       "    <tr>\n",
       "      <th>4</th>\n",
       "      <td>0</td>\n",
       "      <td>0</td>\n",
       "      <td>0</td>\n",
       "      <td>0</td>\n",
       "      <td>0</td>\n",
       "      <td>0</td>\n",
       "      <td>0</td>\n",
       "      <td>0</td>\n",
       "      <td>0</td>\n",
       "      <td>0</td>\n",
       "      <td>...</td>\n",
       "      <td>0</td>\n",
       "      <td>0</td>\n",
       "      <td>0</td>\n",
       "      <td>0</td>\n",
       "      <td>0</td>\n",
       "      <td>0</td>\n",
       "      <td>0</td>\n",
       "      <td>0</td>\n",
       "      <td>민타임, 런던 페일 에일</td>\n",
       "      <td>4</td>\n",
       "    </tr>\n",
       "    <tr>\n",
       "      <th>5</th>\n",
       "      <td>0</td>\n",
       "      <td>0</td>\n",
       "      <td>0</td>\n",
       "      <td>0</td>\n",
       "      <td>0</td>\n",
       "      <td>0</td>\n",
       "      <td>0</td>\n",
       "      <td>0</td>\n",
       "      <td>0</td>\n",
       "      <td>0</td>\n",
       "      <td>...</td>\n",
       "      <td>0</td>\n",
       "      <td>0</td>\n",
       "      <td>0</td>\n",
       "      <td>0</td>\n",
       "      <td>0</td>\n",
       "      <td>0</td>\n",
       "      <td>0</td>\n",
       "      <td>0</td>\n",
       "      <td>민타임, 필스너</td>\n",
       "      <td>5</td>\n",
       "    </tr>\n",
       "    <tr>\n",
       "      <th>6</th>\n",
       "      <td>0</td>\n",
       "      <td>0</td>\n",
       "      <td>0</td>\n",
       "      <td>0</td>\n",
       "      <td>0</td>\n",
       "      <td>0</td>\n",
       "      <td>0</td>\n",
       "      <td>0</td>\n",
       "      <td>0</td>\n",
       "      <td>0</td>\n",
       "      <td>...</td>\n",
       "      <td>0</td>\n",
       "      <td>0</td>\n",
       "      <td>0</td>\n",
       "      <td>0</td>\n",
       "      <td>0</td>\n",
       "      <td>0</td>\n",
       "      <td>0</td>\n",
       "      <td>0</td>\n",
       "      <td>민타임, 야키마 레드</td>\n",
       "      <td>6</td>\n",
       "    </tr>\n",
       "    <tr>\n",
       "      <th>7</th>\n",
       "      <td>0</td>\n",
       "      <td>0</td>\n",
       "      <td>0</td>\n",
       "      <td>0</td>\n",
       "      <td>0</td>\n",
       "      <td>0</td>\n",
       "      <td>0</td>\n",
       "      <td>0</td>\n",
       "      <td>0</td>\n",
       "      <td>0</td>\n",
       "      <td>...</td>\n",
       "      <td>0</td>\n",
       "      <td>0</td>\n",
       "      <td>0</td>\n",
       "      <td>0</td>\n",
       "      <td>0</td>\n",
       "      <td>0</td>\n",
       "      <td>0</td>\n",
       "      <td>0</td>\n",
       "      <td>민타임, 윗 비어</td>\n",
       "      <td>7</td>\n",
       "    </tr>\n",
       "    <tr>\n",
       "      <th>8</th>\n",
       "      <td>0</td>\n",
       "      <td>0</td>\n",
       "      <td>0</td>\n",
       "      <td>0</td>\n",
       "      <td>0</td>\n",
       "      <td>0</td>\n",
       "      <td>0</td>\n",
       "      <td>0</td>\n",
       "      <td>0</td>\n",
       "      <td>0</td>\n",
       "      <td>...</td>\n",
       "      <td>0</td>\n",
       "      <td>0</td>\n",
       "      <td>0</td>\n",
       "      <td>0</td>\n",
       "      <td>0</td>\n",
       "      <td>0</td>\n",
       "      <td>0</td>\n",
       "      <td>0</td>\n",
       "      <td>민타임, 라즈베리 윗</td>\n",
       "      <td>8</td>\n",
       "    </tr>\n",
       "    <tr>\n",
       "      <th>9</th>\n",
       "      <td>0</td>\n",
       "      <td>0</td>\n",
       "      <td>0</td>\n",
       "      <td>0</td>\n",
       "      <td>0</td>\n",
       "      <td>0</td>\n",
       "      <td>0</td>\n",
       "      <td>0</td>\n",
       "      <td>0</td>\n",
       "      <td>0</td>\n",
       "      <td>...</td>\n",
       "      <td>0</td>\n",
       "      <td>0</td>\n",
       "      <td>0</td>\n",
       "      <td>0</td>\n",
       "      <td>0</td>\n",
       "      <td>0</td>\n",
       "      <td>0</td>\n",
       "      <td>0</td>\n",
       "      <td>민타임, 런던 포터</td>\n",
       "      <td>9</td>\n",
       "    </tr>\n",
       "  </tbody>\n",
       "</table>\n",
       "<p>10 rows × 302 columns</p>\n",
       "</div>"
      ],
      "text/plain": [
       "   AB 인베브 벨지움  고든 비어쉬  과우테목 목테수마  구스 아일랜드 비어  굿비어, 에스.엘  그롤쉬 비어 브루어리젠  \\\n",
       "0           0       0          0           0          0             0   \n",
       "1           0       0          0           0          0             0   \n",
       "2           0       0          0           0          0             0   \n",
       "3           0       0          0           0          0             0   \n",
       "4           0       0          0           0          0             0   \n",
       "5           0       0          0           0          0             0   \n",
       "6           0       0          0           0          0             0   \n",
       "7           0       0          0           0          0             0   \n",
       "8           0       0          0           0          0             0   \n",
       "9           0       0          0           0          0             0   \n",
       "\n",
       "   그루포 모델로  그린킹 브루어리  그린플래쉬 브루잉컴퍼니  기네스  ...  헤레틱 브루잉 컴퍼니  헨리커스  \\\n",
       "0        0         0             0    0  ...            0     0   \n",
       "1        0         0             0    0  ...            0     0   \n",
       "2        0         0             0    0  ...            0     0   \n",
       "3        0         0             0    0  ...            0     0   \n",
       "4        0         0             0    0  ...            0     0   \n",
       "5        0         0             0    0  ...            0     0   \n",
       "6        0         0             0    0  ...            0     0   \n",
       "7        0         0             0    0  ...            0     0   \n",
       "8        0         0             0    0  ...            0     0   \n",
       "9        0         0             0    0  ...            0     0   \n",
       "\n",
       "   헬러브라우 트럼 지엠비에이치  호프브로이하우스  호프브로이하우스 프라이징  홀스텐 브루어리  화수브루어리  휘슬러 브루잉 컴퍼니  \\\n",
       "0                0         0              0         0       0            0   \n",
       "1                0         0              0         0       0            0   \n",
       "2                0         0              0         0       0            0   \n",
       "3                0         0              0         0       0            0   \n",
       "4                0         0              0         0       0            0   \n",
       "5                0         0              0         0       0            0   \n",
       "6                0         0              0         0       0            0   \n",
       "7                0         0              0         0       0            0   \n",
       "8                0         0              0         0       0            0   \n",
       "9                0         0              0         0       0            0   \n",
       "\n",
       "             상품명  num  \n",
       "0   마튼즈, 라이거 필스너    0  \n",
       "1   마튼즈, 라이거 바이젠    1  \n",
       "2       메나브레아 필스    2  \n",
       "3     민타임, 런던 라거    3  \n",
       "4  민타임, 런던 페일 에일    4  \n",
       "5       민타임, 필스너    5  \n",
       "6    민타임, 야키마 레드    6  \n",
       "7      민타임, 윗 비어    7  \n",
       "8    민타임, 라즈베리 윗    8  \n",
       "9     민타임, 런던 포터    9  \n",
       "\n",
       "[10 rows x 302 columns]"
      ]
     },
     "execution_count": 94,
     "metadata": {},
     "output_type": "execute_result"
    }
   ],
   "source": [
    "생산자_one_hot = pd.get_dummies(data['생산자'])\n",
    "생산자_one_hot['상품명'] = data['상품명']\n",
    "생산자_one_hot['num'] = data['num']\n",
    "생산자_one_hot.head(10)"
   ]
  },
  {
   "cell_type": "markdown",
   "metadata": {},
   "source": [
    "#### 7. 맥주타입 : one-hot encoding + 가중치"
   ]
  },
  {
   "cell_type": "code",
   "execution_count": 95,
   "metadata": {},
   "outputs": [],
   "source": [
    "맥주타입_one_hot = pd.get_dummies(data['맥주타입'])"
   ]
  },
  {
   "cell_type": "code",
   "execution_count": 96,
   "metadata": {},
   "outputs": [
    {
     "data": {
      "text/html": [
       "<div>\n",
       "<style scoped>\n",
       "    .dataframe tbody tr th:only-of-type {\n",
       "        vertical-align: middle;\n",
       "    }\n",
       "\n",
       "    .dataframe tbody tr th {\n",
       "        vertical-align: top;\n",
       "    }\n",
       "\n",
       "    .dataframe thead th {\n",
       "        text-align: right;\n",
       "    }\n",
       "</style>\n",
       "<table border=\"1\" class=\"dataframe\">\n",
       "  <thead>\n",
       "    <tr style=\"text-align: right;\">\n",
       "      <th></th>\n",
       "      <th>고제</th>\n",
       "      <th>골든 에일</th>\n",
       "      <th>괴즈</th>\n",
       "      <th>글루텐 프리</th>\n",
       "      <th>다크 라거</th>\n",
       "      <th>다크 세종</th>\n",
       "      <th>다크 스트롱 에일</th>\n",
       "      <th>다크 에일</th>\n",
       "      <th>다크 인디아 페일 에일</th>\n",
       "      <th>더블 복</th>\n",
       "      <th>...</th>\n",
       "      <th>헤페바이스</th>\n",
       "      <th>헤페바이스 둔켈</th>\n",
       "      <th>헤페바이젠</th>\n",
       "      <th>헤페바이젠 + 도펠 복</th>\n",
       "      <th>헬레스 라거</th>\n",
       "      <th>호피 세션 세종</th>\n",
       "      <th>호피 필스너</th>\n",
       "      <th>화이트 에일</th>\n",
       "      <th>상품명</th>\n",
       "      <th>num</th>\n",
       "    </tr>\n",
       "  </thead>\n",
       "  <tbody>\n",
       "    <tr>\n",
       "      <th>0</th>\n",
       "      <td>0</td>\n",
       "      <td>0</td>\n",
       "      <td>0</td>\n",
       "      <td>0</td>\n",
       "      <td>0</td>\n",
       "      <td>0</td>\n",
       "      <td>0</td>\n",
       "      <td>0</td>\n",
       "      <td>0</td>\n",
       "      <td>0</td>\n",
       "      <td>...</td>\n",
       "      <td>0</td>\n",
       "      <td>0</td>\n",
       "      <td>0</td>\n",
       "      <td>0</td>\n",
       "      <td>0</td>\n",
       "      <td>0</td>\n",
       "      <td>0</td>\n",
       "      <td>0</td>\n",
       "      <td>마튼즈, 라이거 필스너</td>\n",
       "      <td>0</td>\n",
       "    </tr>\n",
       "    <tr>\n",
       "      <th>1</th>\n",
       "      <td>0</td>\n",
       "      <td>0</td>\n",
       "      <td>0</td>\n",
       "      <td>0</td>\n",
       "      <td>0</td>\n",
       "      <td>0</td>\n",
       "      <td>0</td>\n",
       "      <td>0</td>\n",
       "      <td>0</td>\n",
       "      <td>0</td>\n",
       "      <td>...</td>\n",
       "      <td>0</td>\n",
       "      <td>0</td>\n",
       "      <td>0</td>\n",
       "      <td>0</td>\n",
       "      <td>0</td>\n",
       "      <td>0</td>\n",
       "      <td>0</td>\n",
       "      <td>0</td>\n",
       "      <td>마튼즈, 라이거 바이젠</td>\n",
       "      <td>1</td>\n",
       "    </tr>\n",
       "    <tr>\n",
       "      <th>2</th>\n",
       "      <td>0</td>\n",
       "      <td>0</td>\n",
       "      <td>0</td>\n",
       "      <td>0</td>\n",
       "      <td>0</td>\n",
       "      <td>0</td>\n",
       "      <td>0</td>\n",
       "      <td>0</td>\n",
       "      <td>0</td>\n",
       "      <td>0</td>\n",
       "      <td>...</td>\n",
       "      <td>0</td>\n",
       "      <td>0</td>\n",
       "      <td>0</td>\n",
       "      <td>0</td>\n",
       "      <td>0</td>\n",
       "      <td>0</td>\n",
       "      <td>0</td>\n",
       "      <td>0</td>\n",
       "      <td>메나브레아 필스</td>\n",
       "      <td>2</td>\n",
       "    </tr>\n",
       "    <tr>\n",
       "      <th>3</th>\n",
       "      <td>0</td>\n",
       "      <td>0</td>\n",
       "      <td>0</td>\n",
       "      <td>0</td>\n",
       "      <td>0</td>\n",
       "      <td>0</td>\n",
       "      <td>0</td>\n",
       "      <td>0</td>\n",
       "      <td>0</td>\n",
       "      <td>0</td>\n",
       "      <td>...</td>\n",
       "      <td>0</td>\n",
       "      <td>0</td>\n",
       "      <td>0</td>\n",
       "      <td>0</td>\n",
       "      <td>0</td>\n",
       "      <td>0</td>\n",
       "      <td>0</td>\n",
       "      <td>0</td>\n",
       "      <td>민타임, 런던 라거</td>\n",
       "      <td>3</td>\n",
       "    </tr>\n",
       "    <tr>\n",
       "      <th>4</th>\n",
       "      <td>0</td>\n",
       "      <td>0</td>\n",
       "      <td>0</td>\n",
       "      <td>0</td>\n",
       "      <td>0</td>\n",
       "      <td>0</td>\n",
       "      <td>0</td>\n",
       "      <td>0</td>\n",
       "      <td>0</td>\n",
       "      <td>0</td>\n",
       "      <td>...</td>\n",
       "      <td>0</td>\n",
       "      <td>0</td>\n",
       "      <td>0</td>\n",
       "      <td>0</td>\n",
       "      <td>0</td>\n",
       "      <td>0</td>\n",
       "      <td>0</td>\n",
       "      <td>0</td>\n",
       "      <td>민타임, 런던 페일 에일</td>\n",
       "      <td>4</td>\n",
       "    </tr>\n",
       "  </tbody>\n",
       "</table>\n",
       "<p>5 rows × 170 columns</p>\n",
       "</div>"
      ],
      "text/plain": [
       "   고제  골든 에일  괴즈  글루텐 프리  다크 라거  다크 세종  다크 스트롱 에일  다크 에일  다크 인디아 페일 에일  더블 복  \\\n",
       "0   0      0   0       0      0      0          0      0             0     0   \n",
       "1   0      0   0       0      0      0          0      0             0     0   \n",
       "2   0      0   0       0      0      0          0      0             0     0   \n",
       "3   0      0   0       0      0      0          0      0             0     0   \n",
       "4   0      0   0       0      0      0          0      0             0     0   \n",
       "\n",
       "   ...  헤페바이스  헤페바이스 둔켈  헤페바이젠  헤페바이젠 + 도펠 복  헬레스 라거  호피 세션 세종  호피 필스너  \\\n",
       "0  ...      0         0      0             0       0         0       0   \n",
       "1  ...      0         0      0             0       0         0       0   \n",
       "2  ...      0         0      0             0       0         0       0   \n",
       "3  ...      0         0      0             0       0         0       0   \n",
       "4  ...      0         0      0             0       0         0       0   \n",
       "\n",
       "   화이트 에일            상품명  num  \n",
       "0       0   마튼즈, 라이거 필스너    0  \n",
       "1       0   마튼즈, 라이거 바이젠    1  \n",
       "2       0       메나브레아 필스    2  \n",
       "3       0     민타임, 런던 라거    3  \n",
       "4       0  민타임, 런던 페일 에일    4  \n",
       "\n",
       "[5 rows x 170 columns]"
      ]
     },
     "execution_count": 96,
     "metadata": {},
     "output_type": "execute_result"
    }
   ],
   "source": [
    "#가중치 50 부여\n",
    "맥주타입_one_hot = 맥주타입_one_hot*50\n",
    "맥주타입_one_hot['상품명'] = data['상품명']\n",
    "맥주타입_one_hot['num'] = data['num']\n",
    "맥주타입_one_hot.head()"
   ]
  },
  {
   "cell_type": "markdown",
   "metadata": {},
   "source": [
    "#### 8. 가격 : (상/중/하)로 나눈 후 one-hot encoding"
   ]
  },
  {
   "cell_type": "markdown",
   "metadata": {},
   "source": [
    "##### 8-1. 값이  ' - '인 것을 0으로 변경"
   ]
  },
  {
   "cell_type": "code",
   "execution_count": 97,
   "metadata": {},
   "outputs": [
    {
     "name": "stderr",
     "output_type": "stream",
     "text": [
      "C:\\Users\\JIn\\Anaconda3\\lib\\site-packages\\ipykernel_launcher.py:4: SettingWithCopyWarning: \n",
      "A value is trying to be set on a copy of a slice from a DataFrame\n",
      "\n",
      "See the caveats in the documentation: http://pandas.pydata.org/pandas-docs/stable/user_guide/indexing.html#returning-a-view-versus-a-copy\n",
      "  after removing the cwd from sys.path.\n",
      "C:\\Users\\JIn\\Anaconda3\\lib\\site-packages\\ipykernel_launcher.py:3: SettingWithCopyWarning: \n",
      "A value is trying to be set on a copy of a slice from a DataFrame\n",
      "\n",
      "See the caveats in the documentation: http://pandas.pydata.org/pandas-docs/stable/user_guide/indexing.html#returning-a-view-versus-a-copy\n",
      "  This is separate from the ipykernel package so we can avoid doing imports until\n"
     ]
    }
   ],
   "source": [
    "for i in range(len(data)):\n",
    "    if data['가격'][i] == '-':\n",
    "        data['가격'][i]=0\n",
    "    else: data['가격'][i] = int(data['가격'][i])"
   ]
  },
  {
   "cell_type": "markdown",
   "metadata": {},
   "source": [
    "##### 8-2. 상/중/하 치환기준 만들기"
   ]
  },
  {
   "cell_type": "code",
   "execution_count": 98,
   "metadata": {},
   "outputs": [
    {
     "name": "stdout",
     "output_type": "stream",
     "text": [
      "1분위 수:  3300.0\n",
      "2분위 수:  8600.0\n",
      "3분위 수:  13000.0\n",
      "4분위 수:  120000.0\n"
     ]
    }
   ],
   "source": [
    "print('1분위 수: ',np.percentile(data['가격'], 25))\n",
    "print('2분위 수: ',np.percentile(data['가격'], 50))\n",
    "print('3분위 수: ',np.percentile(data['가격'], 75))\n",
    "print('4분위 수: ',np.percentile(data['가격'], 100))"
   ]
  },
  {
   "cell_type": "markdown",
   "metadata": {},
   "source": [
    "8500원 초과 : 상<br>\n",
    "3275~8500 : 중<Br>\n",
    "3270 이하 : 하<br>"
   ]
  },
  {
   "cell_type": "markdown",
   "metadata": {},
   "source": [
    "##### 8-3. 상/중/하 치환"
   ]
  },
  {
   "cell_type": "code",
   "execution_count": 99,
   "metadata": {},
   "outputs": [
    {
     "name": "stderr",
     "output_type": "stream",
     "text": [
      "C:\\Users\\JIn\\Anaconda3\\lib\\site-packages\\ipykernel_launcher.py:2: SettingWithCopyWarning: \n",
      "A value is trying to be set on a copy of a slice from a DataFrame\n",
      "\n",
      "See the caveats in the documentation: http://pandas.pydata.org/pandas-docs/stable/user_guide/indexing.html#returning-a-view-versus-a-copy\n",
      "  \n",
      "C:\\Users\\JIn\\Anaconda3\\lib\\site-packages\\ipykernel_launcher.py:3: SettingWithCopyWarning: \n",
      "A value is trying to be set on a copy of a slice from a DataFrame\n",
      "\n",
      "See the caveats in the documentation: http://pandas.pydata.org/pandas-docs/stable/user_guide/indexing.html#returning-a-view-versus-a-copy\n",
      "  This is separate from the ipykernel package so we can avoid doing imports until\n"
     ]
    }
   ],
   "source": [
    "for i in range(len(data)):\n",
    "    if data['가격'][i] > 6.31 : data['가격'][i] = '가격(상)'\n",
    "    elif data['가격'][i] < 3.5 : data['가격'][i] = '가격(하)'\n",
    "    else : data['가격'][i] = '가격(중)'"
   ]
  },
  {
   "cell_type": "code",
   "execution_count": 100,
   "metadata": {},
   "outputs": [
    {
     "data": {
      "text/plain": [
       "0       가격(상)\n",
       "1       가격(상)\n",
       "2       가격(하)\n",
       "3       가격(상)\n",
       "4       가격(상)\n",
       "        ...  \n",
       "1132    가격(상)\n",
       "1133    가격(상)\n",
       "1134    가격(상)\n",
       "1135    가격(상)\n",
       "1136    가격(상)\n",
       "Name: 가격, Length: 1137, dtype: object"
      ]
     },
     "execution_count": 100,
     "metadata": {},
     "output_type": "execute_result"
    }
   ],
   "source": [
    "data['가격']"
   ]
  },
  {
   "cell_type": "code",
   "execution_count": 101,
   "metadata": {},
   "outputs": [
    {
     "data": {
      "text/html": [
       "<div>\n",
       "<style scoped>\n",
       "    .dataframe tbody tr th:only-of-type {\n",
       "        vertical-align: middle;\n",
       "    }\n",
       "\n",
       "    .dataframe tbody tr th {\n",
       "        vertical-align: top;\n",
       "    }\n",
       "\n",
       "    .dataframe thead th {\n",
       "        text-align: right;\n",
       "    }\n",
       "</style>\n",
       "<table border=\"1\" class=\"dataframe\">\n",
       "  <thead>\n",
       "    <tr style=\"text-align: right;\">\n",
       "      <th></th>\n",
       "      <th>가격(상)</th>\n",
       "      <th>가격(하)</th>\n",
       "      <th>상품명</th>\n",
       "      <th>num</th>\n",
       "    </tr>\n",
       "  </thead>\n",
       "  <tbody>\n",
       "    <tr>\n",
       "      <th>0</th>\n",
       "      <td>1</td>\n",
       "      <td>0</td>\n",
       "      <td>마튼즈, 라이거 필스너</td>\n",
       "      <td>0</td>\n",
       "    </tr>\n",
       "    <tr>\n",
       "      <th>1</th>\n",
       "      <td>1</td>\n",
       "      <td>0</td>\n",
       "      <td>마튼즈, 라이거 바이젠</td>\n",
       "      <td>1</td>\n",
       "    </tr>\n",
       "    <tr>\n",
       "      <th>2</th>\n",
       "      <td>0</td>\n",
       "      <td>1</td>\n",
       "      <td>메나브레아 필스</td>\n",
       "      <td>2</td>\n",
       "    </tr>\n",
       "    <tr>\n",
       "      <th>3</th>\n",
       "      <td>1</td>\n",
       "      <td>0</td>\n",
       "      <td>민타임, 런던 라거</td>\n",
       "      <td>3</td>\n",
       "    </tr>\n",
       "    <tr>\n",
       "      <th>4</th>\n",
       "      <td>1</td>\n",
       "      <td>0</td>\n",
       "      <td>민타임, 런던 페일 에일</td>\n",
       "      <td>4</td>\n",
       "    </tr>\n",
       "  </tbody>\n",
       "</table>\n",
       "</div>"
      ],
      "text/plain": [
       "   가격(상)  가격(하)            상품명  num\n",
       "0      1      0   마튼즈, 라이거 필스너    0\n",
       "1      1      0   마튼즈, 라이거 바이젠    1\n",
       "2      0      1       메나브레아 필스    2\n",
       "3      1      0     민타임, 런던 라거    3\n",
       "4      1      0  민타임, 런던 페일 에일    4"
      ]
     },
     "execution_count": 101,
     "metadata": {},
     "output_type": "execute_result"
    }
   ],
   "source": [
    "가격_one_hot = pd.get_dummies(data['가격'])\n",
    "\n",
    "#가중치\n",
    "가격_one_hot*10\n",
    "\n",
    "가격_one_hot['상품명'] = data['상품명']\n",
    "가격_one_hot['num'] = data['num']\n",
    "가격_one_hot.head()"
   ]
  },
  {
   "cell_type": "markdown",
   "metadata": {},
   "source": [
    "#### 9. 각 one-hot Encoding한 컬럼들을 원본데이터에 합치기\n",
    "1. 도수\n",
    "2. 원재료\n",
    "3. 생산지역\n",
    "4. 생산자\n",
    "5. 맥주타입\n",
    "6. 가격"
   ]
  },
  {
   "cell_type": "code",
   "execution_count": 102,
   "metadata": {},
   "outputs": [],
   "source": [
    "a_group = pd.merge(도수_one_hot,원재료_one_hot,on=['num','상품명'])"
   ]
  },
  {
   "cell_type": "code",
   "execution_count": 103,
   "metadata": {},
   "outputs": [],
   "source": [
    "b_group = pd.merge(생산지역_one_hot,생산자_one_hot,on=['상품명','num'])"
   ]
  },
  {
   "cell_type": "code",
   "execution_count": 104,
   "metadata": {},
   "outputs": [],
   "source": [
    "c_group = pd.merge(맥주타입_one_hot,가격_one_hot,on=['상품명','num'])"
   ]
  },
  {
   "cell_type": "code",
   "execution_count": 105,
   "metadata": {},
   "outputs": [],
   "source": [
    "ab_group = pd.merge(a_group,b_group,on=['상품명','num'])"
   ]
  },
  {
   "cell_type": "code",
   "execution_count": 106,
   "metadata": {},
   "outputs": [],
   "source": [
    "abc_group = pd.merge(ab_group,c_group,on=['상품명','num'])"
   ]
  },
  {
   "cell_type": "markdown",
   "metadata": {},
   "source": [
    "원본데이터 총 데이터개수와 병합 후 데이터개수 체크"
   ]
  },
  {
   "cell_type": "code",
   "execution_count": 107,
   "metadata": {},
   "outputs": [
    {
     "name": "stdout",
     "output_type": "stream",
     "text": [
      "원본데이터 개수  1137\n",
      "병합 후 데이터 개수  1137\n"
     ]
    }
   ],
   "source": [
    "print('원본데이터 개수 ', len(data))\n",
    "print('병합 후 데이터 개수 ', len(abc_group))"
   ]
  },
  {
   "cell_type": "markdown",
   "metadata": {},
   "source": [
    "#### 10. 데이터 활용이 편하도록 label인 상품명을 마지막 열로 옮긴다.\n",
    "+ num을 지운다"
   ]
  },
  {
   "cell_type": "code",
   "execution_count": 108,
   "metadata": {},
   "outputs": [],
   "source": [
    "abc_group.drop('상품명',axis=1,inplace=True)\n",
    "abc_group.drop('num',axis=1,inplace=True)"
   ]
  },
  {
   "cell_type": "code",
   "execution_count": 109,
   "metadata": {},
   "outputs": [],
   "source": [
    "abc_group['상품명'] = data['상품명']"
   ]
  },
  {
   "cell_type": "markdown",
   "metadata": {},
   "source": [
    "#### 11. 전처리 리스트 확인\n",
    "\n",
    "##### 전처리 리스트\n",
    "1. 컬럼삭제 (상품명_eng, 홉종류, IBU, SRM, 정보, 생산자_eng, 생산지역_eng\n",
    "2. 컬럼이름 변경({상품명_kor:상품명}, {생산자_kor:생산자},{생산지역_kor:생산지역})\n",
    "3. 도수 : (상/중/하)로 나눈 후 one-hot encoding\n",
    "4. 원재료 : [정제수,맥아,홉,효모]를 각각 컬럼으로 나눈 뒤 one-hot encoding\n",
    "5. 생산지역 : one-hot encoding\n",
    "6. 생산자 : one-hot encoding\n",
    "7. 맥주타입 : one-hot encoding + 가중치\n",
    "8. 가격 : (상/중/하)로 나눈 후 one-hot encoding"
   ]
  },
  {
   "cell_type": "code",
   "execution_count": 110,
   "metadata": {},
   "outputs": [
    {
     "data": {
      "text/html": [
       "<div>\n",
       "<style scoped>\n",
       "    .dataframe tbody tr th:only-of-type {\n",
       "        vertical-align: middle;\n",
       "    }\n",
       "\n",
       "    .dataframe tbody tr th {\n",
       "        vertical-align: top;\n",
       "    }\n",
       "\n",
       "    .dataframe thead th {\n",
       "        text-align: right;\n",
       "    }\n",
       "</style>\n",
       "<table border=\"1\" class=\"dataframe\">\n",
       "  <thead>\n",
       "    <tr style=\"text-align: right;\">\n",
       "      <th></th>\n",
       "      <th>num</th>\n",
       "      <th>상품명</th>\n",
       "      <th>원재료</th>\n",
       "      <th>생산자</th>\n",
       "      <th>생산지역</th>\n",
       "      <th>맥주타입</th>\n",
       "      <th>가격</th>\n",
       "    </tr>\n",
       "  </thead>\n",
       "  <tbody>\n",
       "    <tr>\n",
       "      <th>0</th>\n",
       "      <td>0</td>\n",
       "      <td>마튼즈, 라이거 필스너</td>\n",
       "      <td>정제수,맥아,홉,효모</td>\n",
       "      <td>마튼즈</td>\n",
       "      <td>벨기에</td>\n",
       "      <td>필스너</td>\n",
       "      <td>가격(상)</td>\n",
       "    </tr>\n",
       "    <tr>\n",
       "      <th>1</th>\n",
       "      <td>1</td>\n",
       "      <td>마튼즈, 라이거 바이젠</td>\n",
       "      <td>-</td>\n",
       "      <td>마튼즈</td>\n",
       "      <td>벨기에</td>\n",
       "      <td>바이젠</td>\n",
       "      <td>가격(상)</td>\n",
       "    </tr>\n",
       "  </tbody>\n",
       "</table>\n",
       "</div>"
      ],
      "text/plain": [
       "   num           상품명          원재료  생산자 생산지역 맥주타입     가격\n",
       "0    0  마튼즈, 라이거 필스너  정제수,맥아,홉,효모  마튼즈  벨기에  필스너  가격(상)\n",
       "1    1  마튼즈, 라이거 바이젠            -  마튼즈  벨기에  바이젠  가격(상)"
      ]
     },
     "execution_count": 110,
     "metadata": {},
     "output_type": "execute_result"
    }
   ],
   "source": [
    "data.head(2)"
   ]
  },
  {
   "cell_type": "markdown",
   "metadata": {},
   "source": [
    "확인완료"
   ]
  },
  {
   "cell_type": "markdown",
   "metadata": {},
   "source": [
    "### 추천용 데이터 리스트 저장"
   ]
  },
  {
   "cell_type": "code",
   "execution_count": 111,
   "metadata": {},
   "outputs": [],
   "source": [
    "abc_group.to_csv('../data/beer4REC.csv', encoding='utf-8-sig',index=False)"
   ]
  },
  {
   "cell_type": "markdown",
   "metadata": {},
   "source": [
    "### Train 데이터 리스트 저장"
   ]
  },
  {
   "cell_type": "markdown",
   "metadata": {},
   "source": [
    "##### 공정한 train을 위해 데이터를 무작위로 섞기"
   ]
  },
  {
   "cell_type": "code",
   "execution_count": 112,
   "metadata": {},
   "outputs": [
    {
     "name": "stdout",
     "output_type": "stream",
     "text": [
      "총 데이터 개수 1137\n",
      "학습에 사용할 데이터 개수  1137\n"
     ]
    }
   ],
   "source": [
    "train = abc_group.sample(frac=1)\n",
    "print('총 데이터 개수', len(abc_group))\n",
    "\n",
    "train = train.iloc[:1134,:]\n",
    "print('학습에 사용할 데이터 개수 ',len(abc_group))"
   ]
  },
  {
   "cell_type": "code",
   "execution_count": 113,
   "metadata": {},
   "outputs": [],
   "source": [
    "train.to_csv('../data/beer4REC_train.csv', encoding='utf-8-sig',index=False)"
   ]
  },
  {
   "cell_type": "markdown",
   "metadata": {},
   "source": [
    "### Test 데이터 리스트 저장"
   ]
  },
  {
   "cell_type": "code",
   "execution_count": 114,
   "metadata": {},
   "outputs": [
    {
     "name": "stdout",
     "output_type": "stream",
     "text": [
      "학습에 사용할 데이터 개수  3\n"
     ]
    }
   ],
   "source": [
    "test = abc_group.iloc[1134:,:]\n",
    "print('학습에 사용할 데이터 개수 ',len(test))"
   ]
  },
  {
   "cell_type": "code",
   "execution_count": 115,
   "metadata": {},
   "outputs": [],
   "source": [
    "test.to_csv('../data/beer4REC_test.csv', encoding='utf-8-sig',index=False)"
   ]
  }
 ],
 "metadata": {
  "kernelspec": {
   "display_name": "Python 3",
   "language": "python",
   "name": "python3"
  },
  "language_info": {
   "codemirror_mode": {
    "name": "ipython",
    "version": 3
   },
   "file_extension": ".py",
   "mimetype": "text/x-python",
   "name": "python",
   "nbconvert_exporter": "python",
   "pygments_lexer": "ipython3",
   "version": "3.6.9"
  }
 },
 "nbformat": 4,
 "nbformat_minor": 2
}
