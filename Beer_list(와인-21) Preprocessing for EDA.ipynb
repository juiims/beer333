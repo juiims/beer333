{
 "cells": [
  {
   "cell_type": "markdown",
   "metadata": {},
   "source": [
    "# 데이터 불러오기"
   ]
  },
  {
   "cell_type": "code",
   "execution_count": 112,
   "metadata": {},
   "outputs": [],
   "source": [
    "import pandas as pd"
   ]
  },
  {
   "cell_type": "code",
   "execution_count": 113,
   "metadata": {},
   "outputs": [
    {
     "name": "stdout",
     "output_type": "stream",
     "text": [
      "data01 =>   (1137, 10)\n",
      "data02 =>   (1137, 9)\n"
     ]
    }
   ],
   "source": [
    "data01 = pd.read_csv(\"../data/beer_list(와인21-detail).csv\",encoding='utf-8')\n",
    "data02 = pd.read_csv(\"../data/beer_list(와인21).csv\",encoding='utf-8')\n",
    "print('data01 =>  ',data01.shape)\n",
    "print('data02 =>  ',data02.shape)"
   ]
  },
  {
   "cell_type": "markdown",
   "metadata": {},
   "source": [
    "# 불러온 데이터 확인"
   ]
  },
  {
   "cell_type": "code",
   "execution_count": 114,
   "metadata": {},
   "outputs": [
    {
     "data": {
      "text/html": [
       "<div>\n",
       "<style scoped>\n",
       "    .dataframe tbody tr th:only-of-type {\n",
       "        vertical-align: middle;\n",
       "    }\n",
       "\n",
       "    .dataframe tbody tr th {\n",
       "        vertical-align: top;\n",
       "    }\n",
       "\n",
       "    .dataframe thead th {\n",
       "        text-align: right;\n",
       "    }\n",
       "</style>\n",
       "<table border=\"1\" class=\"dataframe\">\n",
       "  <thead>\n",
       "    <tr style=\"text-align: right;\">\n",
       "      <th></th>\n",
       "      <th>Unnamed: 0</th>\n",
       "      <th>상품명_kor</th>\n",
       "      <th>상품명_eng</th>\n",
       "      <th>도수</th>\n",
       "      <th>원재료</th>\n",
       "      <th>홉종류</th>\n",
       "      <th>음용온도</th>\n",
       "      <th>IBU</th>\n",
       "      <th>SRM</th>\n",
       "      <th>정보</th>\n",
       "    </tr>\n",
       "  </thead>\n",
       "  <tbody>\n",
       "    <tr>\n",
       "      <th>0</th>\n",
       "      <td>0</td>\n",
       "      <td>마튼즈, 라이거 필스너</td>\n",
       "      <td>Martens, Ligre Pilsner</td>\n",
       "      <td>5~6도</td>\n",
       "      <td>-</td>\n",
       "      <td>-</td>\n",
       "      <td>5~7℃</td>\n",
       "      <td>-</td>\n",
       "      <td>-</td>\n",
       "      <td>홉의 신선한 아로마와 몰트와 곡물의 달큰한 향이 어울리고 쌉쌀한 맛과 다양한 곡물의...</td>\n",
       "    </tr>\n",
       "  </tbody>\n",
       "</table>\n",
       "</div>"
      ],
      "text/plain": [
       "   Unnamed: 0       상품명_kor                 상품명_eng    도수 원재료 홉종류  음용온도 IBU  \\\n",
       "0           0  마튼즈, 라이거 필스너  Martens, Ligre Pilsner  5~6도   -   -  5~7℃   -   \n",
       "\n",
       "  SRM                                                 정보  \n",
       "0   -  홉의 신선한 아로마와 몰트와 곡물의 달큰한 향이 어울리고 쌉쌀한 맛과 다양한 곡물의...  "
      ]
     },
     "execution_count": 114,
     "metadata": {},
     "output_type": "execute_result"
    }
   ],
   "source": [
    "data01.head(1)"
   ]
  },
  {
   "cell_type": "code",
   "execution_count": 115,
   "metadata": {},
   "outputs": [
    {
     "data": {
      "text/html": [
       "<div>\n",
       "<style scoped>\n",
       "    .dataframe tbody tr th:only-of-type {\n",
       "        vertical-align: middle;\n",
       "    }\n",
       "\n",
       "    .dataframe tbody tr th {\n",
       "        vertical-align: top;\n",
       "    }\n",
       "\n",
       "    .dataframe thead th {\n",
       "        text-align: right;\n",
       "    }\n",
       "</style>\n",
       "<table border=\"1\" class=\"dataframe\">\n",
       "  <thead>\n",
       "    <tr style=\"text-align: right;\">\n",
       "      <th></th>\n",
       "      <th>Unnamed: 0</th>\n",
       "      <th>생산자_kor</th>\n",
       "      <th>생산자_eng</th>\n",
       "      <th>생산지역_kor</th>\n",
       "      <th>생산지역_eng</th>\n",
       "      <th>상품명_eng</th>\n",
       "      <th>상품명_kor</th>\n",
       "      <th>맥주타입</th>\n",
       "      <th>가격</th>\n",
       "    </tr>\n",
       "  </thead>\n",
       "  <tbody>\n",
       "    <tr>\n",
       "      <th>0</th>\n",
       "      <td>0</td>\n",
       "      <td>마튼즈</td>\n",
       "      <td>Martens</td>\n",
       "      <td>벨기에</td>\n",
       "      <td>Belgium</td>\n",
       "      <td>Martens, Ligre Pilsner</td>\n",
       "      <td>마튼즈, 라이거 필스너</td>\n",
       "      <td>필스너</td>\n",
       "      <td>3,900원 ~ 3,900원 (캔 500㎖)</td>\n",
       "    </tr>\n",
       "  </tbody>\n",
       "</table>\n",
       "</div>"
      ],
      "text/plain": [
       "   Unnamed: 0 생산자_kor  생산자_eng 생산지역_kor 생산지역_eng                 상품명_eng  \\\n",
       "0           0     마튼즈  Martens      벨기에  Belgium  Martens, Ligre Pilsner   \n",
       "\n",
       "        상품명_kor 맥주타입                        가격  \n",
       "0  마튼즈, 라이거 필스너  필스너  3,900원 ~ 3,900원 (캔 500㎖)  "
      ]
     },
     "execution_count": 115,
     "metadata": {},
     "output_type": "execute_result"
    }
   ],
   "source": [
    "data02.head(1)"
   ]
  },
  {
   "cell_type": "markdown",
   "metadata": {},
   "source": [
    "# 데이터 병합"
   ]
  },
  {
   "cell_type": "markdown",
   "metadata": {},
   "source": [
    "### 데이터 병합을 위한 체크"
   ]
  },
  {
   "cell_type": "code",
   "execution_count": 116,
   "metadata": {},
   "outputs": [
    {
     "name": "stdout",
     "output_type": "stream",
     "text": [
      "columns01=>  ['Unnamed: 0', '상품명_kor', '상품명_eng', '도수', '원재료', '홉종류', '음용온도', 'IBU', 'SRM', '정보']\n",
      "columns02=>  ['Unnamed: 0', '생산자_kor', '생산자_eng', '생산지역_kor', '생산지역_eng', '상품명_eng', '상품명_kor', '맥주타입', '가격']\n"
     ]
    }
   ],
   "source": [
    "columns01 = list(data01.columns)\n",
    "columns02 = list(data02.columns)\n",
    "print('columns01=> ',columns01)\n",
    "print('columns02=> ',columns02)"
   ]
  },
  {
   "cell_type": "markdown",
   "metadata": {},
   "source": [
    "### 데이터 병합"
   ]
  },
  {
   "cell_type": "code",
   "execution_count": 117,
   "metadata": {},
   "outputs": [
    {
     "data": {
      "text/plain": [
       "Index(['Unnamed: 0', '상품명_kor', '상품명_eng', '도수', '원재료', '홉종류', '음용온도', 'IBU',\n",
       "       'SRM', '정보', '생산자_kor', '생산자_eng', '생산지역_kor', '생산지역_eng', '맥주타입',\n",
       "       '가격'],\n",
       "      dtype='object')"
      ]
     },
     "execution_count": 117,
     "metadata": {},
     "output_type": "execute_result"
    }
   ],
   "source": [
    "data = pd.merge(data01,data02,on=['상품명_kor','상품명_eng','Unnamed: 0'])\n",
    "data.columns"
   ]
  },
  {
   "cell_type": "markdown",
   "metadata": {},
   "source": [
    "### 데이터 병합 후 전처리"
   ]
  },
  {
   "cell_type": "code",
   "execution_count": 118,
   "metadata": {},
   "outputs": [
    {
     "data": {
      "text/html": [
       "<div>\n",
       "<style scoped>\n",
       "    .dataframe tbody tr th:only-of-type {\n",
       "        vertical-align: middle;\n",
       "    }\n",
       "\n",
       "    .dataframe tbody tr th {\n",
       "        vertical-align: top;\n",
       "    }\n",
       "\n",
       "    .dataframe thead th {\n",
       "        text-align: right;\n",
       "    }\n",
       "</style>\n",
       "<table border=\"1\" class=\"dataframe\">\n",
       "  <thead>\n",
       "    <tr style=\"text-align: right;\">\n",
       "      <th></th>\n",
       "      <th>Unnamed: 0</th>\n",
       "      <th>상품명_kor</th>\n",
       "      <th>상품명_eng</th>\n",
       "      <th>도수</th>\n",
       "      <th>원재료</th>\n",
       "      <th>홉종류</th>\n",
       "      <th>음용온도</th>\n",
       "      <th>IBU</th>\n",
       "      <th>SRM</th>\n",
       "      <th>정보</th>\n",
       "      <th>생산자_kor</th>\n",
       "      <th>생산자_eng</th>\n",
       "      <th>생산지역_kor</th>\n",
       "      <th>생산지역_eng</th>\n",
       "      <th>맥주타입</th>\n",
       "      <th>가격</th>\n",
       "    </tr>\n",
       "  </thead>\n",
       "  <tbody>\n",
       "    <tr>\n",
       "      <th>0</th>\n",
       "      <td>0</td>\n",
       "      <td>마튼즈, 라이거 필스너</td>\n",
       "      <td>Martens, Ligre Pilsner</td>\n",
       "      <td>5~6도</td>\n",
       "      <td>-</td>\n",
       "      <td>-</td>\n",
       "      <td>5~7℃</td>\n",
       "      <td>-</td>\n",
       "      <td>-</td>\n",
       "      <td>홉의 신선한 아로마와 몰트와 곡물의 달큰한 향이 어울리고 쌉쌀한 맛과 다양한 곡물의...</td>\n",
       "      <td>마튼즈</td>\n",
       "      <td>Martens</td>\n",
       "      <td>벨기에</td>\n",
       "      <td>Belgium</td>\n",
       "      <td>필스너</td>\n",
       "      <td>3,900원 ~ 3,900원 (캔 500㎖)</td>\n",
       "    </tr>\n",
       "  </tbody>\n",
       "</table>\n",
       "</div>"
      ],
      "text/plain": [
       "   Unnamed: 0       상품명_kor                 상품명_eng    도수 원재료 홉종류  음용온도 IBU  \\\n",
       "0           0  마튼즈, 라이거 필스너  Martens, Ligre Pilsner  5~6도   -   -  5~7℃   -   \n",
       "\n",
       "  SRM                                                 정보 생산자_kor  생산자_eng  \\\n",
       "0   -  홉의 신선한 아로마와 몰트와 곡물의 달큰한 향이 어울리고 쌉쌀한 맛과 다양한 곡물의...     마튼즈  Martens   \n",
       "\n",
       "  생산지역_kor 생산지역_eng 맥주타입                        가격  \n",
       "0      벨기에  Belgium  필스너  3,900원 ~ 3,900원 (캔 500㎖)  "
      ]
     },
     "execution_count": 118,
     "metadata": {},
     "output_type": "execute_result"
    }
   ],
   "source": [
    "data.head(1)"
   ]
  },
  {
   "cell_type": "markdown",
   "metadata": {},
   "source": [
    "### 전처리 리스트\n",
    "1. 컬럼명 변경 : Unnamed: 0  ->  num\n",
    "2. 도수 입력값 '5~6도' 를 평균으로 환산하여 숫자화 >> 5.5\n",
    "3. 가격 입력값 '3,900원 ~ 3900원(캔500ml))을 평균값으로 환산하여 숫자화 > 3900\n",
    "4. 음용온도는 컬럼에서 제외 "
   ]
  },
  {
   "cell_type": "markdown",
   "metadata": {},
   "source": [
    "#### 1. 컬럼명 변경 : Unnamed: 0_x -> num"
   ]
  },
  {
   "cell_type": "code",
   "execution_count": 119,
   "metadata": {},
   "outputs": [],
   "source": [
    "data.rename(columns={'Unnamed: 0':'num'},inplace=True)"
   ]
  },
  {
   "cell_type": "markdown",
   "metadata": {},
   "source": [
    "####  2. 도수 입력값 '5~6도' 를 평균으로 환산하여 숫자화 >> 5.5"
   ]
  },
  {
   "cell_type": "code",
   "execution_count": 120,
   "metadata": {},
   "outputs": [],
   "source": [
    "import re"
   ]
  },
  {
   "cell_type": "code",
   "execution_count": 121,
   "metadata": {},
   "outputs": [
    {
     "data": {
      "text/plain": [
       "0       5~6도\n",
       "1       4~5도\n",
       "2       5.2도\n",
       "3       4.5도\n",
       "4       4.3도\n",
       "        ... \n",
       "1132      6도\n",
       "1133    4.5도\n",
       "1134    5.1도\n",
       "1135    4.7도\n",
       "1136    4.8도\n",
       "Name: 도수, Length: 1137, dtype: object"
      ]
     },
     "execution_count": 121,
     "metadata": {},
     "output_type": "execute_result"
    }
   ],
   "source": [
    "data['도수']"
   ]
  },
  {
   "cell_type": "markdown",
   "metadata": {},
   "source": [
    "#### 3-1 : '4.8도'에서 '도' 제거하기"
   ]
  },
  {
   "cell_type": "code",
   "execution_count": 122,
   "metadata": {},
   "outputs": [
    {
     "name": "stderr",
     "output_type": "stream",
     "text": [
      "C:\\Users\\JIn\\Anaconda3\\lib\\site-packages\\ipykernel_launcher.py:2: SettingWithCopyWarning: \n",
      "A value is trying to be set on a copy of a slice from a DataFrame\n",
      "\n",
      "See the caveats in the documentation: http://pandas.pydata.org/pandas-docs/stable/user_guide/indexing.html#returning-a-view-versus-a-copy\n",
      "  \n"
     ]
    },
    {
     "data": {
      "text/plain": [
       "0    5~6\n",
       "Name: 도수, dtype: object"
      ]
     },
     "execution_count": 122,
     "metadata": {},
     "output_type": "execute_result"
    }
   ],
   "source": [
    "for i in range(len(data['도수'])):\n",
    "    data['도수'][i] = re.sub('[도]','',data['도수'][i])\n",
    "data['도수'].head(1)"
   ]
  },
  {
   "cell_type": "markdown",
   "metadata": {},
   "source": [
    "#### 3-2 : '~'를 기준으로 앞 뒤를 추출하기"
   ]
  },
  {
   "cell_type": "code",
   "execution_count": 123,
   "metadata": {},
   "outputs": [
    {
     "name": "stderr",
     "output_type": "stream",
     "text": [
      "C:\\Users\\JIn\\Anaconda3\\lib\\site-packages\\ipykernel_launcher.py:5: SettingWithCopyWarning: \n",
      "A value is trying to be set on a copy of a slice from a DataFrame\n",
      "\n",
      "See the caveats in the documentation: http://pandas.pydata.org/pandas-docs/stable/user_guide/indexing.html#returning-a-view-versus-a-copy\n",
      "  \"\"\"\n",
      "C:\\Users\\JIn\\Anaconda3\\lib\\site-packages\\ipykernel_launcher.py:11: SettingWithCopyWarning: \n",
      "A value is trying to be set on a copy of a slice from a DataFrame\n",
      "\n",
      "See the caveats in the documentation: http://pandas.pydata.org/pandas-docs/stable/user_guide/indexing.html#returning-a-view-versus-a-copy\n",
      "  # This is added back by InteractiveShellApp.init_path()\n"
     ]
    }
   ],
   "source": [
    "pattern = re.compile('~')\n",
    "for i in range(len(data['도수'])):\n",
    "    try:\n",
    "        splited = pattern.split(data['도수'][i])\n",
    "        data['도수'][i]=(float(splited[0])+float(splited[1])/2)\n",
    " \n",
    "    except ValueError:\n",
    "        pass\n",
    " \n",
    "    except :\n",
    "        data['도수'][i]=(float(data.iloc[i]['도수']))"
   ]
  },
  {
   "cell_type": "code",
   "execution_count": 124,
   "metadata": {},
   "outputs": [
    {
     "data": {
      "text/plain": [
       "0      8\n",
       "1    6.5\n",
       "2    5.2\n",
       "Name: 도수, dtype: object"
      ]
     },
     "execution_count": 124,
     "metadata": {},
     "output_type": "execute_result"
    }
   ],
   "source": [
    "data['도수'].head(3)"
   ]
  },
  {
   "cell_type": "markdown",
   "metadata": {},
   "source": [
    "#### 4. 가격 입력값 '3,900원 ~ 3900원(캔500ml))을 평균값으로 환산하여 숫자화 > 3900"
   ]
  },
  {
   "cell_type": "code",
   "execution_count": 125,
   "metadata": {},
   "outputs": [
    {
     "data": {
      "text/plain": [
       "'3,900원 ~ 3,900원 (캔 500㎖)'"
      ]
     },
     "execution_count": 125,
     "metadata": {},
     "output_type": "execute_result"
    }
   ],
   "source": [
    "data['가격'][0]"
   ]
  },
  {
   "cell_type": "markdown",
   "metadata": {},
   "source": [
    "#### 4-1 음료용량 제거 :  '3,900원 ~ 3900원(캔500ml))  -> '3,900원 ~ 3900원"
   ]
  },
  {
   "cell_type": "code",
   "execution_count": 126,
   "metadata": {},
   "outputs": [
    {
     "name": "stderr",
     "output_type": "stream",
     "text": [
      "C:\\Users\\JIn\\Anaconda3\\lib\\site-packages\\ipykernel_launcher.py:3: SettingWithCopyWarning: \n",
      "A value is trying to be set on a copy of a slice from a DataFrame\n",
      "\n",
      "See the caveats in the documentation: http://pandas.pydata.org/pandas-docs/stable/user_guide/indexing.html#returning-a-view-versus-a-copy\n",
      "  This is separate from the ipykernel package so we can avoid doing imports until\n"
     ]
    },
    {
     "data": {
      "text/plain": [
       "'3,900원 ~ 3,900원 '"
      ]
     },
     "execution_count": 126,
     "metadata": {},
     "output_type": "execute_result"
    }
   ],
   "source": [
    "for i in range(len(data)):\n",
    "    pattern = r'\\([^)]*\\)'\n",
    "    data['가격'][i] = re.sub(pattern=pattern, repl='', string=data['가격'][i])\n",
    "data['가격'][0]"
   ]
  },
  {
   "cell_type": "markdown",
   "metadata": {},
   "source": [
    "#### 4-2 문자제거(쉼표, 공백, 원)  :  '3,900원 ~ 3,900원 -> '3900~ 3900'"
   ]
  },
  {
   "cell_type": "code",
   "execution_count": 127,
   "metadata": {},
   "outputs": [
    {
     "name": "stderr",
     "output_type": "stream",
     "text": [
      "C:\\Users\\JIn\\Anaconda3\\lib\\site-packages\\ipykernel_launcher.py:2: SettingWithCopyWarning: \n",
      "A value is trying to be set on a copy of a slice from a DataFrame\n",
      "\n",
      "See the caveats in the documentation: http://pandas.pydata.org/pandas-docs/stable/user_guide/indexing.html#returning-a-view-versus-a-copy\n",
      "  \n",
      "C:\\Users\\JIn\\Anaconda3\\lib\\site-packages\\ipykernel_launcher.py:3: SettingWithCopyWarning: \n",
      "A value is trying to be set on a copy of a slice from a DataFrame\n",
      "\n",
      "See the caveats in the documentation: http://pandas.pydata.org/pandas-docs/stable/user_guide/indexing.html#returning-a-view-versus-a-copy\n",
      "  This is separate from the ipykernel package so we can avoid doing imports until\n",
      "C:\\Users\\JIn\\Anaconda3\\lib\\site-packages\\ipykernel_launcher.py:4: SettingWithCopyWarning: \n",
      "A value is trying to be set on a copy of a slice from a DataFrame\n",
      "\n",
      "See the caveats in the documentation: http://pandas.pydata.org/pandas-docs/stable/user_guide/indexing.html#returning-a-view-versus-a-copy\n",
      "  after removing the cwd from sys.path.\n"
     ]
    },
    {
     "data": {
      "text/plain": [
       "0    3900~3900\n",
       "Name: 가격, dtype: object"
      ]
     },
     "execution_count": 127,
     "metadata": {},
     "output_type": "execute_result"
    }
   ],
   "source": [
    "for i in range(len(data['가격'])):\n",
    "    data['가격'][i] = re.sub('[원]','',data['가격'][i])\n",
    "    data['가격'][i] = re.sub('[,]','',data['가격'][i])\n",
    "    data['가격'][i] = re.sub('[ ]','',data['가격'][i])\n",
    "data['가격'].head(1)"
   ]
  },
  {
   "cell_type": "markdown",
   "metadata": {},
   "source": [
    "#### 4-3 :  '~'을 기준으로 앞뒤 추출  :  '3,900원 ~ 3,900원 -> [3,900, 3,900]"
   ]
  },
  {
   "cell_type": "code",
   "execution_count": 128,
   "metadata": {},
   "outputs": [],
   "source": [
    "pattern = re.compile('~')"
   ]
  },
  {
   "cell_type": "code",
   "execution_count": 129,
   "metadata": {},
   "outputs": [
    {
     "data": {
      "text/plain": [
       "['3900', '3900']"
      ]
     },
     "execution_count": 129,
     "metadata": {},
     "output_type": "execute_result"
    }
   ],
   "source": [
    "splited = pattern.split(data['가격'][0])\n",
    "splited"
   ]
  },
  {
   "cell_type": "markdown",
   "metadata": {},
   "source": [
    "#### 4-4 :  '~'을 기준으로 앞뒤로 연산"
   ]
  },
  {
   "cell_type": "code",
   "execution_count": 130,
   "metadata": {},
   "outputs": [
    {
     "name": "stderr",
     "output_type": "stream",
     "text": [
      "C:\\Users\\JIn\\Anaconda3\\lib\\site-packages\\ipykernel_launcher.py:5: SettingWithCopyWarning: \n",
      "A value is trying to be set on a copy of a slice from a DataFrame\n",
      "\n",
      "See the caveats in the documentation: http://pandas.pydata.org/pandas-docs/stable/user_guide/indexing.html#returning-a-view-versus-a-copy\n",
      "  \"\"\"\n",
      "C:\\Users\\JIn\\Anaconda3\\lib\\site-packages\\ipykernel_launcher.py:8: SettingWithCopyWarning: \n",
      "A value is trying to be set on a copy of a slice from a DataFrame\n",
      "\n",
      "See the caveats in the documentation: http://pandas.pydata.org/pandas-docs/stable/user_guide/indexing.html#returning-a-view-versus-a-copy\n",
      "  \n",
      "C:\\Users\\JIn\\Anaconda3\\lib\\site-packages\\ipykernel_launcher.py:11: SettingWithCopyWarning: \n",
      "A value is trying to be set on a copy of a slice from a DataFrame\n",
      "\n",
      "See the caveats in the documentation: http://pandas.pydata.org/pandas-docs/stable/user_guide/indexing.html#returning-a-view-versus-a-copy\n",
      "  # This is added back by InteractiveShellApp.init_path()\n"
     ]
    }
   ],
   "source": [
    "pattern = re.compile('~')\n",
    "for i in range(len(data['가격'])):\n",
    "    try:\n",
    "        splited = pattern.split(data['가격'][i])\n",
    "        data['가격'][i]=int(int(splited[0])+int(splited[1])/2)\n",
    " \n",
    "    except ValueError:\n",
    "        data['가격'][i]='-'\n",
    " \n",
    "    except :\n",
    "        data['가격'][i]=int(data.iloc[i]['가격'])"
   ]
  },
  {
   "cell_type": "markdown",
   "metadata": {},
   "source": [
    "#### 음용온도를 data 컬럼에서 제외"
   ]
  },
  {
   "cell_type": "code",
   "execution_count": 131,
   "metadata": {},
   "outputs": [],
   "source": [
    "data.drop('음용온도',inplace=True,axis=1)"
   ]
  },
  {
   "cell_type": "code",
   "execution_count": 132,
   "metadata": {},
   "outputs": [
    {
     "data": {
      "text/html": [
       "<div>\n",
       "<style scoped>\n",
       "    .dataframe tbody tr th:only-of-type {\n",
       "        vertical-align: middle;\n",
       "    }\n",
       "\n",
       "    .dataframe tbody tr th {\n",
       "        vertical-align: top;\n",
       "    }\n",
       "\n",
       "    .dataframe thead th {\n",
       "        text-align: right;\n",
       "    }\n",
       "</style>\n",
       "<table border=\"1\" class=\"dataframe\">\n",
       "  <thead>\n",
       "    <tr style=\"text-align: right;\">\n",
       "      <th></th>\n",
       "      <th>num</th>\n",
       "      <th>상품명_kor</th>\n",
       "      <th>상품명_eng</th>\n",
       "      <th>도수</th>\n",
       "      <th>원재료</th>\n",
       "      <th>홉종류</th>\n",
       "      <th>IBU</th>\n",
       "      <th>SRM</th>\n",
       "      <th>정보</th>\n",
       "      <th>생산자_kor</th>\n",
       "      <th>생산자_eng</th>\n",
       "      <th>생산지역_kor</th>\n",
       "      <th>생산지역_eng</th>\n",
       "      <th>맥주타입</th>\n",
       "      <th>가격</th>\n",
       "    </tr>\n",
       "  </thead>\n",
       "  <tbody>\n",
       "    <tr>\n",
       "      <th>0</th>\n",
       "      <td>0</td>\n",
       "      <td>마튼즈, 라이거 필스너</td>\n",
       "      <td>Martens, Ligre Pilsner</td>\n",
       "      <td>8</td>\n",
       "      <td>-</td>\n",
       "      <td>-</td>\n",
       "      <td>-</td>\n",
       "      <td>-</td>\n",
       "      <td>홉의 신선한 아로마와 몰트와 곡물의 달큰한 향이 어울리고 쌉쌀한 맛과 다양한 곡물의...</td>\n",
       "      <td>마튼즈</td>\n",
       "      <td>Martens</td>\n",
       "      <td>벨기에</td>\n",
       "      <td>Belgium</td>\n",
       "      <td>필스너</td>\n",
       "      <td>5850</td>\n",
       "    </tr>\n",
       "    <tr>\n",
       "      <th>1</th>\n",
       "      <td>1</td>\n",
       "      <td>마튼즈, 라이거 바이젠</td>\n",
       "      <td>Martens, Ligre Weizen</td>\n",
       "      <td>6.5</td>\n",
       "      <td>-</td>\n",
       "      <td>-</td>\n",
       "      <td>-</td>\n",
       "      <td>-</td>\n",
       "      <td>밀을 이용해 만든 밀맥주이며, 상면발효 방식으로 양조했다. 부드러운 질감이 매력적이...</td>\n",
       "      <td>마튼즈</td>\n",
       "      <td>Martens</td>\n",
       "      <td>벨기에</td>\n",
       "      <td>Belgium</td>\n",
       "      <td>바이젠</td>\n",
       "      <td>5850</td>\n",
       "    </tr>\n",
       "    <tr>\n",
       "      <th>2</th>\n",
       "      <td>2</td>\n",
       "      <td>메나브레아 필스</td>\n",
       "      <td>Menabrea Pils</td>\n",
       "      <td>5.2</td>\n",
       "      <td>-</td>\n",
       "      <td>-</td>\n",
       "      <td>-</td>\n",
       "      <td>-</td>\n",
       "      <td>알프스 산맥의 깨끗한 경수를 사용하여 만든 황금빛의 필스너 맥주이다. 프리미엄 홉을...</td>\n",
       "      <td>메나브레아</td>\n",
       "      <td>Menabrea</td>\n",
       "      <td>이탈리아</td>\n",
       "      <td>Italy</td>\n",
       "      <td>필스너</td>\n",
       "      <td>-</td>\n",
       "    </tr>\n",
       "    <tr>\n",
       "      <th>3</th>\n",
       "      <td>3</td>\n",
       "      <td>민타임, 런던 라거</td>\n",
       "      <td>Meantime, London Lager</td>\n",
       "      <td>4.5</td>\n",
       "      <td>-</td>\n",
       "      <td>-</td>\n",
       "      <td>-</td>\n",
       "      <td>-</td>\n",
       "      <td>MEANTIME 런던 라거는 영국 라거의 정수를 보여주기 위해 브루마스터 알라스테어...</td>\n",
       "      <td>민타임</td>\n",
       "      <td>Meantime</td>\n",
       "      <td>영국</td>\n",
       "      <td>U.K</td>\n",
       "      <td>라거</td>\n",
       "      <td>6500</td>\n",
       "    </tr>\n",
       "    <tr>\n",
       "      <th>4</th>\n",
       "      <td>4</td>\n",
       "      <td>민타임, 런던 페일 에일</td>\n",
       "      <td>Meantime, London Pale Ale</td>\n",
       "      <td>4.3</td>\n",
       "      <td>-</td>\n",
       "      <td>-</td>\n",
       "      <td>-</td>\n",
       "      <td>-</td>\n",
       "      <td>약 150여 년전 런던의 양조장들이 캘리포니아산 홉을 수입했던 전통을 살리기 위해 ...</td>\n",
       "      <td>민타임</td>\n",
       "      <td>Meantime</td>\n",
       "      <td>영국</td>\n",
       "      <td>U.K</td>\n",
       "      <td>페일 에일</td>\n",
       "      <td>6500</td>\n",
       "    </tr>\n",
       "    <tr>\n",
       "      <th>...</th>\n",
       "      <td>...</td>\n",
       "      <td>...</td>\n",
       "      <td>...</td>\n",
       "      <td>...</td>\n",
       "      <td>...</td>\n",
       "      <td>...</td>\n",
       "      <td>...</td>\n",
       "      <td>...</td>\n",
       "      <td>...</td>\n",
       "      <td>...</td>\n",
       "      <td>...</td>\n",
       "      <td>...</td>\n",
       "      <td>...</td>\n",
       "      <td>...</td>\n",
       "      <td>...</td>\n",
       "    </tr>\n",
       "    <tr>\n",
       "      <th>1132</th>\n",
       "      <td>1132</td>\n",
       "      <td>해리스 스타우트</td>\n",
       "      <td>Harry's Stout</td>\n",
       "      <td>6</td>\n",
       "      <td>정제수, 맥아, 홉, 효모, 농축블루베리</td>\n",
       "      <td>Goldings</td>\n",
       "      <td>26</td>\n",
       "      <td>-</td>\n",
       "      <td>단연 블루베리 향이 강하게 나며, 잘 볶은 커피향 과 초콜릿이 뒤를 따른다. 굉장히...</td>\n",
       "      <td>소가턱 브루잉 컴퍼니</td>\n",
       "      <td>Saugatuck Brewing Company</td>\n",
       "      <td>소가턱</td>\n",
       "      <td>Saugatuck</td>\n",
       "      <td>스타우트</td>\n",
       "      <td>3500</td>\n",
       "    </tr>\n",
       "    <tr>\n",
       "      <th>1133</th>\n",
       "      <td>1133</td>\n",
       "      <td>샘스 에일</td>\n",
       "      <td>Sam's Ale</td>\n",
       "      <td>4.5</td>\n",
       "      <td>-</td>\n",
       "      <td>Simcoe</td>\n",
       "      <td>45</td>\n",
       "      <td>-</td>\n",
       "      <td>맑은 황금빛 색을 띄우며, 거품이 풍성하게 쌓이는게 특징이다. 싱그러운 시트러스, ...</td>\n",
       "      <td>소가턱 브루잉 컴퍼니</td>\n",
       "      <td>Saugatuck Brewing Company</td>\n",
       "      <td>소가턱</td>\n",
       "      <td>Saugatuck</td>\n",
       "      <td>세션 인디아 페일 에일</td>\n",
       "      <td>3500</td>\n",
       "    </tr>\n",
       "    <tr>\n",
       "      <th>1134</th>\n",
       "      <td>1134</td>\n",
       "      <td>슈렝케를라 메르첸</td>\n",
       "      <td>Schlenkerla Marzen</td>\n",
       "      <td>5.1</td>\n",
       "      <td>정제수, 보리, 맥아, 홉, 효모</td>\n",
       "      <td>-</td>\n",
       "      <td>30</td>\n",
       "      <td>-</td>\n",
       "      <td>일반적인 메르첸 스타일과 같이 짙은 붉은색의 하면 발효 맥주로 수세기에 걸쳐 생산되...</td>\n",
       "      <td>헬러브라우 트럼 지엠비에이치</td>\n",
       "      <td>Heller-Brau Trum GmbH</td>\n",
       "      <td>밤베르크</td>\n",
       "      <td>Bamberg</td>\n",
       "      <td>라거</td>\n",
       "      <td>11750</td>\n",
       "    </tr>\n",
       "    <tr>\n",
       "      <th>1135</th>\n",
       "      <td>1135</td>\n",
       "      <td>가펠 소넨 호펜</td>\n",
       "      <td>Gaffels Sonnen Hopfen</td>\n",
       "      <td>4.7</td>\n",
       "      <td>정제수, 맥아, 홉, 효모</td>\n",
       "      <td>-</td>\n",
       "      <td>10</td>\n",
       "      <td>-</td>\n",
       "      <td>최고급 와인 산지로 유명한 미국북서부 지역의 야키마벨리에서 생산되는 시트라 홉의 산...</td>\n",
       "      <td>프라이빗 브루어리 가펠 베커 앤 컴퍼니</td>\n",
       "      <td>Brivatbrauerei Gaffel Becker &amp; Company</td>\n",
       "      <td>쾰른</td>\n",
       "      <td>Koln</td>\n",
       "      <td>쾰쉬</td>\n",
       "      <td>3800</td>\n",
       "    </tr>\n",
       "    <tr>\n",
       "      <th>1136</th>\n",
       "      <td>1136</td>\n",
       "      <td>가펠 쾰쉬</td>\n",
       "      <td>Gaffel Kolsch</td>\n",
       "      <td>4.8</td>\n",
       "      <td>정제수, 맥아, 홉, 효모</td>\n",
       "      <td>-</td>\n",
       "      <td>25</td>\n",
       "      <td>-</td>\n",
       "      <td>에일 효모를 이용한 맥주. 에일 맥주의 고유의 청사과, 꽃, 허니 등의 고급스러운 ...</td>\n",
       "      <td>프라이빗 브루어리 가펠 베커 앤 컴퍼니</td>\n",
       "      <td>Brivatbrauerei Gaffel Becker &amp; Company</td>\n",
       "      <td>쾰른</td>\n",
       "      <td>Koln</td>\n",
       "      <td>쾰쉬</td>\n",
       "      <td>3500</td>\n",
       "    </tr>\n",
       "  </tbody>\n",
       "</table>\n",
       "<p>1137 rows × 15 columns</p>\n",
       "</div>"
      ],
      "text/plain": [
       "       num        상품명_kor                    상품명_eng   도수  \\\n",
       "0        0   마튼즈, 라이거 필스너     Martens, Ligre Pilsner    8   \n",
       "1        1   마튼즈, 라이거 바이젠      Martens, Ligre Weizen  6.5   \n",
       "2        2       메나브레아 필스              Menabrea Pils  5.2   \n",
       "3        3     민타임, 런던 라거     Meantime, London Lager  4.5   \n",
       "4        4  민타임, 런던 페일 에일  Meantime, London Pale Ale  4.3   \n",
       "...    ...            ...                        ...  ...   \n",
       "1132  1132       해리스 스타우트              Harry's Stout    6   \n",
       "1133  1133          샘스 에일                  Sam's Ale  4.5   \n",
       "1134  1134      슈렝케를라 메르첸         Schlenkerla Marzen  5.1   \n",
       "1135  1135       가펠 소넨 호펜      Gaffels Sonnen Hopfen  4.7   \n",
       "1136  1136          가펠 쾰쉬              Gaffel Kolsch  4.8   \n",
       "\n",
       "                         원재료       홉종류 IBU SRM  \\\n",
       "0                          -         -   -   -   \n",
       "1                          -         -   -   -   \n",
       "2                          -         -   -   -   \n",
       "3                          -         -   -   -   \n",
       "4                          -         -   -   -   \n",
       "...                      ...       ...  ..  ..   \n",
       "1132  정제수, 맥아, 홉, 효모, 농축블루베리  Goldings  26   -   \n",
       "1133                       -    Simcoe  45   -   \n",
       "1134      정제수, 보리, 맥아, 홉, 효모         -  30   -   \n",
       "1135          정제수, 맥아, 홉, 효모         -  10   -   \n",
       "1136          정제수, 맥아, 홉, 효모         -  25   -   \n",
       "\n",
       "                                                     정보  \\\n",
       "0     홉의 신선한 아로마와 몰트와 곡물의 달큰한 향이 어울리고 쌉쌀한 맛과 다양한 곡물의...   \n",
       "1     밀을 이용해 만든 밀맥주이며, 상면발효 방식으로 양조했다. 부드러운 질감이 매력적이...   \n",
       "2     알프스 산맥의 깨끗한 경수를 사용하여 만든 황금빛의 필스너 맥주이다. 프리미엄 홉을...   \n",
       "3     MEANTIME 런던 라거는 영국 라거의 정수를 보여주기 위해 브루마스터 알라스테어...   \n",
       "4     약 150여 년전 런던의 양조장들이 캘리포니아산 홉을 수입했던 전통을 살리기 위해 ...   \n",
       "...                                                 ...   \n",
       "1132  단연 블루베리 향이 강하게 나며, 잘 볶은 커피향 과 초콜릿이 뒤를 따른다. 굉장히...   \n",
       "1133  맑은 황금빛 색을 띄우며, 거품이 풍성하게 쌓이는게 특징이다. 싱그러운 시트러스, ...   \n",
       "1134  일반적인 메르첸 스타일과 같이 짙은 붉은색의 하면 발효 맥주로 수세기에 걸쳐 생산되...   \n",
       "1135  최고급 와인 산지로 유명한 미국북서부 지역의 야키마벨리에서 생산되는 시트라 홉의 산...   \n",
       "1136  에일 효모를 이용한 맥주. 에일 맥주의 고유의 청사과, 꽃, 허니 등의 고급스러운 ...   \n",
       "\n",
       "                    생산자_kor                                 생산자_eng 생산지역_kor  \\\n",
       "0                       마튼즈                                 Martens      벨기에   \n",
       "1                       마튼즈                                 Martens      벨기에   \n",
       "2                     메나브레아                                Menabrea     이탈리아   \n",
       "3                       민타임                                Meantime       영국   \n",
       "4                       민타임                                Meantime       영국   \n",
       "...                     ...                                     ...      ...   \n",
       "1132            소가턱 브루잉 컴퍼니               Saugatuck Brewing Company      소가턱   \n",
       "1133            소가턱 브루잉 컴퍼니               Saugatuck Brewing Company      소가턱   \n",
       "1134        헬러브라우 트럼 지엠비에이치                   Heller-Brau Trum GmbH     밤베르크   \n",
       "1135  프라이빗 브루어리 가펠 베커 앤 컴퍼니  Brivatbrauerei Gaffel Becker & Company       쾰른   \n",
       "1136  프라이빗 브루어리 가펠 베커 앤 컴퍼니  Brivatbrauerei Gaffel Becker & Company       쾰른   \n",
       "\n",
       "       생산지역_eng          맥주타입     가격  \n",
       "0       Belgium           필스너   5850  \n",
       "1       Belgium           바이젠   5850  \n",
       "2         Italy           필스너      -  \n",
       "3           U.K            라거   6500  \n",
       "4           U.K         페일 에일   6500  \n",
       "...         ...           ...    ...  \n",
       "1132  Saugatuck          스타우트   3500  \n",
       "1133  Saugatuck  세션 인디아 페일 에일   3500  \n",
       "1134    Bamberg            라거  11750  \n",
       "1135       Koln           쾰쉬    3800  \n",
       "1136       Koln           쾰쉬    3500  \n",
       "\n",
       "[1137 rows x 15 columns]"
      ]
     },
     "execution_count": 132,
     "metadata": {},
     "output_type": "execute_result"
    }
   ],
   "source": [
    "data"
   ]
  },
  {
   "cell_type": "markdown",
   "metadata": {},
   "source": [
    "### 전처리 결과\n",
    "전처리 리스트\n",
    "1. 컬럼명 변경 : Unnamed: 0_x   ->  num\n",
    "2. Unnamed: 0_y 컬럼 삭제\n",
    "3. 도수 입력값 '5~6도' 를 평균으로 환산하여 숫자화 >> 5.5\n",
    "4. 가격 입력값 '3,900원 ~ 3900원(캔500ml))을 평균값으로 환산하여 숫자화 > 3900\n",
    "5. 음용온도는 컬럼에서 제외 "
   ]
  },
  {
   "cell_type": "code",
   "execution_count": 133,
   "metadata": {},
   "outputs": [
    {
     "data": {
      "text/html": [
       "<div>\n",
       "<style scoped>\n",
       "    .dataframe tbody tr th:only-of-type {\n",
       "        vertical-align: middle;\n",
       "    }\n",
       "\n",
       "    .dataframe tbody tr th {\n",
       "        vertical-align: top;\n",
       "    }\n",
       "\n",
       "    .dataframe thead th {\n",
       "        text-align: right;\n",
       "    }\n",
       "</style>\n",
       "<table border=\"1\" class=\"dataframe\">\n",
       "  <thead>\n",
       "    <tr style=\"text-align: right;\">\n",
       "      <th></th>\n",
       "      <th>num</th>\n",
       "      <th>상품명_kor</th>\n",
       "      <th>상품명_eng</th>\n",
       "      <th>도수</th>\n",
       "      <th>원재료</th>\n",
       "      <th>홉종류</th>\n",
       "      <th>IBU</th>\n",
       "      <th>SRM</th>\n",
       "      <th>정보</th>\n",
       "      <th>생산자_kor</th>\n",
       "      <th>생산자_eng</th>\n",
       "      <th>생산지역_kor</th>\n",
       "      <th>생산지역_eng</th>\n",
       "      <th>맥주타입</th>\n",
       "      <th>가격</th>\n",
       "    </tr>\n",
       "  </thead>\n",
       "  <tbody>\n",
       "    <tr>\n",
       "      <th>0</th>\n",
       "      <td>0</td>\n",
       "      <td>마튼즈, 라이거 필스너</td>\n",
       "      <td>Martens, Ligre Pilsner</td>\n",
       "      <td>8</td>\n",
       "      <td>-</td>\n",
       "      <td>-</td>\n",
       "      <td>-</td>\n",
       "      <td>-</td>\n",
       "      <td>홉의 신선한 아로마와 몰트와 곡물의 달큰한 향이 어울리고 쌉쌀한 맛과 다양한 곡물의...</td>\n",
       "      <td>마튼즈</td>\n",
       "      <td>Martens</td>\n",
       "      <td>벨기에</td>\n",
       "      <td>Belgium</td>\n",
       "      <td>필스너</td>\n",
       "      <td>5850</td>\n",
       "    </tr>\n",
       "    <tr>\n",
       "      <th>1</th>\n",
       "      <td>1</td>\n",
       "      <td>마튼즈, 라이거 바이젠</td>\n",
       "      <td>Martens, Ligre Weizen</td>\n",
       "      <td>6.5</td>\n",
       "      <td>-</td>\n",
       "      <td>-</td>\n",
       "      <td>-</td>\n",
       "      <td>-</td>\n",
       "      <td>밀을 이용해 만든 밀맥주이며, 상면발효 방식으로 양조했다. 부드러운 질감이 매력적이...</td>\n",
       "      <td>마튼즈</td>\n",
       "      <td>Martens</td>\n",
       "      <td>벨기에</td>\n",
       "      <td>Belgium</td>\n",
       "      <td>바이젠</td>\n",
       "      <td>5850</td>\n",
       "    </tr>\n",
       "    <tr>\n",
       "      <th>2</th>\n",
       "      <td>2</td>\n",
       "      <td>메나브레아 필스</td>\n",
       "      <td>Menabrea Pils</td>\n",
       "      <td>5.2</td>\n",
       "      <td>-</td>\n",
       "      <td>-</td>\n",
       "      <td>-</td>\n",
       "      <td>-</td>\n",
       "      <td>알프스 산맥의 깨끗한 경수를 사용하여 만든 황금빛의 필스너 맥주이다. 프리미엄 홉을...</td>\n",
       "      <td>메나브레아</td>\n",
       "      <td>Menabrea</td>\n",
       "      <td>이탈리아</td>\n",
       "      <td>Italy</td>\n",
       "      <td>필스너</td>\n",
       "      <td>-</td>\n",
       "    </tr>\n",
       "    <tr>\n",
       "      <th>3</th>\n",
       "      <td>3</td>\n",
       "      <td>민타임, 런던 라거</td>\n",
       "      <td>Meantime, London Lager</td>\n",
       "      <td>4.5</td>\n",
       "      <td>-</td>\n",
       "      <td>-</td>\n",
       "      <td>-</td>\n",
       "      <td>-</td>\n",
       "      <td>MEANTIME 런던 라거는 영국 라거의 정수를 보여주기 위해 브루마스터 알라스테어...</td>\n",
       "      <td>민타임</td>\n",
       "      <td>Meantime</td>\n",
       "      <td>영국</td>\n",
       "      <td>U.K</td>\n",
       "      <td>라거</td>\n",
       "      <td>6500</td>\n",
       "    </tr>\n",
       "    <tr>\n",
       "      <th>4</th>\n",
       "      <td>4</td>\n",
       "      <td>민타임, 런던 페일 에일</td>\n",
       "      <td>Meantime, London Pale Ale</td>\n",
       "      <td>4.3</td>\n",
       "      <td>-</td>\n",
       "      <td>-</td>\n",
       "      <td>-</td>\n",
       "      <td>-</td>\n",
       "      <td>약 150여 년전 런던의 양조장들이 캘리포니아산 홉을 수입했던 전통을 살리기 위해 ...</td>\n",
       "      <td>민타임</td>\n",
       "      <td>Meantime</td>\n",
       "      <td>영국</td>\n",
       "      <td>U.K</td>\n",
       "      <td>페일 에일</td>\n",
       "      <td>6500</td>\n",
       "    </tr>\n",
       "  </tbody>\n",
       "</table>\n",
       "</div>"
      ],
      "text/plain": [
       "   num        상품명_kor                    상품명_eng   도수 원재료 홉종류 IBU SRM  \\\n",
       "0    0   마튼즈, 라이거 필스너     Martens, Ligre Pilsner    8   -   -   -   -   \n",
       "1    1   마튼즈, 라이거 바이젠      Martens, Ligre Weizen  6.5   -   -   -   -   \n",
       "2    2       메나브레아 필스              Menabrea Pils  5.2   -   -   -   -   \n",
       "3    3     민타임, 런던 라거     Meantime, London Lager  4.5   -   -   -   -   \n",
       "4    4  민타임, 런던 페일 에일  Meantime, London Pale Ale  4.3   -   -   -   -   \n",
       "\n",
       "                                                  정보 생산자_kor   생산자_eng  \\\n",
       "0  홉의 신선한 아로마와 몰트와 곡물의 달큰한 향이 어울리고 쌉쌀한 맛과 다양한 곡물의...     마튼즈   Martens   \n",
       "1  밀을 이용해 만든 밀맥주이며, 상면발효 방식으로 양조했다. 부드러운 질감이 매력적이...     마튼즈   Martens   \n",
       "2  알프스 산맥의 깨끗한 경수를 사용하여 만든 황금빛의 필스너 맥주이다. 프리미엄 홉을...   메나브레아  Menabrea   \n",
       "3  MEANTIME 런던 라거는 영국 라거의 정수를 보여주기 위해 브루마스터 알라스테어...     민타임  Meantime   \n",
       "4  약 150여 년전 런던의 양조장들이 캘리포니아산 홉을 수입했던 전통을 살리기 위해 ...     민타임  Meantime   \n",
       "\n",
       "  생산지역_kor 생산지역_eng   맥주타입    가격  \n",
       "0      벨기에  Belgium    필스너  5850  \n",
       "1      벨기에  Belgium    바이젠  5850  \n",
       "2     이탈리아    Italy    필스너     -  \n",
       "3       영국      U.K     라거  6500  \n",
       "4       영국      U.K  페일 에일  6500  "
      ]
     },
     "execution_count": 133,
     "metadata": {},
     "output_type": "execute_result"
    }
   ],
   "source": [
    "data.head(5)"
   ]
  },
  {
   "cell_type": "markdown",
   "metadata": {},
   "source": [
    "### 분석용 데이터로 저장\n",
    "웹사이트에 업로드할 데이터로 쓰기에는 부적합함.<br>\n",
    "업로드용으로는 따로 전처리하여 사용하는 것이 좋을듯"
   ]
  },
  {
   "cell_type": "code",
   "execution_count": 134,
   "metadata": {},
   "outputs": [],
   "source": [
    "data.to_csv('../data/beer4EDA.csv', encoding='utf-8-sig',index=False)"
   ]
  },
  {
   "cell_type": "code",
   "execution_count": null,
   "metadata": {},
   "outputs": [],
   "source": []
  }
 ],
 "metadata": {
  "kernelspec": {
   "display_name": "Python 3",
   "language": "python",
   "name": "python3"
  },
  "language_info": {
   "codemirror_mode": {
    "name": "ipython",
    "version": 3
   },
   "file_extension": ".py",
   "mimetype": "text/x-python",
   "name": "python",
   "nbconvert_exporter": "python",
   "pygments_lexer": "ipython3",
   "version": "3.6.9"
  }
 },
 "nbformat": 4,
 "nbformat_minor": 2
}
