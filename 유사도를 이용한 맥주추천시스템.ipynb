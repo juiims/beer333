{
 "cells": [
  {
   "cell_type": "markdown",
   "metadata": {},
   "source": [
    "# K-means에 따른 맥주추천 (Train, Test를 이용한 검증)"
   ]
  },
  {
   "cell_type": "markdown",
   "metadata": {},
   "source": [
    "1. 사용자가 호감을 표시한 맥주의 정보를 가져온다.\n",
    "2. 호감 맥주의 유사도를 계산한다. (0,1로 나눈 각각의 범주에서 더 많은 숫자를 채택)\n",
    "3. 호감맥주 유사도를 기준으로 가장 비슷한 맥주를 추천한다."
   ]
  },
  {
   "cell_type": "code",
   "execution_count": 302,
   "metadata": {},
   "outputs": [],
   "source": [
    "from sklearn import datasets\n",
    "import matplotlib.pyplot as plt\n",
    "import pandas as pd\n",
    "from sklearn.cluster import KMeans"
   ]
  },
  {
   "cell_type": "markdown",
   "metadata": {},
   "source": [
    "# 데이터 불러오기"
   ]
  },
  {
   "cell_type": "code",
   "execution_count": 303,
   "metadata": {},
   "outputs": [],
   "source": [
    "train = pd.read_csv(\"../data/beer4REC_train.csv\",encoding='utf-8')\n",
    "test = pd.read_csv(\"../data/beer4REC_test.csv\",encoding='utf-8')"
   ]
  },
  {
   "cell_type": "markdown",
   "metadata": {},
   "source": [
    "# 사용자 맥주성향 알아보기"
   ]
  },
  {
   "cell_type": "code",
   "execution_count": 304,
   "metadata": {},
   "outputs": [],
   "source": [
    "import numpy as np\n",
    "import pandas as pd"
   ]
  },
  {
   "cell_type": "code",
   "execution_count": 305,
   "metadata": {},
   "outputs": [
    {
     "data": {
      "text/html": [
       "<div>\n",
       "<style scoped>\n",
       "    .dataframe tbody tr th:only-of-type {\n",
       "        vertical-align: middle;\n",
       "    }\n",
       "\n",
       "    .dataframe tbody tr th {\n",
       "        vertical-align: top;\n",
       "    }\n",
       "\n",
       "    .dataframe thead th {\n",
       "        text-align: right;\n",
       "    }\n",
       "</style>\n",
       "<table border=\"1\" class=\"dataframe\">\n",
       "  <thead>\n",
       "    <tr style=\"text-align: right;\">\n",
       "      <th></th>\n",
       "      <th>도수(상)</th>\n",
       "      <th>도수(중)</th>\n",
       "      <th>도수(하)</th>\n",
       "      <th>정제수</th>\n",
       "      <th>보리맥아</th>\n",
       "      <th>귀리맥아</th>\n",
       "      <th>설탕</th>\n",
       "      <th>스페인감초분말</th>\n",
       "      <th>호프</th>\n",
       "      <th>효모</th>\n",
       "      <th>...</th>\n",
       "      <th>헤페바이스 둔켈</th>\n",
       "      <th>헤페바이젠</th>\n",
       "      <th>헤페바이젠 + 도펠 복</th>\n",
       "      <th>헬레스 라거</th>\n",
       "      <th>호피 세션 세종</th>\n",
       "      <th>호피 필스너</th>\n",
       "      <th>화이트 에일</th>\n",
       "      <th>가격(상)</th>\n",
       "      <th>가격(하)</th>\n",
       "      <th>상품명</th>\n",
       "    </tr>\n",
       "  </thead>\n",
       "  <tbody>\n",
       "    <tr>\n",
       "      <th>1130</th>\n",
       "      <td>0</td>\n",
       "      <td>1</td>\n",
       "      <td>0</td>\n",
       "      <td>0</td>\n",
       "      <td>0</td>\n",
       "      <td>0</td>\n",
       "      <td>0</td>\n",
       "      <td>0</td>\n",
       "      <td>0</td>\n",
       "      <td>0</td>\n",
       "      <td>...</td>\n",
       "      <td>0</td>\n",
       "      <td>0</td>\n",
       "      <td>0</td>\n",
       "      <td>0</td>\n",
       "      <td>0</td>\n",
       "      <td>0</td>\n",
       "      <td>0</td>\n",
       "      <td>1</td>\n",
       "      <td>0</td>\n",
       "      <td>더 미스트레스 세종</td>\n",
       "    </tr>\n",
       "    <tr>\n",
       "      <th>1131</th>\n",
       "      <td>0</td>\n",
       "      <td>1</td>\n",
       "      <td>0</td>\n",
       "      <td>0</td>\n",
       "      <td>0</td>\n",
       "      <td>0</td>\n",
       "      <td>0</td>\n",
       "      <td>0</td>\n",
       "      <td>0</td>\n",
       "      <td>0</td>\n",
       "      <td>...</td>\n",
       "      <td>0</td>\n",
       "      <td>0</td>\n",
       "      <td>0</td>\n",
       "      <td>0</td>\n",
       "      <td>0</td>\n",
       "      <td>0</td>\n",
       "      <td>0</td>\n",
       "      <td>1</td>\n",
       "      <td>0</td>\n",
       "      <td>로덴바흐 그랑 크루</td>\n",
       "    </tr>\n",
       "    <tr>\n",
       "      <th>1132</th>\n",
       "      <td>1</td>\n",
       "      <td>0</td>\n",
       "      <td>0</td>\n",
       "      <td>0</td>\n",
       "      <td>0</td>\n",
       "      <td>0</td>\n",
       "      <td>0</td>\n",
       "      <td>0</td>\n",
       "      <td>0</td>\n",
       "      <td>0</td>\n",
       "      <td>...</td>\n",
       "      <td>0</td>\n",
       "      <td>0</td>\n",
       "      <td>0</td>\n",
       "      <td>0</td>\n",
       "      <td>0</td>\n",
       "      <td>0</td>\n",
       "      <td>0</td>\n",
       "      <td>1</td>\n",
       "      <td>0</td>\n",
       "      <td>아벤티누스 아이스복</td>\n",
       "    </tr>\n",
       "    <tr>\n",
       "      <th>1133</th>\n",
       "      <td>0</td>\n",
       "      <td>1</td>\n",
       "      <td>0</td>\n",
       "      <td>1</td>\n",
       "      <td>1</td>\n",
       "      <td>0</td>\n",
       "      <td>0</td>\n",
       "      <td>0</td>\n",
       "      <td>0</td>\n",
       "      <td>1</td>\n",
       "      <td>...</td>\n",
       "      <td>0</td>\n",
       "      <td>0</td>\n",
       "      <td>0</td>\n",
       "      <td>0</td>\n",
       "      <td>0</td>\n",
       "      <td>0</td>\n",
       "      <td>0</td>\n",
       "      <td>1</td>\n",
       "      <td>0</td>\n",
       "      <td>바바리아 프리미엄</td>\n",
       "    </tr>\n",
       "  </tbody>\n",
       "</table>\n",
       "<p>4 rows × 937 columns</p>\n",
       "</div>"
      ],
      "text/plain": [
       "      도수(상)  도수(중)  도수(하)  정제수  보리맥아  귀리맥아  설탕  스페인감초분말  호프  효모  ...  \\\n",
       "1130      0      1      0    0     0     0   0        0   0   0  ...   \n",
       "1131      0      1      0    0     0     0   0        0   0   0  ...   \n",
       "1132      1      0      0    0     0     0   0        0   0   0  ...   \n",
       "1133      0      1      0    1     1     0   0        0   0   1  ...   \n",
       "\n",
       "      헤페바이스 둔켈  헤페바이젠  헤페바이젠 + 도펠 복  헬레스 라거  호피 세션 세종  호피 필스너  화이트 에일  가격(상)  \\\n",
       "1130         0      0             0       0         0       0       0      1   \n",
       "1131         0      0             0       0         0       0       0      1   \n",
       "1132         0      0             0       0         0       0       0      1   \n",
       "1133         0      0             0       0         0       0       0      1   \n",
       "\n",
       "      가격(하)         상품명  \n",
       "1130      0  더 미스트레스 세종  \n",
       "1131      0  로덴바흐 그랑 크루  \n",
       "1132      0  아벤티누스 아이스복  \n",
       "1133      0   바바리아 프리미엄  \n",
       "\n",
       "[4 rows x 937 columns]"
      ]
     },
     "execution_count": 305,
     "metadata": {},
     "output_type": "execute_result"
    }
   ],
   "source": [
    "test = train.iloc[1130:,:937]\n",
    "usr = train.iloc[1130:,:936]\n",
    "test"
   ]
  },
  {
   "cell_type": "markdown",
   "metadata": {},
   "source": [
    "# 회원의 선호데이터를 연산을 통하여 얻는다"
   ]
  },
  {
   "cell_type": "code",
   "execution_count": 342,
   "metadata": {},
   "outputs": [],
   "source": [
    "usr_info=[]\n",
    "for i in range(len(usr.columns)):\n",
    "    usr_info.append(usr.iloc[:,i].sum()/len(usr.iloc[:,i]))"
   ]
  },
  {
   "cell_type": "code",
   "execution_count": 343,
   "metadata": {},
   "outputs": [],
   "source": [
    "usr_info = np.reshape(usr_info,(1,936))"
   ]
  },
  {
   "cell_type": "code",
   "execution_count": 344,
   "metadata": {},
   "outputs": [],
   "source": [
    "columns = usr.columns"
   ]
  },
  {
   "cell_type": "code",
   "execution_count": 345,
   "metadata": {},
   "outputs": [],
   "source": [
    "usr_info = pd.DataFrame(data=usr_info,columns=columns)"
   ]
  },
  {
   "cell_type": "code",
   "execution_count": 346,
   "metadata": {},
   "outputs": [
    {
     "data": {
      "text/html": [
       "<div>\n",
       "<style scoped>\n",
       "    .dataframe tbody tr th:only-of-type {\n",
       "        vertical-align: middle;\n",
       "    }\n",
       "\n",
       "    .dataframe tbody tr th {\n",
       "        vertical-align: top;\n",
       "    }\n",
       "\n",
       "    .dataframe thead th {\n",
       "        text-align: right;\n",
       "    }\n",
       "</style>\n",
       "<table border=\"1\" class=\"dataframe\">\n",
       "  <thead>\n",
       "    <tr style=\"text-align: right;\">\n",
       "      <th></th>\n",
       "      <th>도수(상)</th>\n",
       "      <th>도수(중)</th>\n",
       "      <th>도수(하)</th>\n",
       "      <th>정제수</th>\n",
       "      <th>보리맥아</th>\n",
       "      <th>귀리맥아</th>\n",
       "      <th>설탕</th>\n",
       "      <th>스페인감초분말</th>\n",
       "      <th>호프</th>\n",
       "      <th>효모</th>\n",
       "      <th>...</th>\n",
       "      <th>카라멜색소</th>\n",
       "      <th>보리</th>\n",
       "      <th>홉추출물</th>\n",
       "      <th>유자피</th>\n",
       "      <th>체리</th>\n",
       "      <th>라즈베리</th>\n",
       "      <th>빌베리</th>\n",
       "      <th>엘더베리</th>\n",
       "      <th>스트로베리</th>\n",
       "      <th>허브</th>\n",
       "    </tr>\n",
       "  </thead>\n",
       "  <tbody>\n",
       "    <tr>\n",
       "      <th>0</th>\n",
       "      <td>0.25</td>\n",
       "      <td>0.75</td>\n",
       "      <td>0.0</td>\n",
       "      <td>0.25</td>\n",
       "      <td>0.25</td>\n",
       "      <td>0.0</td>\n",
       "      <td>0.0</td>\n",
       "      <td>0.0</td>\n",
       "      <td>0.0</td>\n",
       "      <td>0.25</td>\n",
       "      <td>...</td>\n",
       "      <td>0.0</td>\n",
       "      <td>0.0</td>\n",
       "      <td>0.0</td>\n",
       "      <td>0.0</td>\n",
       "      <td>0.0</td>\n",
       "      <td>0.0</td>\n",
       "      <td>0.0</td>\n",
       "      <td>0.0</td>\n",
       "      <td>0.0</td>\n",
       "      <td>0.0</td>\n",
       "    </tr>\n",
       "  </tbody>\n",
       "</table>\n",
       "<p>1 rows × 70 columns</p>\n",
       "</div>"
      ],
      "text/plain": [
       "   도수(상)  도수(중)  도수(하)   정제수  보리맥아  귀리맥아   설탕  스페인감초분말   호프    효모  ...  카라멜색소  \\\n",
       "0   0.25   0.75    0.0  0.25  0.25   0.0  0.0      0.0  0.0  0.25  ...    0.0   \n",
       "\n",
       "    보리  홉추출물  유자피   체리  라즈베리  빌베리  엘더베리  스트로베리   허브  \n",
       "0  0.0   0.0  0.0  0.0   0.0  0.0   0.0    0.0  0.0  \n",
       "\n",
       "[1 rows x 70 columns]"
      ]
     },
     "execution_count": 346,
     "metadata": {},
     "output_type": "execute_result"
    }
   ],
   "source": [
    "usr_info.iloc[:,:70]"
   ]
  },
  {
   "cell_type": "markdown",
   "metadata": {},
   "source": [
    "# train데이터를 학습한다."
   ]
  },
  {
   "cell_type": "code",
   "execution_count": 311,
   "metadata": {},
   "outputs": [],
   "source": [
    "km = KMeans(n_clusters=168, n_jobs=50, random_state=50)\n",
    "model=km.fit(train.iloc[:,:936])"
   ]
  },
  {
   "cell_type": "code",
   "execution_count": 312,
   "metadata": {},
   "outputs": [],
   "source": [
    "labels = model.labels_"
   ]
  },
  {
   "cell_type": "markdown",
   "metadata": {},
   "source": [
    "# 회원의 선호맥주 군집단을 추출한다"
   ]
  },
  {
   "cell_type": "code",
   "execution_count": 317,
   "metadata": {},
   "outputs": [],
   "source": [
    "model=km.predict(usr_info)"
   ]
  },
  {
   "cell_type": "code",
   "execution_count": 318,
   "metadata": {},
   "outputs": [
    {
     "data": {
      "text/plain": [
       "array([3])"
      ]
     },
     "execution_count": 318,
     "metadata": {},
     "output_type": "execute_result"
    }
   ],
   "source": [
    "model"
   ]
  },
  {
   "cell_type": "markdown",
   "metadata": {},
   "source": [
    "# 회원의 군집단을 바탕으로 상품을 추천한다"
   ]
  },
  {
   "cell_type": "code",
   "execution_count": 340,
   "metadata": {},
   "outputs": [],
   "source": [
    "추천상품=[]\n",
    "for i in range(len(labels)):\n",
    "    if (labels[i] == model):\n",
    "        추천상품.append(train['상품명'][i])"
   ]
  },
  {
   "cell_type": "code",
   "execution_count": 341,
   "metadata": {},
   "outputs": [
    {
     "data": {
      "text/plain": [
       "1130    더 미스트레스 세종\n",
       "1131    로덴바흐 그랑 크루\n",
       "1132    아벤티누스 아이스복\n",
       "1133     바바리아 프리미엄\n",
       "Name: 상품명, dtype: object"
      ]
     },
     "execution_count": 341,
     "metadata": {},
     "output_type": "execute_result"
    }
   ],
   "source": [
    "test['상품명']"
   ]
  },
  {
   "cell_type": "markdown",
   "metadata": {},
   "source": [
    "# 회원이 고른 상품목록 제거"
   ]
  },
  {
   "cell_type": "code",
   "execution_count": 336,
   "metadata": {},
   "outputs": [],
   "source": [
    "for i in range(len(test['상품명'])):\n",
    "    try:\n",
    "        추천상품.remove(test['상품명'].iloc[i])\n",
    "    except:\n",
    "        pass"
   ]
  },
  {
   "cell_type": "markdown",
   "metadata": {},
   "source": [
    "# 상품추천 목록"
   ]
  },
  {
   "cell_type": "code",
   "execution_count": 339,
   "metadata": {},
   "outputs": [
    {
     "data": {
      "text/plain": [
       "['에치고 필스너 ', '벡스', '베를린 킨들 필스너']"
      ]
     },
     "execution_count": 339,
     "metadata": {},
     "output_type": "execute_result"
    }
   ],
   "source": [
    "추천상품[:3]"
   ]
  }
 ],
 "metadata": {
  "kernelspec": {
   "display_name": "Python 3",
   "language": "python",
   "name": "python3"
  },
  "language_info": {
   "codemirror_mode": {
    "name": "ipython",
    "version": 3
   },
   "file_extension": ".py",
   "mimetype": "text/x-python",
   "name": "python",
   "nbconvert_exporter": "python",
   "pygments_lexer": "ipython3",
   "version": "3.6.9"
  }
 },
 "nbformat": 4,
 "nbformat_minor": 2
}
