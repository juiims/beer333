{
 "cells": [
  {
   "cell_type": "code",
   "execution_count": 90,
   "metadata": {},
   "outputs": [],
   "source": [
    "from sklearn import datasets\n",
    "import matplotlib.pyplot as plt\n",
    "import pandas as pd\n",
    "from sklearn.cluster import KMeans\n",
    "\n",
    "from sklearn.feature_extraction.text import TfidfVectorizer\n",
    "from sklearn.cluster import KMeans\n",
    "from sklearn.metrics import adjusted_rand_score"
   ]
  },
  {
   "cell_type": "markdown",
   "metadata": {},
   "source": [
    "# 한글문장이 담긴 리스트를 벡터화하기"
   ]
  },
  {
   "cell_type": "markdown",
   "metadata": {},
   "source": [
    "#### 각 맥주의 데이터(맥주타입,생산국가)를 comma단위로 나누어 리스트에 담았다.\n",
    "밑의 컬럼도 같이 합칠 예정\n",
    "- 도수 => 상/중/하 \n",
    "- 회사명"
   ]
  },
  {
   "cell_type": "code",
   "execution_count": 91,
   "metadata": {},
   "outputs": [],
   "source": [
    "documents=[\n",
    "'영국',\n",
    "'정제수, 보리홉, 옥수수, 홉, 홉추출물,프랑스,프랑스',\n",
    "'정제수, 보리홉, 홉, 효모,인도네시아,인도네시아',\n",
    "'인도네시아인도네시아',\n",
    "'베트남,베트남',\n",
    "'보스톤',\n",
    "'스페인',\n",
    "\"독일,독일\"\n",
    "\"독일,독일\"\n",
    "\"독일,독일\"\n",
    "\"정제수, 홉, 홉, 효모, 정제된 옥수수 녹말,멕시코\",\n",
    "'정제수, 홉, 홉, 효모, 정제된 옥수수 녹말,멕시코',\n",
    "'정제수, 보리홉, 효모, 홉,아잉',\n",
    "\"정제수, 홉, 곡류(옥수수), 홉, 효모,필리핀\",\n",
    "'정제수, 홉, 곡류(옥수수), 홉, 효모,필리핀',\n",
    "\"담양군,담양군\",\n",
    "\"담양군,담양군\",\n",
    "\"담양군\",\n",
    "\"정제수, 홉, 쌀, 홉당시럽, 홉, 효모,태국\",\n",
    "\"정제수, 홉, 홉, 효모, 시트러스향,엘런\",\n",
    "\"정제수, 보리홉, 보리, 홉, 홉 추출물, 효모,에스토니아\",\n",
    "\"정제수, 홉, 효모, 홉,리투아니아\",\n",
    "'정제수, 보리홉, 홉,작센',\n",
    "\"홉, 옥수수, 홉, 알프스경수, 효모,비엘라\",\n",
    "\"홉, 옥수수, 홉, 알프스경수, 효모,비엘라\",\n",
    "\"홉, 옥수수, 홉, 알프스경수, 효모,비엘라\",\n",
    "\"스페인\",\n",
    "\"엠리엘\",\n",
    "\"카일루아, 코나\",\n",
    "\"정제수, 홉, 홉, 쌀, 옥수수, 전분, 효모,삿포로\",\n",
    "\"정제수, 보리홉, 홉, 효모,삿포로\",\n",
    "\"정제수, 홉, 홉, 쌀, 옥수수, 전분, 효모,삿포로\",\n",
    "\"정제수, 보리홉, 홉, 홉추출물,크롬바크\",\n",
    "\"홉, 홉, 홉추출물, 정제수, 효모,브라운슈바이크\",\n",
    "\"정제수, 보리홉, 밀홉, 옥수수, 홉, 효모,로스앤젤레스\",\n",
    "\"정제수, 보리홉, 홉, 효모,이스탄불\",\n",
    "\"나카\",\n",
    "\"블래넘\",\n",
    "\"정제수, 보리 누룩, 홉, 홉, 효모,브레다\",\n",
    "'분다버그 ',\n",
    "'정제수, 홉, 홉, 보리, 옥수수, 옥수수전분, 증류주(보리), 효모,에히메',\n",
    "\"정제수, 홉(골든홉혼용), 옥수수전분, 보리, 옥수수, 홉, 증류주(보리), 효모,후쿠오카\",\n",
    "\"정제수, 홉, 옥수수전분, 홉추출물, 홉, 쌀, 옥수수, 효모,후쿠오카\",\n",
    "\"정제수, 홉, 옥수수전분, 효모, 홉, 옥수수, 쌀,후쿠오카\",\n",
    "\"프라이징\",\n",
    "\"정제수, 몰,트, 홉, 효모, 청포도즙,타이페이\",\n",
    "\"정제수, 몰트, 리치즙, 홉, 효모,타이페이\",\n",
    "\"정제수, 몰트, 홉, 효모, 자몽즙,타이페이\",\n",
    "\"정제수, 몰트, 홉, 효모, 파인애플즙,타이페이\",\n",
    "'정제수, 몰트, 망고즙, 홉, 효모,타이페이',\n",
    "\"정제수, 보리, 몰트, 홉, 효모,분지델\",\n",
    "\"방갈로드\",\n",
    "\"정제수, 보리홉, 홉추출물, 효모, 홉,글라스고우\",\n",
    "\"정제수, 홉, 홉, 효모,쿨름바흐\",\n",
    "\"정제수, 홉, 홉, 효모,쿨름바흐\",\n",
    "\"정제수, 몰트 , 홉, 효모,마르쓰\",\n",
    "\"정제수, 몰트 , 홉, 효모,세인트 존\",\n",
    "\"정제수, 홉, 쌀, 홉, 효모,장저\",\n",
    "\"샌디에고\",\n",
    "\"정제수, 효모, 홉, 몰트, 카라멜토피,샌디에고\",\n",
    "\"정제수, 밀, 몰트, 쌀, 홉, 효모,니시칸바라\",\n",
    "\"정제수, 몰트 , 홉, 효모,아페키오\",\n",
    "\"보홀트\",\n",
    "\"보홀트,보홀트\",\n",
    "\"보홀트,보홀트\",\n",
    "\"보홀트,보홀트\",\n",
    "'정제수, 보리 홉, 홉, 효모,산 호세',\n",
    "'정제수, 보리, 홉, 홉, 효모, 밤베르크',\n",
    "]"
   ]
  },
  {
   "cell_type": "markdown",
   "metadata": {},
   "source": [
    "max_features는 분류의 기준이 될 단어의 개수를 의미한다"
   ]
  },
  {
   "cell_type": "code",
   "execution_count": 92,
   "metadata": {},
   "outputs": [],
   "source": [
    "tfidf = TfidfVectorizer(max_features =50, max_df=6, min_df=1)\n",
    "A_tfidf_sp = tfidf.fit_transform(documents)"
   ]
  },
  {
   "cell_type": "markdown",
   "metadata": {},
   "source": [
    "다음 출력된 단어의 기준에 따라 분류된다."
   ]
  },
  {
   "cell_type": "code",
   "execution_count": 93,
   "metadata": {},
   "outputs": [
    {
     "name": "stdout",
     "output_type": "stream",
     "text": [
      "['곡류', '골든홉혼용', '글라스고우', '나카', '녹말', '누룩', '니시칸바라', '담양군', '독일', '독일독일', '멕시코', '밀홉', '밤베르크', '베트남', '보스톤', '보홀트', '분다버그', '분지델', '비엘라', '삿포로', '샌디에고', '스페인', '알프스경수', '옥수수전분', '이스탄불', '인도네시아', '인도네시아인도네시아', '자몽즙', '작센', '장저', '전분', '정제된', '증류주', '청포도즙', '추출물', '카라멜토피', '카일루아', '코나', '쿨름바흐', '크롬바크', '타이페이', '태국', '파인애플즙', '프라이징', '프랑스', '필리핀', '호세', '홉당시럽', '홉추출물', '후쿠오카']\n"
     ]
    }
   ],
   "source": [
    "tfidf_dict = tfidf.get_feature_names()\n",
    "print(tfidf_dict)"
   ]
  },
  {
   "cell_type": "code",
   "execution_count": 94,
   "metadata": {},
   "outputs": [
    {
     "data": {
      "text/plain": [
       "(65, 50)"
      ]
     },
     "execution_count": 94,
     "metadata": {},
     "output_type": "execute_result"
    }
   ],
   "source": [
    "data_array = A_tfidf_sp.toarray()\n",
    "data = pd.DataFrame(data_array, columns=tfidf_dict)\n",
    "data.shape"
   ]
  },
  {
   "cell_type": "code",
   "execution_count": 95,
   "metadata": {},
   "outputs": [
    {
     "data": {
      "text/plain": [
       "KMeans(algorithm='auto', copy_x=True, init='k-means++', max_iter=50,\n",
       "       n_clusters=10, n_init=10, n_jobs=None, precompute_distances='auto',\n",
       "       random_state=None, tol=0.0001, verbose=0)"
      ]
     },
     "execution_count": 95,
     "metadata": {},
     "output_type": "execute_result"
    }
   ],
   "source": [
    "true_k = 10\n",
    "model = KMeans(n_clusters=true_k, init='k-means++', max_iter=50, n_init=10)\n",
    "model.fit(A_tfidf_sp)"
   ]
  },
  {
   "cell_type": "code",
   "execution_count": 96,
   "metadata": {},
   "outputs": [
    {
     "data": {
      "text/plain": [
       "array([0, 0, 0, 0, 0, 0, 0, 0, 0, 0, 0, 0, 4, 4, 4, 0, 0, 0, 0, 0, 5, 5,\n",
       "       5, 0, 0, 0, 7, 7, 7, 6, 6, 0, 0, 0, 0, 0, 0, 9, 9, 9, 9, 0, 1, 1,\n",
       "       1, 1, 1, 0, 0, 6, 3, 3, 0, 0, 0, 8, 8, 0, 0, 2, 2, 2, 2, 0, 0])"
      ]
     },
     "execution_count": 96,
     "metadata": {},
     "output_type": "execute_result"
    }
   ],
   "source": [
    "model.labels_"
   ]
  },
  {
   "cell_type": "markdown",
   "metadata": {},
   "source": [
    "분류기준 1에 의해 나뉨"
   ]
  },
  {
   "cell_type": "code",
   "execution_count": 97,
   "metadata": {},
   "outputs": [
    {
     "data": {
      "text/plain": [
       "['영국',\n",
       " '정제수, 보리홉, 옥수수, 홉, 홉추출물,프랑스,프랑스',\n",
       " '정제수, 보리홉, 홉, 효모,인도네시아,인도네시아',\n",
       " '인도네시아인도네시아',\n",
       " '베트남,베트남',\n",
       " '보스톤',\n",
       " '스페인',\n",
       " '독일,독일독일,독일독일,독일정제수, 홉, 홉, 효모, 정제된 옥수수 녹말,멕시코',\n",
       " '정제수, 홉, 홉, 효모, 정제된 옥수수 녹말,멕시코',\n",
       " '정제수, 보리홉, 효모, 홉,아잉',\n",
       " '정제수, 홉, 곡류(옥수수), 홉, 효모,필리핀',\n",
       " '정제수, 홉, 곡류(옥수수), 홉, 효모,필리핀',\n",
       " '정제수, 홉, 쌀, 홉당시럽, 홉, 효모,태국',\n",
       " '정제수, 홉, 홉, 효모, 시트러스향,엘런',\n",
       " '정제수, 보리홉, 보리, 홉, 홉 추출물, 효모,에스토니아',\n",
       " '정제수, 홉, 효모, 홉,리투아니아',\n",
       " '정제수, 보리홉, 홉,작센',\n",
       " '스페인',\n",
       " '엠리엘',\n",
       " '카일루아, 코나',\n",
       " '정제수, 보리홉, 밀홉, 옥수수, 홉, 효모,로스앤젤레스',\n",
       " '정제수, 보리홉, 홉, 효모,이스탄불',\n",
       " '나카',\n",
       " '블래넘',\n",
       " '정제수, 보리 누룩, 홉, 홉, 효모,브레다',\n",
       " '분다버그 ',\n",
       " '프라이징',\n",
       " '정제수, 보리, 몰트, 홉, 효모,분지델',\n",
       " '방갈로드',\n",
       " '정제수, 몰트 , 홉, 효모,마르쓰',\n",
       " '정제수, 몰트 , 홉, 효모,세인트 존',\n",
       " '정제수, 홉, 쌀, 홉, 효모,장저',\n",
       " '정제수, 밀, 몰트, 쌀, 홉, 효모,니시칸바라',\n",
       " '정제수, 몰트 , 홉, 효모,아페키오',\n",
       " '정제수, 보리 홉, 홉, 효모,산 호세',\n",
       " '정제수, 보리, 홉, 홉, 효모, 밤베르크']"
      ]
     },
     "execution_count": 97,
     "metadata": {},
     "output_type": "execute_result"
    }
   ],
   "source": [
    "[x for x, y in zip(documents, model.labels_) if y ==0 ]"
   ]
  },
  {
   "cell_type": "markdown",
   "metadata": {},
   "source": [
    "분류기준 2에 의해 나뉨"
   ]
  },
  {
   "cell_type": "code",
   "execution_count": 98,
   "metadata": {},
   "outputs": [
    {
     "data": {
      "text/plain": [
       "['정제수, 몰,트, 홉, 효모, 청포도즙,타이페이',\n",
       " '정제수, 몰트, 리치즙, 홉, 효모,타이페이',\n",
       " '정제수, 몰트, 홉, 효모, 자몽즙,타이페이',\n",
       " '정제수, 몰트, 홉, 효모, 파인애플즙,타이페이',\n",
       " '정제수, 몰트, 망고즙, 홉, 효모,타이페이']"
      ]
     },
     "execution_count": 98,
     "metadata": {},
     "output_type": "execute_result"
    }
   ],
   "source": [
    "[x for x, y in zip(documents, model.labels_) if y ==1]"
   ]
  },
  {
   "cell_type": "markdown",
   "metadata": {},
   "source": [
    "분류기준 3에 의해 나뉨"
   ]
  },
  {
   "cell_type": "code",
   "execution_count": 99,
   "metadata": {},
   "outputs": [
    {
     "data": {
      "text/plain": [
       "['보홀트', '보홀트,보홀트', '보홀트,보홀트', '보홀트,보홀트']"
      ]
     },
     "execution_count": 99,
     "metadata": {},
     "output_type": "execute_result"
    }
   ],
   "source": [
    "[x for x, y in zip(documents, model.labels_) if y ==2]"
   ]
  },
  {
   "cell_type": "markdown",
   "metadata": {},
   "source": [
    "분류기준 4에 의해 나뉨"
   ]
  },
  {
   "cell_type": "code",
   "execution_count": 100,
   "metadata": {},
   "outputs": [
    {
     "data": {
      "text/plain": [
       "['정제수, 홉, 홉, 효모,쿨름바흐', '정제수, 홉, 홉, 효모,쿨름바흐']"
      ]
     },
     "execution_count": 100,
     "metadata": {},
     "output_type": "execute_result"
    }
   ],
   "source": [
    "[x for x, y in zip(documents, model.labels_) if y ==3]"
   ]
  },
  {
   "cell_type": "markdown",
   "metadata": {},
   "source": [
    "분류기준 5에 의해 나뉨"
   ]
  },
  {
   "cell_type": "code",
   "execution_count": 101,
   "metadata": {},
   "outputs": [
    {
     "data": {
      "text/plain": [
       "['담양군,담양군', '담양군,담양군', '담양군']"
      ]
     },
     "execution_count": 101,
     "metadata": {},
     "output_type": "execute_result"
    }
   ],
   "source": [
    "[x for x, y in zip(documents, model.labels_) if y ==4]"
   ]
  },
  {
   "cell_type": "markdown",
   "metadata": {},
   "source": [
    "분류기준 6에 의해 나뉨"
   ]
  },
  {
   "cell_type": "code",
   "execution_count": 102,
   "metadata": {},
   "outputs": [
    {
     "data": {
      "text/plain": [
       "['정제수, 보리홉, 홉, 홉추출물,크롬바크',\n",
       " '홉, 홉, 홉추출물, 정제수, 효모,브라운슈바이크',\n",
       " '정제수, 보리홉, 홉추출물, 효모, 홉,글라스고우']"
      ]
     },
     "execution_count": 102,
     "metadata": {},
     "output_type": "execute_result"
    }
   ],
   "source": [
    "[x for x, y in zip(documents, model.labels_) if y ==6]"
   ]
  },
  {
   "cell_type": "markdown",
   "metadata": {},
   "source": [
    "분류기준 7에 의해 나뉨"
   ]
  },
  {
   "cell_type": "code",
   "execution_count": 103,
   "metadata": {},
   "outputs": [
    {
     "data": {
      "text/plain": [
       "['정제수, 홉, 홉, 쌀, 옥수수, 전분, 효모,삿포로',\n",
       " '정제수, 보리홉, 홉, 효모,삿포로',\n",
       " '정제수, 홉, 홉, 쌀, 옥수수, 전분, 효모,삿포로']"
      ]
     },
     "execution_count": 103,
     "metadata": {},
     "output_type": "execute_result"
    }
   ],
   "source": [
    "[x for x, y in zip(documents, model.labels_) if y ==7]"
   ]
  },
  {
   "cell_type": "markdown",
   "metadata": {},
   "source": [
    "분류기준 8에 의해 나뉨"
   ]
  },
  {
   "cell_type": "code",
   "execution_count": 104,
   "metadata": {},
   "outputs": [
    {
     "data": {
      "text/plain": [
       "['샌디에고', '정제수, 효모, 홉, 몰트, 카라멜토피,샌디에고']"
      ]
     },
     "execution_count": 104,
     "metadata": {},
     "output_type": "execute_result"
    }
   ],
   "source": [
    "[x for x, y in zip(documents, model.labels_) if y ==8]"
   ]
  },
  {
   "cell_type": "markdown",
   "metadata": {},
   "source": [
    "분류기준 9에 의해 나뉨"
   ]
  },
  {
   "cell_type": "code",
   "execution_count": 105,
   "metadata": {},
   "outputs": [
    {
     "data": {
      "text/plain": [
       "['정제수, 홉, 홉, 보리, 옥수수, 옥수수전분, 증류주(보리), 효모,에히메',\n",
       " '정제수, 홉(골든홉혼용), 옥수수전분, 보리, 옥수수, 홉, 증류주(보리), 효모,후쿠오카',\n",
       " '정제수, 홉, 옥수수전분, 홉추출물, 홉, 쌀, 옥수수, 효모,후쿠오카',\n",
       " '정제수, 홉, 옥수수전분, 효모, 홉, 옥수수, 쌀,후쿠오카']"
      ]
     },
     "execution_count": 105,
     "metadata": {},
     "output_type": "execute_result"
    }
   ],
   "source": [
    "[x for x, y in zip(documents, model.labels_) if y ==9]"
   ]
  },
  {
   "cell_type": "markdown",
   "metadata": {},
   "source": [
    "분류기준 10에 의해 나뉨"
   ]
  },
  {
   "cell_type": "code",
   "execution_count": 106,
   "metadata": {},
   "outputs": [
    {
     "data": {
      "text/plain": [
       "[]"
      ]
     },
     "execution_count": 106,
     "metadata": {},
     "output_type": "execute_result"
    }
   ],
   "source": [
    "[x for x, y in zip(documents, model.labels_) if y ==10]"
   ]
  },
  {
   "cell_type": "code",
   "execution_count": null,
   "metadata": {},
   "outputs": [],
   "source": []
  },
  {
   "cell_type": "code",
   "execution_count": null,
   "metadata": {},
   "outputs": [],
   "source": []
  }
 ],
 "metadata": {
  "kernelspec": {
   "display_name": "Python 3",
   "language": "python",
   "name": "python3"
  },
  "language_info": {
   "codemirror_mode": {
    "name": "ipython",
    "version": 3
   },
   "file_extension": ".py",
   "mimetype": "text/x-python",
   "name": "python",
   "nbconvert_exporter": "python",
   "pygments_lexer": "ipython3",
   "version": "3.6.9"
  }
 },
 "nbformat": 4,
 "nbformat_minor": 2
}
