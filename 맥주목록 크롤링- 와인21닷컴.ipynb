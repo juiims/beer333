{
 "cells": [
  {
   "cell_type": "markdown",
   "metadata": {},
   "source": [
    "<strong>맥주프로젝트를 사용할 맥주리스트를 크롤링하자.</strong><br>\n",
    "\n",
    "http://www.wine21.com/13_search/beer_list.html#view<br><br>\n",
    "<strong>해당 사이트를 알아낸 경위</strong><br><br>\n",
    "데이터를 수집할 만한 사이트를 찾기는 쉬운 일이 아니다.<br>\n",
    "하지만 항상 방법은 있었다. <br>\n",
    "이번 경우에는 국내에서 판매 중인 해외맥주를 찾기 어려웠다.<br>\n",
    "그래서 마트에서 직접 데이터를 수집했다. 그리고 다시 인터넷으로 마트에서 수집했던 데이터를 인터넷에 검색해봤다.<br>\n",
    "만약 해당 맥주의 목록이 있는 사이트라면 다른 맥주들도 많을테니 그것을 크롤링하면 되니까!"
   ]
  },
  {
   "cell_type": "markdown",
   "metadata": {},
   "source": [
    "홈페이지 구성<br>\n",
    "1. 사진은 사이트 내 고유로고가 들어있다. 사용이 어려울거  같다.<br>\n",
    "(만약 팀원들이 허락한다면 O.K)\n",
    "2. 생산국가, 맥주이름, 가격, 맥주종류가 모두 목록화되어 있다.(크롤링하기 좋음)\n",
    "    - 한글 / 영문 모두 존재한다.\n",
    "3. 한 페이지 내에 총 100건의 맥주를 보여주며, 총 1317건의 맥주리스트가 있다.\n",
    "    - 페이지 간 이동이 hidden으로 처리되어 1 > 2 > ... > 14 페이지를 자동으로 넘기는데 한계가 있다."
   ]
  },
  {
   "cell_type": "markdown",
   "metadata": {},
   "source": [
    "## 공통 코드"
   ]
  },
  {
   "cell_type": "code",
   "execution_count": 17,
   "metadata": {},
   "outputs": [],
   "source": [
    "# a는 마지막 페이지번호를 입력\n",
    "def source_crawler(page):\n",
    "    # 필요한 라이브러리 임포트\n",
    "    from bs4 import BeautifulSoup\n",
    "    from urllib.request import urlopen, Request\n",
    "\n",
    "    from selenium import webdriver\n",
    "    from selenium.webdriver.common.keys import Keys\n",
    "    from selenium.webdriver.support.ui import WebDriverWait\n",
    "    from selenium.webdriver.support import expected_conditions as EC\n",
    "    from selenium.webdriver.common.by import By\n",
    "\n",
    "    from bs4 import BeautifulSoup\n",
    "    import time\n",
    "\n",
    "    # selenium을 이용하여 웹페이지 소스 긁어오기\n",
    "    chrome_driver = 'C:/Users/JIn/Documents/chromedriver' \n",
    "\n",
    "    # 크롤링할 url\n",
    "    target_url = 'https://www.wine21.com/13_search/beer_list.html#List'\n",
    "    \n",
    "    page = page-1\n",
    "    soup = []\n",
    "    \n",
    "    # 첫 번째 페이지 열기\n",
    "    driver = webdriver.Chrome(chrome_driver)\n",
    "    driver.get(target_url)\n",
    "\n",
    "    # 목록 수 100개 설정 \n",
    "    driver.find_element_by_xpath(\"//select/option[@value='100']\").click()\n",
    "\n",
    "    # 페이지소스 저장\n",
    "    src = driver.page_source\n",
    "    soup.append(BeautifulSoup(src))\n",
    "    \n",
    "    driver.close()\n",
    "        \n",
    "    for i in range(page):\n",
    "\n",
    "        # 페이지 열기\n",
    "        driver = webdriver.Chrome(chrome_driver)\n",
    "        driver.get(target_url)\n",
    "\n",
    "        # 목록 수 100개 설정 \n",
    "        driver.find_element_by_xpath(\"//select/option[@value='100']\").click()\n",
    "\n",
    "        # 페이지 전환\n",
    "        page = driver.find_elements_by_xpath('//div[@class=\"pagenate ver_web\"]/a')\n",
    "        page[i].click()\n",
    "\n",
    "        # 페이지소스 저장\n",
    "        src = driver.page_source\n",
    "        soup.append(BeautifulSoup(src))\n",
    "\n",
    "        driver.close()\n",
    "\n",
    "    return soup"
   ]
  },
  {
   "cell_type": "code",
   "execution_count": 58,
   "metadata": {},
   "outputs": [],
   "source": [
    "def beer_mining(source):\n",
    "    import pandas as pd\n",
    "\n",
    "    생산자_kor=[]\n",
    "    생산자_eng=[]\n",
    "    생산지역_kor=[]\n",
    "    생산지역_eng=[]\n",
    "    상품명_eng=[]\n",
    "    상품명_kor=[]\n",
    "    맥주타입=[]\n",
    "    가격=[]\n",
    "\n",
    "    for i in range(len(source)):\n",
    "        stone=source[i].findAll(\"div\",{\"class\":\"column_detail1\"})\n",
    "        for j in range(len(source[i].findAll(\"h4\",\"name_ko\"))):\n",
    "            raw_text = stone[j].get_text()\n",
    "            생산자_kor.append(stone[j].findAll(\"span\")[0].get_text())\n",
    "            생산자_eng.append(stone[j].findAll(\"span\")[1].get_text())\n",
    "            생산지역_kor.append(stone[j].findAll(\"span\")[2].get_text())\n",
    "            생산지역_eng.append(stone[j].findAll(\"span\")[3].get_text())\n",
    "            상품명_eng.append(stone[j].findAll(\"span\")[4].get_text())\n",
    "            상품명_kor.append(stone[j].findAll(\"h4\",\"name_ko\")[0].get_text())\n",
    "            맥주타입.append(stone[j].em.get_text())\n",
    "            가격.append(stone[j].findAll(\"span\")[6].get_text())\n",
    "\n",
    "    return pd.DataFrame(list(zip(생산자_kor, 생산자_eng,생산지역_kor,생산지역_eng,상품명_eng,상품명_kor,맥주타입,가격)),\n",
    "                 columns =['생산자_kor', '생산자_eng','생산지역_kor','생산지역_eng','상품명_eng','상품명_kor','맥주타입','가격'])"
   ]
  },
  {
   "cell_type": "code",
   "execution_count": null,
   "metadata": {},
   "outputs": [],
   "source": [
    "# source = source_crawler(12)\n",
    "# dataset = beer_mining(source)"
   ]
  },
  {
   "cell_type": "code",
   "execution_count": 60,
   "metadata": {},
   "outputs": [],
   "source": [
    "df = beer_mining(source)\n",
    "df.to_csv('beer_list.csv', encoding='utf-8-sig')"
   ]
  },
  {
   "cell_type": "code",
   "execution_count": null,
   "metadata": {},
   "outputs": [],
   "source": []
  }
 ],
 "metadata": {
  "kernelspec": {
   "display_name": "Python 3",
   "language": "python",
   "name": "python3"
  },
  "language_info": {
   "codemirror_mode": {
    "name": "ipython",
    "version": 3
   },
   "file_extension": ".py",
   "mimetype": "text/x-python",
   "name": "python",
   "nbconvert_exporter": "python",
   "pygments_lexer": "ipython3",
   "version": "3.6.9"
  }
 },
 "nbformat": 4,
 "nbformat_minor": 2
}
